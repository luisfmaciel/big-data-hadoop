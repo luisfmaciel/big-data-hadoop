{
 "cells": [
  {
   "cell_type": "markdown",
   "id": "0c05c281",
   "metadata": {},
   "source": [
    "\n",
    "# Projeto de Bloco: Engenharia de Dados: Big Data\n",
    "---\n",
    "\n",
    "## **TP5**\n",
    "\n",
    "**Escolha 15 livros no idioma inglês e 15 livros no idioma português (totalizando 30 livros).**\n",
    "\n",
    "**Utilizando o Jupyter Notebook, com o interpretador do Apache Spark em Python, faremos as tarefas de ingestão, limpeza e normalização, e análise e mensuração dos tempos de execução dos textos escolhidos.**\n",
    "\n",
    "---\n",
    "\n",
    " - **Ingestão**\n",
    "    - Selecionar os 30 livros no formato Plain Text UTF-8\n",
    "    - Adicionar os arquivos no HDFS\n",
    "\n",
    "- **Limpeza e Normalização**\n",
    "    - Importação dos dados em DataFrames Spark\n",
    "    - Remoção de caracteres descartáveis\n",
    "    - Remoção de linha descartáveis\n",
    "    - Remoção de stop-words\n",
    "    - Aplicação de lematização\n",
    "    - Utilização de técnicas complementares, caso julgue necessário\n",
    "    - DataFrame unificado de informações dos 30 livros selecionados, com as seguintes colunas:\n",
    "        - Nome do Livro\n",
    "        - Idioma do Livro\n",
    "        - Número do Parágrafo (começando com o índice #1)\n",
    "        - Parágrafo Original (antes da limpeza e normalização)\n",
    "        - Conjunto de Palavras do Parágrafo (após limpeza e normalização)\n",
    "        - Outras colunas, caso julgue necessário\n",
    "\n",
    "\n",
    "### **Análise e Mensuração dos tempos**\n",
    "---\n",
    "Responder às seguintes perguntas:\n",
    "- Quantidade de palavras únicas utilizadas por livro\n",
    "- Quantidade de parágrafos e palavras não-únicas por parágrafo por livro\n",
    "- Identificar a palavra que mais aparece e a palavra que menos aparece por parágrafo por livro\n",
    "- Dos livros em inglês, selecionar as top-10 palavras que mais aparecem. Fazer o mesmo para os livros em português\n",
    "- Montar dois gráficos de linhas, um para os livros em inglês e o outro para os em português, com o eixo X sendo o índice dos parágrafos, o eixo Y sendo a quantidade de palavras únicas e a linha o livro em questão\n",
    "- Montar dois histogramas um para os livros em inglês e o outro para os em português, para análise da frequência de palavras dos livros\n",
    "- Exibir o tempo gasto no processamento de cada uma das respostas acima\n"
   ]
  },
  {
   "cell_type": "code",
   "execution_count": 3,
   "id": "29f75b2f",
   "metadata": {},
   "outputs": [],
   "source": [
    "import findspark\n",
    "findspark.init()\n",
    "from pyspark import SparkContext, SparkConf, SQLContext\n",
    "from pyspark.sql import SparkSession\n",
    "from pyspark.sql.functions import lit, col, sum, avg, row_number, max, regexp_replace, trim, split, array_contains, lower\n",
    "from pyspark.sql.types import StructType, StructField, IntegerType, StringType\n",
    "from pyspark.sql.window import Window\n",
    "from pyspark.ml.feature import StopWordsRemover\n",
    "from pathlib import Path"
   ]
  },
  {
   "cell_type": "code",
   "execution_count": 4,
   "id": "c429d3f4",
   "metadata": {},
   "outputs": [],
   "source": [
    "conf = SparkConf().setAppName(\"TP5\")\n",
    "sc = SparkContext(conf=conf)\n",
    "spark = SparkSession(sc)"
   ]
  },
  {
   "cell_type": "markdown",
   "id": "f1de1254",
   "metadata": {},
   "source": [
    "### Importação dos dados em DataFrames Spark"
   ]
  },
  {
   "cell_type": "code",
   "execution_count": 5,
   "id": "c26776c1",
   "metadata": {},
   "outputs": [
    {
     "name": "stdout",
     "output_type": "stream",
     "text": [
      "CPU times: user 18.7 ms, sys: 20.5 ms, total: 39.2 ms\n",
      "Wall time: 2.18 s\n"
     ]
    }
   ],
   "source": [
    "%%time\n",
    "! hadoop fs -put ../datasets/tp5"
   ]
  },
  {
   "cell_type": "code",
   "execution_count": 6,
   "id": "a16a40cd",
   "metadata": {},
   "outputs": [
    {
     "name": "stdout",
     "output_type": "stream",
     "text": [
      "Found 2 items\r\n",
      "drwxr-xr-x   - root supergroup          0 2023-06-24 18:30 hdfs://node-master:9000/user/root/.sparkStaging\r\n",
      "drwxr-xr-x   - root supergroup          0 2023-06-24 18:30 hdfs://node-master:9000/user/root/tp5\r\n"
     ]
    }
   ],
   "source": [
    "! hadoop fs -ls hdfs://node-master:9000/user/root"
   ]
  },
  {
   "cell_type": "code",
   "execution_count": 7,
   "id": "eafcccef",
   "metadata": {},
   "outputs": [
    {
     "name": "stdout",
     "output_type": "stream",
     "text": [
      "Found 20 items\r\n",
      "-rw-r--r--   2 root supergroup     270199 2023-06-24 18:30 hdfs://node-master:9000/user/root/tp5/At The Mountains of Madness by H. P. Lovecraft.txt\r\n",
      "-rw-r--r--   2 root supergroup     881691 2023-06-24 18:30 hdfs://node-master:9000/user/root/tp5/Dracula by Bram Stoker.txt\r\n",
      "-rw-r--r--   2 root supergroup      23527 2023-06-24 18:30 hdfs://node-master:9000/user/root/tp5/Elegia by Manuel Maria Barbosa du Bocage.txt\r\n",
      "-rw-r--r--   2 root supergroup     448609 2023-06-24 18:30 hdfs://node-master:9000/user/root/tp5/Frankenstein by Mary Wollstonecraft Shelley.txt\r\n",
      "-rw-r--r--   2 root supergroup      37440 2023-06-24 18:30 hdfs://node-master:9000/user/root/tp5/Improvisos de Bocage by Manuel Maria Barbosa du Bocage.txt\r\n",
      "-rw-r--r--   2 root supergroup     111420 2023-06-24 18:30 hdfs://node-master:9000/user/root/tp5/Medusa's coil by Zealia B. Bishop and H. P. Lovecraft.txt\r\n",
      "-rw-r--r--   2 root supergroup     241819 2023-06-24 18:30 hdfs://node-master:9000/user/root/tp5/Os jardins ou a arte de aformosear as paisagens Poema by Jacques Delille.txt\r\n",
      "-rw-r--r--   2 root supergroup     236967 2023-06-24 18:30 hdfs://node-master:9000/user/root/tp5/Poesias Eroticas, Burlescas, e Satyricas de M.M. de Barbosa du Bocage by Bocage.txt\r\n",
      "-rw-r--r--   2 root supergroup      31977 2023-06-24 18:30 hdfs://node-master:9000/user/root/tp5/Queixumes do Pastor Elmano Contra a Falsidade da Pastora Urselina by Bocage.txt\r\n",
      "-rw-r--r--   2 root supergroup      92047 2023-06-24 18:30 hdfs://node-master:9000/user/root/tp5/The Call of Cthulhu by H. P. Lovecraft.txt\r\n",
      "-rw-r--r--   2 root supergroup     240149 2023-06-24 18:30 hdfs://node-master:9000/user/root/tp5/The Castle of Otranto by Horace Walpole.txt\r\n",
      "-rw-r--r--   2 root supergroup      90778 2023-06-24 18:30 hdfs://node-master:9000/user/root/tp5/The Colour Out of Space by H. P. Lovecraft.txt\r\n",
      "-rw-r--r--   2 root supergroup      60167 2023-06-24 18:30 hdfs://node-master:9000/user/root/tp5/The Curse of Yig by Zealia B. Bishop and H. P. Lovecraft.txt\r\n",
      "-rw-r--r--   2 root supergroup      63259 2023-06-24 18:30 hdfs://node-master:9000/user/root/tp5/The Fall of the House of Usher by Edgar Allan Poe.txt\r\n",
      "-rw-r--r--   2 root supergroup      69149 2023-06-24 18:30 hdfs://node-master:9000/user/root/tp5/The Lurking Fear by H. P. Lovecraft.txt\r\n",
      "-rw-r--r--   2 root supergroup    1749951 2023-06-24 18:30 hdfs://node-master:9000/user/root/tp5/The Mysteries of Udolpho by Ann Ward Radcliffe.txt\r\n",
      "-rw-r--r--   2 root supergroup     504770 2023-06-24 18:30 hdfs://node-master:9000/user/root/tp5/The Phantom of the Opera by Gaston Leroux.txt\r\n",
      "-rw-r--r--   2 root supergroup      27036 2023-06-24 18:30 hdfs://node-master:9000/user/root/tp5/The Raven by Edgar Allan Poe.txt\r\n",
      "-rw-r--r--   2 root supergroup     163456 2023-06-24 18:30 hdfs://node-master:9000/user/root/tp5/The Strange Case of Dr. Jekyll and Mr. Hyde by Robert Louis Stevenson.txt\r\n",
      "-rw-r--r--   2 root supergroup     129937 2023-06-24 18:30 hdfs://node-master:9000/user/root/tp5/The Wendigo by Algernon Blackwood.txt\r\n"
     ]
    }
   ],
   "source": [
    "! hadoop fs -ls hdfs://node-master:9000/user/root/tp5"
   ]
  },
  {
   "cell_type": "markdown",
   "id": "95cc8a78",
   "metadata": {},
   "source": [
    "#### Contagem de linhas"
   ]
  },
  {
   "cell_type": "code",
   "execution_count": 8,
   "id": "94b4a41f",
   "metadata": {},
   "outputs": [],
   "source": [
    "def shape(df):\n",
    "    return (df.count(), len(df.columns))"
   ]
  },
  {
   "cell_type": "markdown",
   "id": "9f75327d",
   "metadata": {},
   "source": [
    "### Lendo os Arquivos"
   ]
  },
  {
   "cell_type": "code",
   "execution_count": 9,
   "id": "8cd836d1",
   "metadata": {},
   "outputs": [],
   "source": [
    "dataset_path = \"hdfs://node-master:9000/user/root/tp5\""
   ]
  },
  {
   "cell_type": "code",
   "execution_count": 10,
   "id": "c5aed7ac",
   "metadata": {},
   "outputs": [],
   "source": [
    "dfft_ = spark.read.format(\n",
    "    \"csv\"\n",
    ").option(\n",
    "    \"header\", \"false\"\n",
    ").schema(\n",
    "    StructType([StructField(\"full_text\", StringType(), True)])\n",
    ").load(\n",
    "    f\"{dataset_path}/*.txt\"\n",
    ")"
   ]
  },
  {
   "cell_type": "code",
   "execution_count": 11,
   "id": "7c735350",
   "metadata": {},
   "outputs": [
    {
     "data": {
      "text/plain": [
       "(87194, 1)"
      ]
     },
     "execution_count": 11,
     "metadata": {},
     "output_type": "execute_result"
    }
   ],
   "source": [
    "shape(dfft_)"
   ]
  },
  {
   "cell_type": "code",
   "execution_count": 12,
   "id": "7e72371e",
   "metadata": {},
   "outputs": [
    {
     "data": {
      "text/plain": [
       "[Row(full_text='The Project Gutenberg eBook of The Mysteries of Udolpho'),\n",
       " Row(full_text='This eBook is for the use of anyone anywhere in the United States and'),\n",
       " Row(full_text='most other parts of the world at no cost and with almost no restrictions'),\n",
       " Row(full_text='whatsoever. You may copy it'),\n",
       " Row(full_text='of the Project Gutenberg License included with this eBook or online at'),\n",
       " Row(full_text='www.gutenberg.org. If you are not located in the United States'),\n",
       " Row(full_text='will have to check the laws of the country where you are located before'),\n",
       " Row(full_text='using this eBook.'),\n",
       " Row(full_text='Title: The Mysteries of Udolpho'),\n",
       " Row(full_text='Author: Ann Radcliffe'),\n",
       " Row(full_text='Release Date: March 4'),\n",
       " Row(full_text='[Most recently updated: December 1'),\n",
       " Row(full_text='Language: English'),\n",
       " Row(full_text='Produced by: Karalee Coleman and David Widger'),\n",
       " Row(full_text='*** START OF THE PROJECT GUTENBERG EBOOK THE MYSTERIES OF UDOLPHO ***'),\n",
       " Row(full_text='cover '),\n",
       " Row(full_text='The Mysteries of Udolpho'),\n",
       " Row(full_text=' A Romance '),\n",
       " Row(full_text=' Interspersed With Some Pieces of Poetry '),\n",
       " Row(full_text=' By Ann Radcliffe'),\n",
       " Row(full_text='Contents'),\n",
       " Row(full_text=' VOLUME I'),\n",
       " Row(full_text=' CHAPTER I'),\n",
       " Row(full_text=' CHAPTER II'),\n",
       " Row(full_text=' CHAPTER III'),\n",
       " Row(full_text=' CHAPTER IV'),\n",
       " Row(full_text=' CHAPTER V'),\n",
       " Row(full_text=' CHAPTER VI'),\n",
       " Row(full_text=' CHAPTER VII'),\n",
       " Row(full_text=' CHAPTER VIII')]"
      ]
     },
     "execution_count": 12,
     "metadata": {},
     "output_type": "execute_result"
    }
   ],
   "source": [
    "dfft_.head(30)"
   ]
  },
  {
   "cell_type": "markdown",
   "id": "fc8a876a",
   "metadata": {},
   "source": [
    "### Remoção de linha descartáveis"
   ]
  },
  {
   "cell_type": "code",
   "execution_count": 13,
   "id": "187c7f8f",
   "metadata": {},
   "outputs": [],
   "source": [
    "WINDOWS_SEP = \"\\r\\n\\r\\n\"\n",
    "UNIX_LIKE_SEP = \"\\n\\n\""
   ]
  },
  {
   "cell_type": "code",
   "execution_count": 14,
   "id": "acf644a5",
   "metadata": {},
   "outputs": [],
   "source": [
    "dfft = spark.read.text(\n",
    "    [f\"{dataset_path}/*.txt\"],\n",
    "    lineSep=WINDOWS_SEP\n",
    ")"
   ]
  },
  {
   "cell_type": "code",
   "execution_count": 15,
   "id": "e595f252",
   "metadata": {},
   "outputs": [
    {
     "data": {
      "text/plain": [
       "(14255, 1)"
      ]
     },
     "execution_count": 15,
     "metadata": {},
     "output_type": "execute_result"
    }
   ],
   "source": [
    "shape(dfft)"
   ]
  },
  {
   "cell_type": "code",
   "execution_count": 16,
   "id": "e1488173",
   "metadata": {},
   "outputs": [
    {
     "name": "stdout",
     "output_type": "stream",
     "text": [
      "root\n",
      " |-- value: string (nullable = true)\n",
      "\n"
     ]
    }
   ],
   "source": [
    "dfft.printSchema()"
   ]
  },
  {
   "cell_type": "code",
   "execution_count": 17,
   "id": "36011563",
   "metadata": {
    "scrolled": false
   },
   "outputs": [
    {
     "data": {
      "text/plain": [
       "[Row(value='The Project Gutenberg eBook of The Mysteries of Udolpho, by Ann Radcliffe'),\n",
       " Row(value='This eBook is for the use of anyone anywhere in the United States and\\r\\nmost other parts of the world at no cost and with almost no restrictions\\r\\nwhatsoever. You may copy it, give it away or re-use it under the terms\\r\\nof the Project Gutenberg License included with this eBook or online at\\r\\nwww.gutenberg.org. If you are not located in the United States, you\\r\\nwill have to check the laws of the country where you are located before\\r\\nusing this eBook.'),\n",
       " Row(value='Title: The Mysteries of Udolpho'),\n",
       " Row(value='Author: Ann Radcliffe'),\n",
       " Row(value='Release Date: March 4, 2001 [eBook #3268]\\r\\n[Most recently updated: December 1, 2022]'),\n",
       " Row(value='Language: English'),\n",
       " Row(value='\\r\\nProduced by: Karalee Coleman and David Widger'),\n",
       " Row(value='*** START OF THE PROJECT GUTENBERG EBOOK THE MYSTERIES OF UDOLPHO ***'),\n",
       " Row(value=''),\n",
       " Row(value='\\r\\ncover '),\n",
       " Row(value=''),\n",
       " Row(value='The Mysteries of Udolpho'),\n",
       " Row(value=' A Romance '),\n",
       " Row(value=' Interspersed With Some Pieces of Poetry '),\n",
       " Row(value=' By Ann Radcliffe'),\n",
       " Row(value=''),\n",
       " Row(value='Contents'),\n",
       " Row(value='\\r\\n VOLUME I\\r\\n CHAPTER I\\r\\n CHAPTER II\\r\\n CHAPTER III\\r\\n CHAPTER IV\\r\\n CHAPTER V\\r\\n CHAPTER VI\\r\\n CHAPTER VII\\r\\n CHAPTER VIII\\r\\n CHAPTER IX\\r\\n CHAPTER X\\r\\n CHAPTER XI\\r\\n CHAPTER XII\\r\\n CHAPTER XIII'),\n",
       " Row(value=' VOLUME II\\r\\n CHAPTER I\\r\\n CHAPTER II\\r\\n CHAPTER III\\r\\n CHAPTER IV\\r\\n CHAPTER V\\r\\n CHAPTER VI\\r\\n CHAPTER VII\\r\\n CHAPTER VIII\\r\\n CHAPTER IX\\r\\n CHAPTER X\\r\\n CHAPTER XI\\r\\n CHAPTER XII'),\n",
       " Row(value=' VOLUME III\\r\\n CHAPTER I\\r\\n CHAPTER II\\r\\n CHAPTER III\\r\\n CHAPTER IV\\r\\n CHAPTER V\\r\\n CHAPTER VI\\r\\n CHAPTER VII\\r\\n CHAPTER VIII\\r\\n CHAPTER IX\\r\\n CHAPTER X\\r\\n CHAPTER XI\\r\\n CHAPTER XII\\r\\n CHAPTER XIII')]"
      ]
     },
     "execution_count": 17,
     "metadata": {},
     "output_type": "execute_result"
    }
   ],
   "source": [
    "dfft.head(20)"
   ]
  },
  {
   "cell_type": "code",
   "execution_count": 18,
   "id": "c48c3ff1",
   "metadata": {},
   "outputs": [],
   "source": [
    "dfft_s1 = dfft.withColumn(\n",
    "    \"value_s1\", regexp_replace(col(\"value\"), \"[\\r\\n\\`\\'\\;\\,]\", \" \")\n",
    ")"
   ]
  },
  {
   "cell_type": "code",
   "execution_count": 19,
   "id": "f7df76db",
   "metadata": {},
   "outputs": [
    {
     "data": {
      "text/plain": [
       "'Title: The Mysteries of Udolpho'"
      ]
     },
     "execution_count": 19,
     "metadata": {},
     "output_type": "execute_result"
    }
   ],
   "source": [
    "dfft_s1.collect()[2][\"value_s1\"]"
   ]
  },
  {
   "cell_type": "markdown",
   "id": "1372e7e0",
   "metadata": {},
   "source": [
    "#### Salvando um parágrafo original para comparação"
   ]
  },
  {
   "cell_type": "code",
   "execution_count": 20,
   "id": "f6173aec",
   "metadata": {},
   "outputs": [],
   "source": [
    "dfftc = dfft_s1.withColumn(\"paragraph\", col(\"value_s1\")).select(\"paragraph\")"
   ]
  },
  {
   "cell_type": "code",
   "execution_count": 21,
   "id": "00a59eb1",
   "metadata": {},
   "outputs": [
    {
     "name": "stdout",
     "output_type": "stream",
     "text": [
      "+--------------------+\n",
      "|           paragraph|\n",
      "+--------------------+\n",
      "|The Project Guten...|\n",
      "|This eBook is for...|\n",
      "|Title: The Myster...|\n",
      "|Author: Ann Radcl...|\n",
      "|Release Date: Mar...|\n",
      "|   Language: English|\n",
      "|  Produced by: Ka...|\n",
      "|*** START OF THE ...|\n",
      "|                    |\n",
      "|              cover |\n",
      "|                    |\n",
      "|The Mysteries of ...|\n",
      "|          A Romance |\n",
      "| Interspersed Wit...|\n",
      "|    By Ann Radcliffe|\n",
      "|                    |\n",
      "|            Contents|\n",
      "|   VOLUME I   CHA...|\n",
      "| VOLUME II   CHAP...|\n",
      "| VOLUME III   CHA...|\n",
      "+--------------------+\n",
      "only showing top 20 rows\n",
      "\n"
     ]
    }
   ],
   "source": [
    "dfftc.show()"
   ]
  },
  {
   "cell_type": "markdown",
   "id": "81ccf945",
   "metadata": {},
   "source": [
    "### Remoção de caracteres descartáveis"
   ]
  },
  {
   "cell_type": "code",
   "execution_count": 22,
   "id": "7a572f89",
   "metadata": {},
   "outputs": [],
   "source": [
    "dfft_s2 = dfftc.withColumn(\n",
    "    \"value_s2\", regexp_replace(col(\"paragraph\"), \"[^A-z0-9\\ ]\", \"\")\n",
    ")"
   ]
  },
  {
   "cell_type": "code",
   "execution_count": 23,
   "id": "77b9c1ae",
   "metadata": {},
   "outputs": [
    {
     "data": {
      "text/plain": [
       "'Title The Mysteries of Udolpho'"
      ]
     },
     "execution_count": 23,
     "metadata": {},
     "output_type": "execute_result"
    }
   ],
   "source": [
    "dfft_s2.collect()[2][\"value_s2\"]"
   ]
  },
  {
   "cell_type": "code",
   "execution_count": 24,
   "id": "795ac366",
   "metadata": {},
   "outputs": [],
   "source": [
    "dfft_s3 = dfft_s2.select(\n",
    "    \"value_s2\",\n",
    "    \"paragraph\",\n",
    "    trim(col(\"value_s2\")).alias(\"value_s3\")\n",
    ")"
   ]
  },
  {
   "cell_type": "code",
   "execution_count": 25,
   "id": "100823e2",
   "metadata": {},
   "outputs": [
    {
     "data": {
      "text/plain": [
       "'Title The Mysteries of Udolpho'"
      ]
     },
     "execution_count": 25,
     "metadata": {},
     "output_type": "execute_result"
    }
   ],
   "source": [
    "dfft_s3.collect()[2][\"value_s3\"]"
   ]
  },
  {
   "cell_type": "code",
   "execution_count": 26,
   "id": "48c92dff",
   "metadata": {},
   "outputs": [],
   "source": [
    "dfft_s4 = dfft_s3.withColumn(\n",
    "    \"value_s4\", regexp_replace(col(\"value_s3\"), \"\\s+\", \" \")\n",
    ")"
   ]
  },
  {
   "cell_type": "code",
   "execution_count": 27,
   "id": "af03484c",
   "metadata": {},
   "outputs": [
    {
     "data": {
      "text/plain": [
       "'Title The Mysteries of Udolpho'"
      ]
     },
     "execution_count": 27,
     "metadata": {},
     "output_type": "execute_result"
    }
   ],
   "source": [
    "dfft_s4.collect()[2][\"value_s4\"]"
   ]
  },
  {
   "cell_type": "markdown",
   "id": "53bbb8e1",
   "metadata": {},
   "source": [
    "### Remoção de stop-words"
   ]
  },
  {
   "cell_type": "code",
   "execution_count": 28,
   "id": "00e143d1",
   "metadata": {},
   "outputs": [],
   "source": [
    "dfftc_s1 = dfft_s4.withColumn(\"words\", split(lower(col(\"value_s4\")), \" \"))"
   ]
  },
  {
   "cell_type": "code",
   "execution_count": 29,
   "id": "54777a04",
   "metadata": {},
   "outputs": [
    {
     "name": "stdout",
     "output_type": "stream",
     "text": [
      "root\n",
      " |-- value_s2: string (nullable = true)\n",
      " |-- paragraph: string (nullable = true)\n",
      " |-- value_s3: string (nullable = true)\n",
      " |-- value_s4: string (nullable = true)\n",
      " |-- words: array (nullable = true)\n",
      " |    |-- element: string (containsNull = true)\n",
      "\n"
     ]
    }
   ],
   "source": [
    "dfftc_s1.printSchema()"
   ]
  },
  {
   "cell_type": "code",
   "execution_count": 30,
   "id": "c2ab6b1a",
   "metadata": {},
   "outputs": [],
   "source": [
    "dfftc_s1 = dfftc_s1.select(\"words\", \"paragraph\")"
   ]
  },
  {
   "cell_type": "code",
   "execution_count": 31,
   "id": "b6e1ac1d",
   "metadata": {},
   "outputs": [
    {
     "name": "stdout",
     "output_type": "stream",
     "text": [
      "root\n",
      " |-- words: array (nullable = true)\n",
      " |    |-- element: string (containsNull = true)\n",
      " |-- paragraph: string (nullable = true)\n",
      "\n"
     ]
    }
   ],
   "source": [
    "dfftc_s1.printSchema()"
   ]
  },
  {
   "cell_type": "code",
   "execution_count": 32,
   "id": "cc0ea894",
   "metadata": {},
   "outputs": [
    {
     "data": {
      "text/plain": [
       "[Row(words=['the', 'project', 'gutenberg', 'ebook', 'of', 'the', 'mysteries', 'of', 'udolpho', 'by', 'ann', 'radcliffe'], paragraph='The Project Gutenberg eBook of The Mysteries of Udolpho  by Ann Radcliffe'),\n",
       " Row(words=['this', 'ebook', 'is', 'for', 'the', 'use', 'of', 'anyone', 'anywhere', 'in', 'the', 'united', 'states', 'and', 'most', 'other', 'parts', 'of', 'the', 'world', 'at', 'no', 'cost', 'and', 'with', 'almost', 'no', 'restrictions', 'whatsoever', 'you', 'may', 'copy', 'it', 'give', 'it', 'away', 'or', 'reuse', 'it', 'under', 'the', 'terms', 'of', 'the', 'project', 'gutenberg', 'license', 'included', 'with', 'this', 'ebook', 'or', 'online', 'at', 'wwwgutenbergorg', 'if', 'you', 'are', 'not', 'located', 'in', 'the', 'united', 'states', 'you', 'will', 'have', 'to', 'check', 'the', 'laws', 'of', 'the', 'country', 'where', 'you', 'are', 'located', 'before', 'using', 'this', 'ebook'], paragraph='This eBook is for the use of anyone anywhere in the United States and  most other parts of the world at no cost and with almost no restrictions  whatsoever. You may copy it  give it away or re-use it under the terms  of the Project Gutenberg License included with this eBook or online at  www.gutenberg.org. If you are not located in the United States  you  will have to check the laws of the country where you are located before  using this eBook.'),\n",
       " Row(words=['title', 'the', 'mysteries', 'of', 'udolpho'], paragraph='Title: The Mysteries of Udolpho'),\n",
       " Row(words=['author', 'ann', 'radcliffe'], paragraph='Author: Ann Radcliffe'),\n",
       " Row(words=['release', 'date', 'march', '4', '2001', '[ebook', '3268]', '[most', 'recently', 'updated', 'december', '1', '2022]'], paragraph='Release Date: March 4  2001 [eBook #3268]  [Most recently updated: December 1  2022]'),\n",
       " Row(words=['language', 'english'], paragraph='Language: English'),\n",
       " Row(words=['produced', 'by', 'karalee', 'coleman', 'and', 'david', 'widger'], paragraph='  Produced by: Karalee Coleman and David Widger'),\n",
       " Row(words=['start', 'of', 'the', 'project', 'gutenberg', 'ebook', 'the', 'mysteries', 'of', 'udolpho'], paragraph='*** START OF THE PROJECT GUTENBERG EBOOK THE MYSTERIES OF UDOLPHO ***'),\n",
       " Row(words=[''], paragraph=''),\n",
       " Row(words=['cover'], paragraph='  cover ')]"
      ]
     },
     "execution_count": 32,
     "metadata": {},
     "output_type": "execute_result"
    }
   ],
   "source": [
    "dfftc_s1.head(10)"
   ]
  },
  {
   "cell_type": "code",
   "execution_count": 33,
   "id": "62801cb2",
   "metadata": {},
   "outputs": [],
   "source": [
    "remover = StopWordsRemover(inputCol=\"words\", outputCol=\"keys\")"
   ]
  },
  {
   "cell_type": "code",
   "execution_count": 34,
   "id": "f0070430",
   "metadata": {},
   "outputs": [],
   "source": [
    "dfftc_s2 = remover.transform(dfftc_s1)"
   ]
  },
  {
   "cell_type": "code",
   "execution_count": 35,
   "id": "da410d80",
   "metadata": {},
   "outputs": [
    {
     "data": {
      "text/plain": [
       "Row(words=['the', 'project', 'gutenberg', 'ebook', 'of', 'the', 'mysteries', 'of', 'udolpho', 'by', 'ann', 'radcliffe'], paragraph='The Project Gutenberg eBook of The Mysteries of Udolpho  by Ann Radcliffe', keys=['project', 'gutenberg', 'ebook', 'mysteries', 'udolpho', 'ann', 'radcliffe'])"
      ]
     },
     "execution_count": 35,
     "metadata": {},
     "output_type": "execute_result"
    }
   ],
   "source": [
    "dfftc_s2.head()"
   ]
  },
  {
   "cell_type": "code",
   "execution_count": 36,
   "id": "822da824",
   "metadata": {
    "scrolled": true
   },
   "outputs": [
    {
     "data": {
      "text/plain": [
       "Row(words=['title', 'the', 'mysteries', 'of', 'udolpho'], paragraph='Title: The Mysteries of Udolpho', keys=['title', 'mysteries', 'udolpho'])"
      ]
     },
     "execution_count": 36,
     "metadata": {},
     "output_type": "execute_result"
    }
   ],
   "source": [
    "dfftc_s2.collect()[2]"
   ]
  },
  {
   "cell_type": "markdown",
   "id": "75f63ca0",
   "metadata": {},
   "source": [
    "### Criando Dataframe com dados limpos"
   ]
  },
  {
   "cell_type": "code",
   "execution_count": 153,
   "id": "1455c9a2",
   "metadata": {},
   "outputs": [],
   "source": [
    "dff = dfftc_s2.select(\n",
    "    \"keys\", \"paragraph\"\n",
    ")"
   ]
  },
  {
   "cell_type": "code",
   "execution_count": 154,
   "id": "8bad06f5",
   "metadata": {},
   "outputs": [
    {
     "name": "stdout",
     "output_type": "stream",
     "text": [
      "+--------------------+--------------------+\n",
      "|                keys|           paragraph|\n",
      "+--------------------+--------------------+\n",
      "|[project, gutenbe...|The Project Guten...|\n",
      "|[ebook, use, anyo...|This eBook is for...|\n",
      "|[title, mysteries...|Title: The Myster...|\n",
      "|[author, ann, rad...|Author: Ann Radcl...|\n",
      "|[release, date, m...|Release Date: Mar...|\n",
      "| [language, english]|   Language: English|\n",
      "|[produced, karale...|  Produced by: Ka...|\n",
      "|[start, project, ...|*** START OF THE ...|\n",
      "|                  []|                    |\n",
      "|             [cover]|              cover |\n",
      "|                  []|                    |\n",
      "|[mysteries, udolpho]|The Mysteries of ...|\n",
      "|           [romance]|          A Romance |\n",
      "|[interspersed, pi...| Interspersed Wit...|\n",
      "|    [ann, radcliffe]|    By Ann Radcliffe|\n",
      "|                  []|                    |\n",
      "|          [contents]|            Contents|\n",
      "|[volume, chapter,...|   VOLUME I   CHA...|\n",
      "|[volume, ii, chap...| VOLUME II   CHAP...|\n",
      "|[volume, iii, cha...| VOLUME III   CHA...|\n",
      "+--------------------+--------------------+\n",
      "only showing top 20 rows\n",
      "\n"
     ]
    }
   ],
   "source": [
    "dff.show()"
   ]
  },
  {
   "cell_type": "markdown",
   "id": "79117faf",
   "metadata": {},
   "source": [
    "#### Adicionando Número do Parágrafos"
   ]
  },
  {
   "cell_type": "code",
   "execution_count": 119,
   "id": "057084ad",
   "metadata": {},
   "outputs": [
    {
     "name": "stdout",
     "output_type": "stream",
     "text": [
      "+---+--------------------+--------------------+\n",
      "| ID|                keys|           paragraph|\n",
      "+---+--------------------+--------------------+\n",
      "|  1|                  []|                    |\n",
      "|  2|               [pag]|                 ...|\n",
      "|  3|[_algernon, black...|                 ...|\n",
      "|  4|                  []|                 ...|\n",
      "|  5|   [horace, walpole]|                 ...|\n",
      "|  6|                [ii]|                 ...|\n",
      "|  7|                [iv]|                 ...|\n",
      "|  8|                [ix]|                 ...|\n",
      "|  9|              [note]|                 ...|\n",
      "| 10|                 [v]|                 ...|\n",
      "| 11|                [vi]|                 ...|\n",
      "| 12|                 [x]|                 ...|\n",
      "| 13|                [xi]|                 ...|\n",
      "| 14|               [iii]|                 ...|\n",
      "| 15|   [castle, otranto]|                 ...|\n",
      "| 16|               [vii]|                 ...|\n",
      "| 17|              [viii]|                 ...|\n",
      "| 18|               [xii]|                 ...|\n",
      "| 19|                  []|                 ...|\n",
      "| 20|                  []|                 ...|\n",
      "+---+--------------------+--------------------+\n",
      "only showing top 20 rows\n",
      "\n"
     ]
    }
   ],
   "source": [
    "w = Window().orderBy(\"paragraph\")\n",
    "dff_ids = dff.select(row_number().over(w).alias(\"ID\"), col(\"*\"))\n",
    "dff_ids.show()"
   ]
  },
  {
   "cell_type": "code",
   "execution_count": 123,
   "id": "839a328c",
   "metadata": {},
   "outputs": [
    {
     "data": {
      "text/plain": [
       "Row(ID=800, keys=['crimino', 'esse', 'de', 'bola', 'chata', 'que', 'na', 'eschola', 'de', 'marte', 'inda', 'menino', 'e', 'ao', 'falso', 'pastor', 'pastor', 'sem', 'tino', 'que', 'mal', 'das', 'ovelhas', 'cura', 'e', 'tracta'], paragraph='    Só crimino esse heróe de bola chata       Que na eschola de Marte inda é menino       E ao falso pastor  pastor sem tino       Que tão mal das ovelhas cura  e tracta:')"
      ]
     },
     "execution_count": 123,
     "metadata": {},
     "output_type": "execute_result"
    }
   ],
   "source": [
    "dff_ids.collect()[799]"
   ]
  },
  {
   "cell_type": "code",
   "execution_count": 124,
   "id": "3d719548",
   "metadata": {},
   "outputs": [
    {
     "name": "stdout",
     "output_type": "stream",
     "text": [
      "root\n",
      " |-- ID: integer (nullable = true)\n",
      " |-- keys: array (nullable = true)\n",
      " |    |-- element: string (containsNull = true)\n",
      " |-- paragraph: string (nullable = true)\n",
      "\n"
     ]
    }
   ],
   "source": [
    "dff_ids.printSchema()"
   ]
  },
  {
   "cell_type": "code",
   "execution_count": 125,
   "id": "092c6203",
   "metadata": {},
   "outputs": [],
   "source": [
    "dff_ids = dff_ids.filter(dff_ids.paragraph != '')"
   ]
  },
  {
   "cell_type": "code",
   "execution_count": 126,
   "id": "78d27251",
   "metadata": {},
   "outputs": [
    {
     "name": "stdout",
     "output_type": "stream",
     "text": [
      "+---+--------------------+--------------------+\n",
      "| ID|                keys|           paragraph|\n",
      "+---+--------------------+--------------------+\n",
      "|  1|                  []|                    |\n",
      "|  2|               [pag]|                 ...|\n",
      "|  3|[_algernon, black...|                 ...|\n",
      "|  4|                  []|                 ...|\n",
      "|  5|   [horace, walpole]|                 ...|\n",
      "|  6|                [ii]|                 ...|\n",
      "|  7|                [iv]|                 ...|\n",
      "|  8|                [ix]|                 ...|\n",
      "|  9|              [note]|                 ...|\n",
      "| 10|                 [v]|                 ...|\n",
      "| 11|                [vi]|                 ...|\n",
      "| 12|                 [x]|                 ...|\n",
      "| 13|                [xi]|                 ...|\n",
      "| 14|               [iii]|                 ...|\n",
      "| 15|   [castle, otranto]|                 ...|\n",
      "| 16|               [vii]|                 ...|\n",
      "| 17|              [viii]|                 ...|\n",
      "| 18|               [xii]|                 ...|\n",
      "| 19|                  []|                 ...|\n",
      "| 20|                  []|                 ...|\n",
      "+---+--------------------+--------------------+\n",
      "only showing top 20 rows\n",
      "\n"
     ]
    }
   ],
   "source": [
    "dff_ids.show()"
   ]
  },
  {
   "cell_type": "markdown",
   "id": "5c2b3902",
   "metadata": {},
   "source": [
    "### Selecionando Linhas com os Títulos"
   ]
  },
  {
   "cell_type": "code",
   "execution_count": 127,
   "id": "2aa595b0",
   "metadata": {},
   "outputs": [],
   "source": [
    "dfftc = dff_ids.withColumn(\"paragraph\", col(\"value_s1\")).select(\"paragraph\")"
   ]
  },
  {
   "cell_type": "code",
   "execution_count": 130,
   "id": "0eb6a998",
   "metadata": {},
   "outputs": [],
   "source": [
    "dff_title = dff_ids.withColumn(\"title\", col(\"paragraph\").contains(\"Title:\"))"
   ]
  },
  {
   "cell_type": "code",
   "execution_count": 131,
   "id": "5b84453f",
   "metadata": {},
   "outputs": [
    {
     "name": "stdout",
     "output_type": "stream",
     "text": [
      "+---+--------------------+--------------------+-----+\n",
      "| ID|                keys|           paragraph|title|\n",
      "+---+--------------------+--------------------+-----+\n",
      "|  1|                  []|                    |false|\n",
      "|  2|               [pag]|                 ...|false|\n",
      "|  3|[_algernon, black...|                 ...|false|\n",
      "|  4|                  []|                 ...|false|\n",
      "|  5|   [horace, walpole]|                 ...|false|\n",
      "|  6|                [ii]|                 ...|false|\n",
      "|  7|                [iv]|                 ...|false|\n",
      "|  8|                [ix]|                 ...|false|\n",
      "|  9|              [note]|                 ...|false|\n",
      "| 10|                 [v]|                 ...|false|\n",
      "| 11|                [vi]|                 ...|false|\n",
      "| 12|                 [x]|                 ...|false|\n",
      "| 13|                [xi]|                 ...|false|\n",
      "| 14|               [iii]|                 ...|false|\n",
      "| 15|   [castle, otranto]|                 ...|false|\n",
      "| 16|               [vii]|                 ...|false|\n",
      "| 17|              [viii]|                 ...|false|\n",
      "| 18|               [xii]|                 ...|false|\n",
      "| 19|                  []|                 ...|false|\n",
      "| 20|                  []|                 ...|false|\n",
      "+---+--------------------+--------------------+-----+\n",
      "only showing top 20 rows\n",
      "\n"
     ]
    }
   ],
   "source": [
    "dff_title.show()"
   ]
  },
  {
   "cell_type": "code",
   "execution_count": 139,
   "id": "b1858adf",
   "metadata": {},
   "outputs": [],
   "source": [
    "dff_db = dff_title.withColumn(\"language\", col(\"paragraph\").contains(\"Language:\"))"
   ]
  },
  {
   "cell_type": "code",
   "execution_count": 140,
   "id": "9d552322",
   "metadata": {},
   "outputs": [
    {
     "name": "stdout",
     "output_type": "stream",
     "text": [
      "+---+--------------------+--------------------+-----+--------+\n",
      "| ID|                keys|           paragraph|title|language|\n",
      "+---+--------------------+--------------------+-----+--------+\n",
      "|  1|                  []|                    |false|   false|\n",
      "|  2|               [pag]|                 ...|false|   false|\n",
      "|  3|[_algernon, black...|                 ...|false|   false|\n",
      "|  4|                  []|                 ...|false|   false|\n",
      "|  5|   [horace, walpole]|                 ...|false|   false|\n",
      "|  6|                [ii]|                 ...|false|   false|\n",
      "|  7|                [iv]|                 ...|false|   false|\n",
      "|  8|                [ix]|                 ...|false|   false|\n",
      "|  9|              [note]|                 ...|false|   false|\n",
      "| 10|                 [v]|                 ...|false|   false|\n",
      "| 11|                [vi]|                 ...|false|   false|\n",
      "| 12|                 [x]|                 ...|false|   false|\n",
      "| 13|                [xi]|                 ...|false|   false|\n",
      "| 14|               [iii]|                 ...|false|   false|\n",
      "| 15|   [castle, otranto]|                 ...|false|   false|\n",
      "| 16|               [vii]|                 ...|false|   false|\n",
      "| 17|              [viii]|                 ...|false|   false|\n",
      "| 18|               [xii]|                 ...|false|   false|\n",
      "| 19|                  []|                 ...|false|   false|\n",
      "| 20|                  []|                 ...|false|   false|\n",
      "+---+--------------------+--------------------+-----+--------+\n",
      "only showing top 20 rows\n",
      "\n"
     ]
    }
   ],
   "source": [
    "dff_db.show()"
   ]
  },
  {
   "cell_type": "markdown",
   "id": "1f312e7e",
   "metadata": {},
   "source": [
    "### Selecionando Title"
   ]
  },
  {
   "cell_type": "code",
   "execution_count": 141,
   "id": "23c636ef",
   "metadata": {},
   "outputs": [],
   "source": [
    "dff_db.registerTempTable(\"tabledb\")"
   ]
  },
  {
   "cell_type": "code",
   "execution_count": 144,
   "id": "249ec3c3",
   "metadata": {},
   "outputs": [],
   "source": [
    "titledb = spark.sql(f\"\"\"\n",
    "select *\n",
    "from tabledb\n",
    "where title = true\n",
    "\"\"\")"
   ]
  },
  {
   "cell_type": "code",
   "execution_count": 145,
   "id": "55467d6a",
   "metadata": {},
   "outputs": [
    {
     "name": "stdout",
     "output_type": "stream",
     "text": [
      "+-----+--------------------+--------------------+-----+--------+\n",
      "|   ID|                keys|           paragraph|title|language|\n",
      "+-----+--------------------+--------------------+-----+--------+\n",
      "| 1487|     [title, elegia]|       Title: Elegia| true|   false|\n",
      "| 1488|[title, improviso...|  Title: Improvis...| true|   false|\n",
      "| 1489|[title, queixumes...|  Title: Queixume...| true|   false|\n",
      "| 1490|[title, fall, hou...|  Title: The Fall...| true|   false|\n",
      "| 1491|[title, phantom, ...|  Title: The Phan...| true|   false|\n",
      "| 1492|    [title, wendigo]|  Title: The Wendigo| true|   false|\n",
      "|10509|[title, mountains...|Title: At the mou...| true|   false|\n",
      "|10510|    [title, dracula]|      Title: Dracula| true|   false|\n",
      "|10511|[title, frankenst...|Title: Frankenste...| true|   false|\n",
      "|10512|[title, medusa, c...|Title: Medusa s coil| true|   false|\n",
      "|10513|[title, os, jardi...|Title: Os jardins...| true|   false|\n",
      "|10514|[title, poesias, ...|Title: Poesias Er...| true|   false|\n",
      "|10515|[title, castle, o...|Title: The Castle...| true|   false|\n",
      "|10516|[title, mysteries...|Title: The Myster...| true|   false|\n",
      "|10517|      [title, raven]|    Title: The Raven| true|   false|\n",
      "|10518|[title, strange, ...|Title: The Strang...| true|   false|\n",
      "|10519|[title, call, cth...|Title: The call o...| true|   false|\n",
      "|10520|[title, colour, s...|Title: The colour...| true|   false|\n",
      "|10521| [title, curse, yig]|Title: The curse ...| true|   false|\n",
      "|10522|[title, lurking, ...|Title: The lurkin...| true|   false|\n",
      "+-----+--------------------+--------------------+-----+--------+\n",
      "\n"
     ]
    }
   ],
   "source": [
    "titledb.show()"
   ]
  },
  {
   "cell_type": "markdown",
   "id": "04fcab8f",
   "metadata": {},
   "source": [
    "### Selecionando Language"
   ]
  },
  {
   "cell_type": "code",
   "execution_count": 146,
   "id": "8742ed18",
   "metadata": {},
   "outputs": [],
   "source": [
    "languagedb = spark.sql(f\"\"\"\n",
    "select *\n",
    "from tabledb\n",
    "where language = true\n",
    "\"\"\")"
   ]
  },
  {
   "cell_type": "code",
   "execution_count": 147,
   "id": "a3b0d572",
   "metadata": {},
   "outputs": [
    {
     "name": "stdout",
     "output_type": "stream",
     "text": [
      "+----+--------------------+--------------------+-----+--------+\n",
      "|  ID|                keys|           paragraph|title|language|\n",
      "+----+--------------------+--------------------+-----+--------+\n",
      "|7739| [language, english]|   Language: English|false|    true|\n",
      "|7740| [language, english]|   Language: English|false|    true|\n",
      "|7741| [language, english]|   Language: English|false|    true|\n",
      "|7742| [language, english]|   Language: English|false|    true|\n",
      "|7743| [language, english]|   Language: English|false|    true|\n",
      "|7744| [language, english]|   Language: English|false|    true|\n",
      "|7745| [language, english]|   Language: English|false|    true|\n",
      "|7746| [language, english]|   Language: English|false|    true|\n",
      "|7747| [language, english]|   Language: English|false|    true|\n",
      "|7748| [language, english]|   Language: English|false|    true|\n",
      "|7749| [language, english]|   Language: English|false|    true|\n",
      "|7750| [language, english]|   Language: English|false|    true|\n",
      "|7751| [language, english]|   Language: English|false|    true|\n",
      "|7752| [language, english]|   Language: English|false|    true|\n",
      "|7753| [language, english]|   Language: English|false|    true|\n",
      "|7754|[language, portug...|Language: Portuguese|false|    true|\n",
      "|7755|[language, portug...|Language: Portuguese|false|    true|\n",
      "|7756|[language, portug...|Language: Portuguese|false|    true|\n",
      "|7757|[language, portug...|Language: Portuguese|false|    true|\n",
      "|7758|[language, portug...|Language: Portuguese|false|    true|\n",
      "+----+--------------------+--------------------+-----+--------+\n",
      "\n"
     ]
    }
   ],
   "source": [
    "languagedb.show()"
   ]
  },
  {
   "cell_type": "markdown",
   "id": "b936c07f",
   "metadata": {},
   "source": [
    "### Tabela Titulo"
   ]
  },
  {
   "cell_type": "code",
   "execution_count": 87,
   "id": "55d5dceb",
   "metadata": {},
   "outputs": [],
   "source": [
    "column_title = dff.filter(col(\"paragraph\").contains(\"Title:\"))"
   ]
  },
  {
   "cell_type": "code",
   "execution_count": 88,
   "id": "23408ae0",
   "metadata": {},
   "outputs": [],
   "source": [
    "column_title = column_title.select(\"paragraph\")"
   ]
  },
  {
   "cell_type": "code",
   "execution_count": 89,
   "id": "1c950e9f",
   "metadata": {},
   "outputs": [
    {
     "name": "stdout",
     "output_type": "stream",
     "text": [
      "+--------------------+\n",
      "|           paragraph|\n",
      "+--------------------+\n",
      "|Title: The Myster...|\n",
      "|      Title: Dracula|\n",
      "|  Title: The Phan...|\n",
      "|Title: Frankenste...|\n",
      "|Title: At the mou...|\n",
      "|Title: Os jardins...|\n",
      "|Title: The Castle...|\n",
      "|Title: Poesias Er...|\n",
      "|Title: The Strang...|\n",
      "|  Title: The Wendigo|\n",
      "|Title: Medusa s coil|\n",
      "|Title: The call o...|\n",
      "|Title: The colour...|\n",
      "|Title: The lurkin...|\n",
      "|  Title: The Fall...|\n",
      "|Title: The curse ...|\n",
      "|  Title: Improvis...|\n",
      "|  Title: Queixume...|\n",
      "|    Title: The Raven|\n",
      "|       Title: Elegia|\n",
      "+--------------------+\n",
      "\n"
     ]
    }
   ],
   "source": [
    "column_title.show()"
   ]
  },
  {
   "cell_type": "code",
   "execution_count": 90,
   "id": "ef10b1ad",
   "metadata": {},
   "outputs": [],
   "source": [
    "column_title = column_title.withColumn(\n",
    "    \"title\", regexp_replace(col(\"paragraph\"), \"Title: \", \"\")\n",
    ")\n",
    "column_title = column_title.select(\"title\")"
   ]
  },
  {
   "cell_type": "code",
   "execution_count": 91,
   "id": "769ffafc",
   "metadata": {},
   "outputs": [
    {
     "name": "stdout",
     "output_type": "stream",
     "text": [
      "+--------------------+\n",
      "|               title|\n",
      "+--------------------+\n",
      "|The Mysteries of ...|\n",
      "|             Dracula|\n",
      "|  The Phantom of ...|\n",
      "|Frankenstein     ...|\n",
      "|At the mountains ...|\n",
      "|Os jardins ou a a...|\n",
      "|The Castle of Otr...|\n",
      "|Poesias Eroticas ...|\n",
      "|The Strange Case ...|\n",
      "|         The Wendigo|\n",
      "|       Medusa s coil|\n",
      "| The call of Cthulhu|\n",
      "|The colour out of...|\n",
      "|    The lurking fear|\n",
      "|  The Fall of the...|\n",
      "|    The curse of Yig|\n",
      "|  Improvisos de B...|\n",
      "|  Queixumes do Pa...|\n",
      "|           The Raven|\n",
      "|              Elegia|\n",
      "+--------------------+\n",
      "\n"
     ]
    }
   ],
   "source": [
    "column_title.show()"
   ]
  },
  {
   "cell_type": "markdown",
   "id": "818d26ae",
   "metadata": {},
   "source": [
    "### Tabela Language"
   ]
  },
  {
   "cell_type": "code",
   "execution_count": 148,
   "id": "7e05f3ac",
   "metadata": {},
   "outputs": [],
   "source": [
    "column_language = dff.filter(col(\"paragraph\").contains(\"Language:\"))"
   ]
  },
  {
   "cell_type": "code",
   "execution_count": 149,
   "id": "806ee347",
   "metadata": {},
   "outputs": [],
   "source": [
    "column_language = column_language.select(\"paragraph\")"
   ]
  },
  {
   "cell_type": "code",
   "execution_count": 150,
   "id": "cef4c30a",
   "metadata": {},
   "outputs": [],
   "source": [
    "column_language = column_language.withColumn(\n",
    "    \"language\", regexp_replace(col(\"paragraph\"), \"Language: \", \"\")\n",
    ")\n",
    "column_language = column_language.select(\"language\")"
   ]
  },
  {
   "cell_type": "code",
   "execution_count": 151,
   "id": "60913cc4",
   "metadata": {},
   "outputs": [
    {
     "name": "stdout",
     "output_type": "stream",
     "text": [
      "+----------+\n",
      "|  language|\n",
      "+----------+\n",
      "|   English|\n",
      "|   English|\n",
      "|   English|\n",
      "|   English|\n",
      "|   English|\n",
      "|Portuguese|\n",
      "|   English|\n",
      "|Portuguese|\n",
      "|   English|\n",
      "|   English|\n",
      "|   English|\n",
      "|   English|\n",
      "|   English|\n",
      "|   English|\n",
      "|   English|\n",
      "|   English|\n",
      "|Portuguese|\n",
      "|Portuguese|\n",
      "|   English|\n",
      "|Portuguese|\n",
      "+----------+\n",
      "\n"
     ]
    }
   ],
   "source": [
    "column_language.show()"
   ]
  }
 ],
 "metadata": {
  "kernelspec": {
   "display_name": "Python 3",
   "language": "python",
   "name": "python3"
  },
  "language_info": {
   "codemirror_mode": {
    "name": "ipython",
    "version": 3
   },
   "file_extension": ".py",
   "mimetype": "text/x-python",
   "name": "python",
   "nbconvert_exporter": "python",
   "pygments_lexer": "ipython3",
   "version": "3.6.9"
  }
 },
 "nbformat": 4,
 "nbformat_minor": 5
}
