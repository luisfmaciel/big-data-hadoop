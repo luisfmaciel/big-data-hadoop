{
 "cells": [
  {
   "cell_type": "markdown",
   "id": "0c05c281",
   "metadata": {},
   "source": [
    "\n",
    "# Projeto de Bloco: Engenharia de Dados: Big Data\n",
    "---\n",
    "\n",
    "## **TP5**\n",
    "\n",
    "**Escolha 15 livros no idioma inglês e 15 livros no idioma português (totalizando 30 livros).**\n",
    "\n",
    "**Utilizando o Jupyter Notebook, com o interpretador do Apache Spark em Python, faremos as tarefas de ingestão, limpeza e normalização, e análise e mensuração dos tempos de execução dos textos escolhidos.**\n",
    "\n",
    "---\n",
    "\n",
    " - **Ingestão**\n",
    "    - Selecionar os 30 livros no formato Plain Text UTF-8\n",
    "    - Adicionar os arquivos no HDFS\n",
    "\n",
    "- **Limpeza e Normalização**\n",
    "    - Importação dos dados em DataFrames Spark\n",
    "    - Remoção de caracteres descartáveis\n",
    "    - Remoção de linha descartáveis\n",
    "    - Remoção de stop-words\n",
    "    - Aplicação de lematização\n",
    "    - Utilização de técnicas complementares, caso julgue necessário\n",
    "    - DataFrame unificado de informações dos 30 livros selecionados, com as seguintes colunas:\n",
    "        - Nome do Livro\n",
    "        - Idioma do Livro\n",
    "        - Número do Parágrafo (começando com o índice #1)\n",
    "        - Parágrafo Original (antes da limpeza e normalização)\n",
    "        - Conjunto de Palavras do Parágrafo (após limpeza e normalização)\n",
    "        - Outras colunas, caso julgue necessário\n",
    "\n",
    "\n",
    "### **Análise e Mensuração dos tempos**\n",
    "---\n",
    "Responder às seguintes perguntas:\n",
    "- Quantidade de palavras únicas utilizadas por livro\n",
    "- Quantidade de parágrafos e palavras não-únicas por parágrafo por livro\n",
    "- Identificar a palavra que mais aparece e a palavra que menos aparece por parágrafo por livro\n",
    "- Dos livros em inglês, selecionar as top-10 palavras que mais aparecem. Fazer o mesmo para os livros em português\n",
    "- Montar dois gráficos de linhas, um para os livros em inglês e o outro para os em português, com o eixo X sendo o índice dos parágrafos, o eixo Y sendo a quantidade de palavras únicas e a linha o livro em questão\n",
    "- Montar dois histogramas um para os livros em inglês e o outro para os em português, para análise da frequência de palavras dos livros\n",
    "- Exibir o tempo gasto no processamento de cada uma das respostas acima\n"
   ]
  },
  {
   "cell_type": "code",
   "execution_count": 1,
   "id": "29f75b2f",
   "metadata": {},
   "outputs": [],
   "source": [
    "import findspark\n",
    "findspark.init()\n",
    "from pyspark import SparkContext, SparkConf, SQLContext\n",
    "from pyspark.sql import SparkSession\n",
    "from pyspark.sql.functions import lit, col, sum, avg, row_number, max, regexp_replace, trim, split, array_contains, lower\n",
    "from pyspark.sql.types import StructType, StructField, IntegerType, StringType\n",
    "from pyspark.sql.window import Window\n",
    "from pyspark.ml.feature import StopWordsRemover\n",
    "from pathlib import Path"
   ]
  },
  {
   "cell_type": "code",
   "execution_count": 2,
   "id": "c429d3f4",
   "metadata": {},
   "outputs": [],
   "source": [
    "conf = SparkConf().setAppName(\"TP5\")\n",
    "sc = SparkContext(conf=conf)\n",
    "spark = SparkSession(sc)"
   ]
  },
  {
   "cell_type": "markdown",
   "id": "bd73bbd3",
   "metadata": {},
   "source": [
    "### **Limpeza e Normalização**"
   ]
  },
  {
   "cell_type": "markdown",
   "id": "f1de1254",
   "metadata": {},
   "source": [
    "- **Importação dos dados em DataFrames Spark**"
   ]
  },
  {
   "cell_type": "code",
   "execution_count": 3,
   "id": "c26776c1",
   "metadata": {},
   "outputs": [
    {
     "name": "stdout",
     "output_type": "stream",
     "text": [
      "put: `tp5/At The Mountains of Madness by H. P. Lovecraft.txt': File exists\n",
      "put: `tp5/Dracula by Bram Stoker.txt': File exists\n",
      "put: `tp5/Elegia by Manuel Maria Barbosa du Bocage.txt': File exists\n",
      "put: `tp5/Frankenstein by Mary Wollstonecraft Shelley.txt': File exists\n",
      "put: `tp5/Improvisos de Bocage by Manuel Maria Barbosa du Bocage.txt': File exists\n",
      "put: `tp5/Medusa's coil by Zealia B. Bishop and H. P. Lovecraft.txt': File exists\n",
      "put: `tp5/Os jardins ou a arte de aformosear as paisagens Poema by Jacques Delille.txt': File exists\n",
      "put: `tp5/Poesias Eroticas, Burlescas, e Satyricas de M.M. de Barbosa du Bocage by Bocage.txt': File exists\n",
      "put: `tp5/Queixumes do Pastor Elmano Contra a Falsidade da Pastora Urselina by Bocage.txt': File exists\n",
      "put: `tp5/The Call of Cthulhu by H. P. Lovecraft.txt': File exists\n",
      "put: `tp5/The Castle of Otranto by Horace Walpole.txt': File exists\n",
      "put: `tp5/The Colour Out of Space by H. P. Lovecraft.txt': File exists\n",
      "put: `tp5/The Curse of Yig by Zealia B. Bishop and H. P. Lovecraft.txt': File exists\n",
      "put: `tp5/The Fall of the House of Usher by Edgar Allan Poe.txt': File exists\n",
      "put: `tp5/The Lurking Fear by H. P. Lovecraft.txt': File exists\n",
      "put: `tp5/The Mysteries of Udolpho by Ann Ward Radcliffe.txt': File exists\n",
      "put: `tp5/The Phantom of the Opera by Gaston Leroux.txt': File exists\n",
      "put: `tp5/The Raven by Edgar Allan Poe.txt': File exists\n",
      "put: `tp5/The Strange Case of Dr. Jekyll and Mr. Hyde by Robert Louis Stevenson.txt': File exists\n",
      "put: `tp5/The Wendigo by Algernon Blackwood.txt': File exists\n",
      "CPU times: user 13 ms, sys: 19.9 ms, total: 33 ms\n",
      "Wall time: 1.62 s\n"
     ]
    }
   ],
   "source": [
    "%%time\n",
    "! hadoop fs -put ../datasets/tp5"
   ]
  },
  {
   "cell_type": "code",
   "execution_count": 4,
   "id": "a16a40cd",
   "metadata": {},
   "outputs": [
    {
     "name": "stdout",
     "output_type": "stream",
     "text": [
      "Found 2 items\r\n",
      "drwxr-xr-x   - root supergroup          0 2023-06-24 04:10 hdfs://node-master:9000/user/root/.sparkStaging\r\n",
      "drwxr-xr-x   - root supergroup          0 2023-06-24 00:27 hdfs://node-master:9000/user/root/tp5\r\n"
     ]
    }
   ],
   "source": [
    "! hadoop fs -ls hdfs://node-master:9000/user/root"
   ]
  },
  {
   "cell_type": "code",
   "execution_count": 5,
   "id": "eafcccef",
   "metadata": {},
   "outputs": [
    {
     "name": "stdout",
     "output_type": "stream",
     "text": [
      "Found 20 items\r\n",
      "-rw-r--r--   2 root supergroup     270199 2023-06-24 00:27 hdfs://node-master:9000/user/root/tp5/At The Mountains of Madness by H. P. Lovecraft.txt\r\n",
      "-rw-r--r--   2 root supergroup     881691 2023-06-24 00:27 hdfs://node-master:9000/user/root/tp5/Dracula by Bram Stoker.txt\r\n",
      "-rw-r--r--   2 root supergroup      23527 2023-06-24 00:27 hdfs://node-master:9000/user/root/tp5/Elegia by Manuel Maria Barbosa du Bocage.txt\r\n",
      "-rw-r--r--   2 root supergroup     448609 2023-06-24 00:27 hdfs://node-master:9000/user/root/tp5/Frankenstein by Mary Wollstonecraft Shelley.txt\r\n",
      "-rw-r--r--   2 root supergroup      37440 2023-06-24 00:27 hdfs://node-master:9000/user/root/tp5/Improvisos de Bocage by Manuel Maria Barbosa du Bocage.txt\r\n",
      "-rw-r--r--   2 root supergroup     111420 2023-06-24 00:27 hdfs://node-master:9000/user/root/tp5/Medusa's coil by Zealia B. Bishop and H. P. Lovecraft.txt\r\n",
      "-rw-r--r--   2 root supergroup     241819 2023-06-24 00:27 hdfs://node-master:9000/user/root/tp5/Os jardins ou a arte de aformosear as paisagens Poema by Jacques Delille.txt\r\n",
      "-rw-r--r--   2 root supergroup     236967 2023-06-24 00:27 hdfs://node-master:9000/user/root/tp5/Poesias Eroticas, Burlescas, e Satyricas de M.M. de Barbosa du Bocage by Bocage.txt\r\n",
      "-rw-r--r--   2 root supergroup      31977 2023-06-24 00:27 hdfs://node-master:9000/user/root/tp5/Queixumes do Pastor Elmano Contra a Falsidade da Pastora Urselina by Bocage.txt\r\n",
      "-rw-r--r--   2 root supergroup      92047 2023-06-24 00:27 hdfs://node-master:9000/user/root/tp5/The Call of Cthulhu by H. P. Lovecraft.txt\r\n",
      "-rw-r--r--   2 root supergroup     240149 2023-06-24 00:27 hdfs://node-master:9000/user/root/tp5/The Castle of Otranto by Horace Walpole.txt\r\n",
      "-rw-r--r--   2 root supergroup      90778 2023-06-24 00:27 hdfs://node-master:9000/user/root/tp5/The Colour Out of Space by H. P. Lovecraft.txt\r\n",
      "-rw-r--r--   2 root supergroup      60167 2023-06-24 00:27 hdfs://node-master:9000/user/root/tp5/The Curse of Yig by Zealia B. Bishop and H. P. Lovecraft.txt\r\n",
      "-rw-r--r--   2 root supergroup      63259 2023-06-24 00:27 hdfs://node-master:9000/user/root/tp5/The Fall of the House of Usher by Edgar Allan Poe.txt\r\n",
      "-rw-r--r--   2 root supergroup      69149 2023-06-24 00:27 hdfs://node-master:9000/user/root/tp5/The Lurking Fear by H. P. Lovecraft.txt\r\n",
      "-rw-r--r--   2 root supergroup    1749951 2023-06-24 00:27 hdfs://node-master:9000/user/root/tp5/The Mysteries of Udolpho by Ann Ward Radcliffe.txt\r\n",
      "-rw-r--r--   2 root supergroup     504770 2023-06-24 00:27 hdfs://node-master:9000/user/root/tp5/The Phantom of the Opera by Gaston Leroux.txt\r\n",
      "-rw-r--r--   2 root supergroup      27036 2023-06-24 00:27 hdfs://node-master:9000/user/root/tp5/The Raven by Edgar Allan Poe.txt\r\n",
      "-rw-r--r--   2 root supergroup     163456 2023-06-24 00:27 hdfs://node-master:9000/user/root/tp5/The Strange Case of Dr. Jekyll and Mr. Hyde by Robert Louis Stevenson.txt\r\n",
      "-rw-r--r--   2 root supergroup     129937 2023-06-24 00:27 hdfs://node-master:9000/user/root/tp5/The Wendigo by Algernon Blackwood.txt\r\n"
     ]
    }
   ],
   "source": [
    "! hadoop fs -ls hdfs://node-master:9000/user/root/tp5"
   ]
  },
  {
   "cell_type": "code",
   "execution_count": 6,
   "id": "94b4a41f",
   "metadata": {},
   "outputs": [],
   "source": [
    "def shape(df):\n",
    "    return (df.count(), len(df.columns))"
   ]
  },
  {
   "cell_type": "markdown",
   "id": "9f75327d",
   "metadata": {},
   "source": [
    "### Reading txt file"
   ]
  },
  {
   "cell_type": "code",
   "execution_count": 7,
   "id": "8cd836d1",
   "metadata": {},
   "outputs": [],
   "source": [
    "dataset_path = \"hdfs://node-master:9000/user/root/tp5\""
   ]
  },
  {
   "cell_type": "code",
   "execution_count": 8,
   "id": "c5aed7ac",
   "metadata": {},
   "outputs": [],
   "source": [
    "dfft_ = spark.read.format(\n",
    "    \"csv\"\n",
    ").option(\n",
    "    \"header\", \"false\"\n",
    ").schema(\n",
    "    StructType([StructField(\"full_text\", StringType(), True)])\n",
    ").load(\n",
    "    f\"{dataset_path}/*.txt\"\n",
    ")"
   ]
  },
  {
   "cell_type": "code",
   "execution_count": 12,
   "id": "7c735350",
   "metadata": {},
   "outputs": [
    {
     "data": {
      "text/plain": [
       "(87194, 1)"
      ]
     },
     "execution_count": 12,
     "metadata": {},
     "output_type": "execute_result"
    }
   ],
   "source": [
    "shape(dfft_)"
   ]
  },
  {
   "cell_type": "code",
   "execution_count": 13,
   "id": "7e72371e",
   "metadata": {},
   "outputs": [
    {
     "data": {
      "text/plain": [
       "[Row(full_text='The Project Gutenberg eBook of The Mysteries of Udolpho'),\n",
       " Row(full_text='This eBook is for the use of anyone anywhere in the United States and'),\n",
       " Row(full_text='most other parts of the world at no cost and with almost no restrictions'),\n",
       " Row(full_text='whatsoever. You may copy it'),\n",
       " Row(full_text='of the Project Gutenberg License included with this eBook or online at'),\n",
       " Row(full_text='www.gutenberg.org. If you are not located in the United States'),\n",
       " Row(full_text='will have to check the laws of the country where you are located before'),\n",
       " Row(full_text='using this eBook.'),\n",
       " Row(full_text='Title: The Mysteries of Udolpho'),\n",
       " Row(full_text='Author: Ann Radcliffe'),\n",
       " Row(full_text='Release Date: March 4'),\n",
       " Row(full_text='[Most recently updated: December 1'),\n",
       " Row(full_text='Language: English'),\n",
       " Row(full_text='Produced by: Karalee Coleman and David Widger'),\n",
       " Row(full_text='*** START OF THE PROJECT GUTENBERG EBOOK THE MYSTERIES OF UDOLPHO ***'),\n",
       " Row(full_text='cover '),\n",
       " Row(full_text='The Mysteries of Udolpho'),\n",
       " Row(full_text=' A Romance '),\n",
       " Row(full_text=' Interspersed With Some Pieces of Poetry '),\n",
       " Row(full_text=' By Ann Radcliffe'),\n",
       " Row(full_text='Contents'),\n",
       " Row(full_text=' VOLUME I'),\n",
       " Row(full_text=' CHAPTER I'),\n",
       " Row(full_text=' CHAPTER II'),\n",
       " Row(full_text=' CHAPTER III'),\n",
       " Row(full_text=' CHAPTER IV'),\n",
       " Row(full_text=' CHAPTER V'),\n",
       " Row(full_text=' CHAPTER VI'),\n",
       " Row(full_text=' CHAPTER VII'),\n",
       " Row(full_text=' CHAPTER VIII')]"
      ]
     },
     "execution_count": 13,
     "metadata": {},
     "output_type": "execute_result"
    }
   ],
   "source": [
    "dfft_.head(30)"
   ]
  },
  {
   "cell_type": "markdown",
   "id": "fc8a876a",
   "metadata": {},
   "source": [
    "- **Remoção de linha descartáveis**"
   ]
  },
  {
   "cell_type": "code",
   "execution_count": 14,
   "id": "187c7f8f",
   "metadata": {},
   "outputs": [],
   "source": [
    "WINDOWS_SEP = \"\\r\\n\\r\\n\"\n",
    "UNIX_LIKE_SEP = \"\\n\\n\""
   ]
  },
  {
   "cell_type": "code",
   "execution_count": 15,
   "id": "acf644a5",
   "metadata": {},
   "outputs": [],
   "source": [
    "dfft = spark.read.text(\n",
    "    [f\"{dataset_path}/*.txt\"],\n",
    "    lineSep=WINDOWS_SEP\n",
    ")"
   ]
  },
  {
   "cell_type": "code",
   "execution_count": 16,
   "id": "e595f252",
   "metadata": {},
   "outputs": [
    {
     "data": {
      "text/plain": [
       "(14255, 1)"
      ]
     },
     "execution_count": 16,
     "metadata": {},
     "output_type": "execute_result"
    }
   ],
   "source": [
    "shape(dfft)"
   ]
  },
  {
   "cell_type": "code",
   "execution_count": 17,
   "id": "e1488173",
   "metadata": {},
   "outputs": [
    {
     "name": "stdout",
     "output_type": "stream",
     "text": [
      "root\n",
      " |-- value: string (nullable = true)\n",
      "\n"
     ]
    }
   ],
   "source": [
    "dfft.printSchema()"
   ]
  },
  {
   "cell_type": "code",
   "execution_count": 18,
   "id": "36011563",
   "metadata": {
    "scrolled": false
   },
   "outputs": [
    {
     "data": {
      "text/plain": [
       "[Row(value='The Project Gutenberg eBook of The Mysteries of Udolpho, by Ann Radcliffe'),\n",
       " Row(value='This eBook is for the use of anyone anywhere in the United States and\\r\\nmost other parts of the world at no cost and with almost no restrictions\\r\\nwhatsoever. You may copy it, give it away or re-use it under the terms\\r\\nof the Project Gutenberg License included with this eBook or online at\\r\\nwww.gutenberg.org. If you are not located in the United States, you\\r\\nwill have to check the laws of the country where you are located before\\r\\nusing this eBook.'),\n",
       " Row(value='Title: The Mysteries of Udolpho'),\n",
       " Row(value='Author: Ann Radcliffe'),\n",
       " Row(value='Release Date: March 4, 2001 [eBook #3268]\\r\\n[Most recently updated: December 1, 2022]'),\n",
       " Row(value='Language: English'),\n",
       " Row(value='\\r\\nProduced by: Karalee Coleman and David Widger'),\n",
       " Row(value='*** START OF THE PROJECT GUTENBERG EBOOK THE MYSTERIES OF UDOLPHO ***'),\n",
       " Row(value=''),\n",
       " Row(value='\\r\\ncover '),\n",
       " Row(value=''),\n",
       " Row(value='The Mysteries of Udolpho'),\n",
       " Row(value=' A Romance '),\n",
       " Row(value=' Interspersed With Some Pieces of Poetry '),\n",
       " Row(value=' By Ann Radcliffe'),\n",
       " Row(value=''),\n",
       " Row(value='Contents'),\n",
       " Row(value='\\r\\n VOLUME I\\r\\n CHAPTER I\\r\\n CHAPTER II\\r\\n CHAPTER III\\r\\n CHAPTER IV\\r\\n CHAPTER V\\r\\n CHAPTER VI\\r\\n CHAPTER VII\\r\\n CHAPTER VIII\\r\\n CHAPTER IX\\r\\n CHAPTER X\\r\\n CHAPTER XI\\r\\n CHAPTER XII\\r\\n CHAPTER XIII'),\n",
       " Row(value=' VOLUME II\\r\\n CHAPTER I\\r\\n CHAPTER II\\r\\n CHAPTER III\\r\\n CHAPTER IV\\r\\n CHAPTER V\\r\\n CHAPTER VI\\r\\n CHAPTER VII\\r\\n CHAPTER VIII\\r\\n CHAPTER IX\\r\\n CHAPTER X\\r\\n CHAPTER XI\\r\\n CHAPTER XII'),\n",
       " Row(value=' VOLUME III\\r\\n CHAPTER I\\r\\n CHAPTER II\\r\\n CHAPTER III\\r\\n CHAPTER IV\\r\\n CHAPTER V\\r\\n CHAPTER VI\\r\\n CHAPTER VII\\r\\n CHAPTER VIII\\r\\n CHAPTER IX\\r\\n CHAPTER X\\r\\n CHAPTER XI\\r\\n CHAPTER XII\\r\\n CHAPTER XIII')]"
      ]
     },
     "execution_count": 18,
     "metadata": {},
     "output_type": "execute_result"
    }
   ],
   "source": [
    "dfft.head(20)"
   ]
  },
  {
   "cell_type": "markdown",
   "id": "81ccf945",
   "metadata": {},
   "source": [
    "### Data Wrangling"
   ]
  },
  {
   "cell_type": "code",
   "execution_count": 19,
   "id": "c48c3ff1",
   "metadata": {},
   "outputs": [],
   "source": [
    "dfft_s1 = dfft.withColumn(\n",
    "    \"value_s1\", regexp_replace(col(\"value\"), \"[\\r\\n\\`\\'\\;\\,]\", \" \")\n",
    ")"
   ]
  },
  {
   "cell_type": "code",
   "execution_count": 20,
   "id": "f7df76db",
   "metadata": {},
   "outputs": [
    {
     "data": {
      "text/plain": [
       "'Title: The Mysteries of Udolpho'"
      ]
     },
     "execution_count": 20,
     "metadata": {},
     "output_type": "execute_result"
    }
   ],
   "source": [
    "dfft_s1.collect()[2][\"value_s1\"]"
   ]
  },
  {
   "cell_type": "code",
   "execution_count": 21,
   "id": "f6173aec",
   "metadata": {},
   "outputs": [],
   "source": [
    "dfftc = dfft_s1.withColumn(\"paragraph\", col(\"value_s1\")).select(\"paragraph\")"
   ]
  },
  {
   "cell_type": "code",
   "execution_count": 22,
   "id": "00a59eb1",
   "metadata": {},
   "outputs": [
    {
     "name": "stdout",
     "output_type": "stream",
     "text": [
      "+--------------------+\n",
      "|           paragraph|\n",
      "+--------------------+\n",
      "|The Project Guten...|\n",
      "|This eBook is for...|\n",
      "|Title: The Myster...|\n",
      "|Author: Ann Radcl...|\n",
      "|Release Date: Mar...|\n",
      "|   Language: English|\n",
      "|  Produced by: Ka...|\n",
      "|*** START OF THE ...|\n",
      "|                    |\n",
      "|              cover |\n",
      "|                    |\n",
      "|The Mysteries of ...|\n",
      "|          A Romance |\n",
      "| Interspersed Wit...|\n",
      "|    By Ann Radcliffe|\n",
      "|                    |\n",
      "|            Contents|\n",
      "|   VOLUME I   CHA...|\n",
      "| VOLUME II   CHAP...|\n",
      "| VOLUME III   CHA...|\n",
      "+--------------------+\n",
      "only showing top 20 rows\n",
      "\n"
     ]
    }
   ],
   "source": [
    "dfftc.show()"
   ]
  },
  {
   "cell_type": "code",
   "execution_count": 23,
   "id": "7a572f89",
   "metadata": {},
   "outputs": [],
   "source": [
    "dfft_s2 = dfftc.withColumn(\n",
    "    \"value_s2\", regexp_replace(col(\"paragraph\"), \"[^A-z0-9\\ ]\", \"\")\n",
    ")"
   ]
  },
  {
   "cell_type": "code",
   "execution_count": 24,
   "id": "77b9c1ae",
   "metadata": {},
   "outputs": [
    {
     "data": {
      "text/plain": [
       "'Title The Mysteries of Udolpho'"
      ]
     },
     "execution_count": 24,
     "metadata": {},
     "output_type": "execute_result"
    }
   ],
   "source": [
    "dfft_s2.collect()[2][\"value_s2\"]"
   ]
  },
  {
   "cell_type": "code",
   "execution_count": 25,
   "id": "795ac366",
   "metadata": {},
   "outputs": [],
   "source": [
    "dfft_s3 = dfft_s2.select(\n",
    "    \"value_s2\",\n",
    "    \"paragraph\",\n",
    "    trim(col(\"value_s2\")).alias(\"value_s3\")\n",
    ")"
   ]
  },
  {
   "cell_type": "code",
   "execution_count": 26,
   "id": "100823e2",
   "metadata": {},
   "outputs": [
    {
     "data": {
      "text/plain": [
       "'Title The Mysteries of Udolpho'"
      ]
     },
     "execution_count": 26,
     "metadata": {},
     "output_type": "execute_result"
    }
   ],
   "source": [
    "dfft_s3.collect()[2][\"value_s3\"]"
   ]
  },
  {
   "cell_type": "code",
   "execution_count": 27,
   "id": "48c92dff",
   "metadata": {},
   "outputs": [],
   "source": [
    "dfft_s4 = dfft_s3.withColumn(\n",
    "    \"value_s4\", regexp_replace(col(\"value_s3\"), \"\\s+\", \" \")\n",
    ")"
   ]
  },
  {
   "cell_type": "code",
   "execution_count": 28,
   "id": "af03484c",
   "metadata": {},
   "outputs": [
    {
     "data": {
      "text/plain": [
       "'Title The Mysteries of Udolpho'"
      ]
     },
     "execution_count": 28,
     "metadata": {},
     "output_type": "execute_result"
    }
   ],
   "source": [
    "dfft_s4.collect()[2][\"value_s4\"]"
   ]
  },
  {
   "cell_type": "markdown",
   "id": "53bbb8e1",
   "metadata": {},
   "source": [
    "### Removing Stop Words"
   ]
  },
  {
   "cell_type": "code",
   "execution_count": 29,
   "id": "00e143d1",
   "metadata": {},
   "outputs": [],
   "source": [
    "dfftc_s1 = dfft_s4.withColumn(\"words\", split(lower(col(\"value_s4\")), \" \"))"
   ]
  },
  {
   "cell_type": "code",
   "execution_count": 30,
   "id": "54777a04",
   "metadata": {},
   "outputs": [
    {
     "name": "stdout",
     "output_type": "stream",
     "text": [
      "root\n",
      " |-- value_s2: string (nullable = true)\n",
      " |-- paragraph: string (nullable = true)\n",
      " |-- value_s3: string (nullable = true)\n",
      " |-- value_s4: string (nullable = true)\n",
      " |-- words: array (nullable = true)\n",
      " |    |-- element: string (containsNull = true)\n",
      "\n"
     ]
    }
   ],
   "source": [
    "dfftc_s1.printSchema()"
   ]
  },
  {
   "cell_type": "code",
   "execution_count": 31,
   "id": "c2ab6b1a",
   "metadata": {},
   "outputs": [],
   "source": [
    "dfftc_s1 = dfftc_s1.select(\"words\", \"paragraph\")"
   ]
  },
  {
   "cell_type": "code",
   "execution_count": 32,
   "id": "b6e1ac1d",
   "metadata": {},
   "outputs": [
    {
     "name": "stdout",
     "output_type": "stream",
     "text": [
      "root\n",
      " |-- words: array (nullable = true)\n",
      " |    |-- element: string (containsNull = true)\n",
      " |-- paragraph: string (nullable = true)\n",
      "\n"
     ]
    }
   ],
   "source": [
    "dfftc_s1.printSchema()"
   ]
  },
  {
   "cell_type": "code",
   "execution_count": 33,
   "id": "cc0ea894",
   "metadata": {},
   "outputs": [
    {
     "data": {
      "text/plain": [
       "[Row(words=['the', 'project', 'gutenberg', 'ebook', 'of', 'the', 'mysteries', 'of', 'udolpho', 'by', 'ann', 'radcliffe'], paragraph='The Project Gutenberg eBook of The Mysteries of Udolpho  by Ann Radcliffe'),\n",
       " Row(words=['this', 'ebook', 'is', 'for', 'the', 'use', 'of', 'anyone', 'anywhere', 'in', 'the', 'united', 'states', 'and', 'most', 'other', 'parts', 'of', 'the', 'world', 'at', 'no', 'cost', 'and', 'with', 'almost', 'no', 'restrictions', 'whatsoever', 'you', 'may', 'copy', 'it', 'give', 'it', 'away', 'or', 'reuse', 'it', 'under', 'the', 'terms', 'of', 'the', 'project', 'gutenberg', 'license', 'included', 'with', 'this', 'ebook', 'or', 'online', 'at', 'wwwgutenbergorg', 'if', 'you', 'are', 'not', 'located', 'in', 'the', 'united', 'states', 'you', 'will', 'have', 'to', 'check', 'the', 'laws', 'of', 'the', 'country', 'where', 'you', 'are', 'located', 'before', 'using', 'this', 'ebook'], paragraph='This eBook is for the use of anyone anywhere in the United States and  most other parts of the world at no cost and with almost no restrictions  whatsoever. You may copy it  give it away or re-use it under the terms  of the Project Gutenberg License included with this eBook or online at  www.gutenberg.org. If you are not located in the United States  you  will have to check the laws of the country where you are located before  using this eBook.'),\n",
       " Row(words=['title', 'the', 'mysteries', 'of', 'udolpho'], paragraph='Title: The Mysteries of Udolpho'),\n",
       " Row(words=['author', 'ann', 'radcliffe'], paragraph='Author: Ann Radcliffe'),\n",
       " Row(words=['release', 'date', 'march', '4', '2001', '[ebook', '3268]', '[most', 'recently', 'updated', 'december', '1', '2022]'], paragraph='Release Date: March 4  2001 [eBook #3268]  [Most recently updated: December 1  2022]'),\n",
       " Row(words=['language', 'english'], paragraph='Language: English'),\n",
       " Row(words=['produced', 'by', 'karalee', 'coleman', 'and', 'david', 'widger'], paragraph='  Produced by: Karalee Coleman and David Widger'),\n",
       " Row(words=['start', 'of', 'the', 'project', 'gutenberg', 'ebook', 'the', 'mysteries', 'of', 'udolpho'], paragraph='*** START OF THE PROJECT GUTENBERG EBOOK THE MYSTERIES OF UDOLPHO ***'),\n",
       " Row(words=[''], paragraph=''),\n",
       " Row(words=['cover'], paragraph='  cover ')]"
      ]
     },
     "execution_count": 33,
     "metadata": {},
     "output_type": "execute_result"
    }
   ],
   "source": [
    "dfftc_s1.head(10)"
   ]
  },
  {
   "cell_type": "code",
   "execution_count": 34,
   "id": "62801cb2",
   "metadata": {},
   "outputs": [],
   "source": [
    "remover = StopWordsRemover(inputCol=\"words\", outputCol=\"keys\")"
   ]
  },
  {
   "cell_type": "code",
   "execution_count": 35,
   "id": "f0070430",
   "metadata": {},
   "outputs": [],
   "source": [
    "dfftc_s2 = remover.transform(dfftc_s1)"
   ]
  },
  {
   "cell_type": "code",
   "execution_count": 36,
   "id": "da410d80",
   "metadata": {},
   "outputs": [
    {
     "data": {
      "text/plain": [
       "Row(words=['the', 'project', 'gutenberg', 'ebook', 'of', 'the', 'mysteries', 'of', 'udolpho', 'by', 'ann', 'radcliffe'], paragraph='The Project Gutenberg eBook of The Mysteries of Udolpho  by Ann Radcliffe', keys=['project', 'gutenberg', 'ebook', 'mysteries', 'udolpho', 'ann', 'radcliffe'])"
      ]
     },
     "execution_count": 36,
     "metadata": {},
     "output_type": "execute_result"
    }
   ],
   "source": [
    "dfftc_s2.head()"
   ]
  },
  {
   "cell_type": "code",
   "execution_count": 37,
   "id": "822da824",
   "metadata": {
    "scrolled": true
   },
   "outputs": [
    {
     "data": {
      "text/plain": [
       "Row(words=['title', 'the', 'mysteries', 'of', 'udolpho'], paragraph='Title: The Mysteries of Udolpho', keys=['title', 'mysteries', 'udolpho'])"
      ]
     },
     "execution_count": 37,
     "metadata": {},
     "output_type": "execute_result"
    }
   ],
   "source": [
    "dfftc_s2.collect()[2]"
   ]
  },
  {
   "cell_type": "markdown",
   "id": "75f63ca0",
   "metadata": {},
   "source": [
    "### Registering search table"
   ]
  },
  {
   "cell_type": "code",
   "execution_count": 38,
   "id": "1455c9a2",
   "metadata": {},
   "outputs": [],
   "source": [
    "dff = dfftc_s2.select(\n",
    "    \"keys\", \"paragraph\"\n",
    ")"
   ]
  },
  {
   "cell_type": "code",
   "execution_count": 39,
   "id": "8bad06f5",
   "metadata": {},
   "outputs": [
    {
     "name": "stdout",
     "output_type": "stream",
     "text": [
      "+--------------------+--------------------+\n",
      "|                keys|           paragraph|\n",
      "+--------------------+--------------------+\n",
      "|[project, gutenbe...|The Project Guten...|\n",
      "|[ebook, use, anyo...|This eBook is for...|\n",
      "|[title, mysteries...|Title: The Myster...|\n",
      "|[author, ann, rad...|Author: Ann Radcl...|\n",
      "|[release, date, m...|Release Date: Mar...|\n",
      "| [language, english]|   Language: English|\n",
      "|[produced, karale...|  Produced by: Ka...|\n",
      "|[start, project, ...|*** START OF THE ...|\n",
      "|                  []|                    |\n",
      "|             [cover]|              cover |\n",
      "|                  []|                    |\n",
      "|[mysteries, udolpho]|The Mysteries of ...|\n",
      "|           [romance]|          A Romance |\n",
      "|[interspersed, pi...| Interspersed Wit...|\n",
      "|    [ann, radcliffe]|    By Ann Radcliffe|\n",
      "|                  []|                    |\n",
      "|          [contents]|            Contents|\n",
      "|[volume, chapter,...|   VOLUME I   CHA...|\n",
      "|[volume, ii, chap...| VOLUME II   CHAP...|\n",
      "|[volume, iii, cha...| VOLUME III   CHA...|\n",
      "+--------------------+--------------------+\n",
      "only showing top 20 rows\n",
      "\n"
     ]
    }
   ],
   "source": [
    "dff.show()"
   ]
  },
  {
   "cell_type": "code",
   "execution_count": 40,
   "id": "2aa595b0",
   "metadata": {},
   "outputs": [],
   "source": [
    "dfftc = dfft_s1.withColumn(\"paragraph\", col(\"value_s1\")).select(\"paragraph\")"
   ]
  },
  {
   "cell_type": "code",
   "execution_count": 47,
   "id": "0eb6a998",
   "metadata": {},
   "outputs": [],
   "source": [
    "dff_title = dff.withColumn(\"Title\", col(\"paragraph\").contains(\"Title:\"))"
   ]
  },
  {
   "cell_type": "code",
   "execution_count": 46,
   "id": "70fd8d24",
   "metadata": {},
   "outputs": [
    {
     "ename": "TypeError",
     "evalue": "'Column' object is not callable",
     "output_type": "error",
     "traceback": [
      "\u001b[0;31m\u001b[0m",
      "\u001b[0;31mTypeError\u001b[0mTraceback (most recent call last)",
      "\u001b[0;32m<ipython-input-46-39e2d9e04663>\u001b[0m in \u001b[0;36m<module>\u001b[0;34m\u001b[0m\n\u001b[0;32m----> 1\u001b[0;31m \u001b[0mdff_title2\u001b[0m \u001b[0;34m=\u001b[0m \u001b[0mdff\u001b[0m\u001b[0;34m.\u001b[0m\u001b[0mwithColumn\u001b[0m\u001b[0;34m(\u001b[0m\u001b[0;34m\"Title\"\u001b[0m\u001b[0;34m,\u001b[0m \u001b[0mcol\u001b[0m\u001b[0;34m(\u001b[0m\u001b[0;34m\"paragraph\"\u001b[0m\u001b[0;34m)\u001b[0m\u001b[0;34m.\u001b[0m\u001b[0mfilter\u001b[0m\u001b[0;34m(\u001b[0m\u001b[0mcol\u001b[0m\u001b[0;34m(\u001b[0m\u001b[0;34m\"paragraph\"\u001b[0m\u001b[0;34m)\u001b[0m \u001b[0;34m==\u001b[0m \u001b[0;34m'Title:'\u001b[0m\u001b[0;34m)\u001b[0m\u001b[0;34m)\u001b[0m\u001b[0;34m\u001b[0m\u001b[0;34m\u001b[0m\u001b[0m\n\u001b[0m",
      "\u001b[0;31mTypeError\u001b[0m: 'Column' object is not callable"
     ]
    }
   ],
   "source": [
    "dff_title2 = dff.withColumn(\"Title\", col(\"paragraph\").filter(col(\"paragraph\") == 'Title:'))"
   ]
  },
  {
   "cell_type": "code",
   "execution_count": 42,
   "id": "5b84453f",
   "metadata": {},
   "outputs": [
    {
     "name": "stdout",
     "output_type": "stream",
     "text": [
      "+--------------------+--------------------+-----+\n",
      "|                keys|           paragraph|Title|\n",
      "+--------------------+--------------------+-----+\n",
      "|[project, gutenbe...|The Project Guten...|false|\n",
      "|[ebook, use, anyo...|This eBook is for...|false|\n",
      "|[title, mysteries...|Title: The Myster...| true|\n",
      "|[author, ann, rad...|Author: Ann Radcl...|false|\n",
      "|[release, date, m...|Release Date: Mar...|false|\n",
      "| [language, english]|   Language: English|false|\n",
      "|[produced, karale...|  Produced by: Ka...|false|\n",
      "|[start, project, ...|*** START OF THE ...|false|\n",
      "|                  []|                    |false|\n",
      "|             [cover]|              cover |false|\n",
      "|                  []|                    |false|\n",
      "|[mysteries, udolpho]|The Mysteries of ...|false|\n",
      "|           [romance]|          A Romance |false|\n",
      "|[interspersed, pi...| Interspersed Wit...|false|\n",
      "|    [ann, radcliffe]|    By Ann Radcliffe|false|\n",
      "|                  []|                    |false|\n",
      "|          [contents]|            Contents|false|\n",
      "|[volume, chapter,...|   VOLUME I   CHA...|false|\n",
      "|[volume, ii, chap...| VOLUME II   CHAP...|false|\n",
      "|[volume, iii, cha...| VOLUME III   CHA...|false|\n",
      "+--------------------+--------------------+-----+\n",
      "only showing top 20 rows\n",
      "\n"
     ]
    }
   ],
   "source": [
    "dff_title2.show()"
   ]
  },
  {
   "cell_type": "code",
   "execution_count": 107,
   "id": "55d5dceb",
   "metadata": {},
   "outputs": [],
   "source": [
    "column_title = dff.filter(col(\"paragraph\").contains(\"Title:\"))"
   ]
  },
  {
   "cell_type": "code",
   "execution_count": 108,
   "id": "23408ae0",
   "metadata": {},
   "outputs": [],
   "source": [
    "column_title = column_title.select(\"paragraph\")"
   ]
  },
  {
   "cell_type": "code",
   "execution_count": 109,
   "id": "1c950e9f",
   "metadata": {},
   "outputs": [
    {
     "name": "stdout",
     "output_type": "stream",
     "text": [
      "+--------------------+\n",
      "|           paragraph|\n",
      "+--------------------+\n",
      "|Title: The Myster...|\n",
      "|      Title: Dracula|\n",
      "|  Title: The Phan...|\n",
      "|Title: Frankenste...|\n",
      "|Title: At the mou...|\n",
      "|Title: Os jardins...|\n",
      "|Title: The Castle...|\n",
      "|Title: Poesias Er...|\n",
      "|Title: The Strang...|\n",
      "|  Title: The Wendigo|\n",
      "|Title: Medusa s coil|\n",
      "|Title: The call o...|\n",
      "|Title: The colour...|\n",
      "|Title: The lurkin...|\n",
      "|  Title: The Fall...|\n",
      "|Title: The curse ...|\n",
      "|  Title: Improvis...|\n",
      "|  Title: Queixume...|\n",
      "|    Title: The Raven|\n",
      "|       Title: Elegia|\n",
      "+--------------------+\n",
      "\n"
     ]
    }
   ],
   "source": [
    "column_title.show()"
   ]
  },
  {
   "cell_type": "code",
   "execution_count": 110,
   "id": "ef10b1ad",
   "metadata": {},
   "outputs": [],
   "source": [
    "column_title = column_title.withColumn(\n",
    "    \"Titles\", regexp_replace(col(\"paragraph\"), \"Title: \", \"\")\n",
    ")\n",
    "column_title = column_title.select(\"Titles\")"
   ]
  },
  {
   "cell_type": "code",
   "execution_count": 111,
   "id": "769ffafc",
   "metadata": {},
   "outputs": [
    {
     "name": "stdout",
     "output_type": "stream",
     "text": [
      "+--------------------+\n",
      "|              Titles|\n",
      "+--------------------+\n",
      "|The Mysteries of ...|\n",
      "|             Dracula|\n",
      "|  The Phantom of ...|\n",
      "|Frankenstein     ...|\n",
      "|At the mountains ...|\n",
      "|Os jardins ou a a...|\n",
      "|The Castle of Otr...|\n",
      "|Poesias Eroticas ...|\n",
      "|The Strange Case ...|\n",
      "|         The Wendigo|\n",
      "|       Medusa s coil|\n",
      "| The call of Cthulhu|\n",
      "|The colour out of...|\n",
      "|    The lurking fear|\n",
      "|  The Fall of the...|\n",
      "|    The curse of Yig|\n",
      "|  Improvisos de B...|\n",
      "|  Queixumes do Pa...|\n",
      "|           The Raven|\n",
      "|              Elegia|\n",
      "+--------------------+\n",
      "\n"
     ]
    }
   ],
   "source": [
    "column_title.show()"
   ]
  },
  {
   "cell_type": "code",
   "execution_count": 112,
   "id": "97c6c643",
   "metadata": {},
   "outputs": [],
   "source": [
    "columns_title_language = column_title.withColumn('Language', lit(None).cast(StringType()))"
   ]
  },
  {
   "cell_type": "code",
   "execution_count": 113,
   "id": "ec779087",
   "metadata": {},
   "outputs": [
    {
     "name": "stdout",
     "output_type": "stream",
     "text": [
      "+--------------------+--------+\n",
      "|              Titles|Language|\n",
      "+--------------------+--------+\n",
      "|The Mysteries of ...|    null|\n",
      "|             Dracula|    null|\n",
      "|  The Phantom of ...|    null|\n",
      "|Frankenstein     ...|    null|\n",
      "|At the mountains ...|    null|\n",
      "|Os jardins ou a a...|    null|\n",
      "|The Castle of Otr...|    null|\n",
      "|Poesias Eroticas ...|    null|\n",
      "|The Strange Case ...|    null|\n",
      "|         The Wendigo|    null|\n",
      "|       Medusa s coil|    null|\n",
      "| The call of Cthulhu|    null|\n",
      "|The colour out of...|    null|\n",
      "|    The lurking fear|    null|\n",
      "|  The Fall of the...|    null|\n",
      "|    The curse of Yig|    null|\n",
      "|  Improvisos de B...|    null|\n",
      "|  Queixumes do Pa...|    null|\n",
      "|           The Raven|    null|\n",
      "|              Elegia|    null|\n",
      "+--------------------+--------+\n",
      "\n"
     ]
    }
   ],
   "source": [
    "columns_title_language.show()"
   ]
  },
  {
   "cell_type": "code",
   "execution_count": 114,
   "id": "7e05f3ac",
   "metadata": {},
   "outputs": [],
   "source": [
    "column_language = dff.filter(col(\"paragraph\").contains(\"Language:\"))"
   ]
  },
  {
   "cell_type": "code",
   "execution_count": 115,
   "id": "806ee347",
   "metadata": {},
   "outputs": [],
   "source": [
    "column_language = column_language.select(\"paragraph\")"
   ]
  },
  {
   "cell_type": "code",
   "execution_count": 116,
   "id": "cef4c30a",
   "metadata": {},
   "outputs": [],
   "source": [
    "column_language = column_language.withColumn(\n",
    "    \"Language\", regexp_replace(col(\"paragraph\"), \"Language: \", \"\")\n",
    ")\n",
    "column_language = column_language.select(\"Language\")"
   ]
  },
  {
   "cell_type": "code",
   "execution_count": 117,
   "id": "60913cc4",
   "metadata": {},
   "outputs": [
    {
     "name": "stdout",
     "output_type": "stream",
     "text": [
      "+----------+\n",
      "|  Language|\n",
      "+----------+\n",
      "|   English|\n",
      "|   English|\n",
      "|   English|\n",
      "|   English|\n",
      "|   English|\n",
      "|Portuguese|\n",
      "|   English|\n",
      "|Portuguese|\n",
      "|   English|\n",
      "|   English|\n",
      "|   English|\n",
      "|   English|\n",
      "|   English|\n",
      "|   English|\n",
      "|   English|\n",
      "|   English|\n",
      "|Portuguese|\n",
      "|Portuguese|\n",
      "|   English|\n",
      "|Portuguese|\n",
      "+----------+\n",
      "\n"
     ]
    }
   ],
   "source": [
    "column_language.show()"
   ]
  },
  {
   "cell_type": "code",
   "execution_count": 118,
   "id": "b62b9194",
   "metadata": {},
   "outputs": [],
   "source": [
    "data_union = column_title.union(column_language)"
   ]
  },
  {
   "cell_type": "code",
   "execution_count": 119,
   "id": "b2a475d6",
   "metadata": {},
   "outputs": [
    {
     "name": "stdout",
     "output_type": "stream",
     "text": [
      "root\n",
      " |-- Titles: string (nullable = true)\n",
      "\n"
     ]
    }
   ],
   "source": [
    "data_union.printSchema()"
   ]
  },
  {
   "cell_type": "code",
   "execution_count": 120,
   "id": "4e5a2ea5",
   "metadata": {},
   "outputs": [
    {
     "name": "stdout",
     "output_type": "stream",
     "text": [
      "+--------------------+\n",
      "|              Titles|\n",
      "+--------------------+\n",
      "|The Mysteries of ...|\n",
      "|             Dracula|\n",
      "|  The Phantom of ...|\n",
      "|Frankenstein     ...|\n",
      "|At the mountains ...|\n",
      "|Os jardins ou a a...|\n",
      "|The Castle of Otr...|\n",
      "|Poesias Eroticas ...|\n",
      "|The Strange Case ...|\n",
      "|         The Wendigo|\n",
      "|       Medusa s coil|\n",
      "| The call of Cthulhu|\n",
      "|The colour out of...|\n",
      "|    The lurking fear|\n",
      "|  The Fall of the...|\n",
      "|    The curse of Yig|\n",
      "|  Improvisos de B...|\n",
      "|  Queixumes do Pa...|\n",
      "|           The Raven|\n",
      "|              Elegia|\n",
      "+--------------------+\n",
      "only showing top 20 rows\n",
      "\n"
     ]
    }
   ],
   "source": [
    "data_union.show()"
   ]
  },
  {
   "cell_type": "code",
   "execution_count": 121,
   "id": "a260b3f4",
   "metadata": {},
   "outputs": [],
   "source": [
    "dff.registerTempTable(\"finder\")"
   ]
  },
  {
   "cell_type": "code",
   "execution_count": 42,
   "id": "4fdab5d3",
   "metadata": {},
   "outputs": [],
   "source": [
    "kws = \"title\""
   ]
  },
  {
   "cell_type": "code",
   "execution_count": 43,
   "id": "4cf9b9b6",
   "metadata": {},
   "outputs": [],
   "source": [
    "result = spark.sql(f\"\"\"\n",
    "select *\n",
    "from finder\n",
    "where array_contains(keys, lower(\"{kws}\"))\n",
    "\"\"\")"
   ]
  },
  {
   "cell_type": "code",
   "execution_count": 44,
   "id": "355e6889",
   "metadata": {},
   "outputs": [
    {
     "data": {
      "text/plain": [
       "36"
      ]
     },
     "execution_count": 44,
     "metadata": {},
     "output_type": "execute_result"
    }
   ],
   "source": [
    "result.count()"
   ]
  },
  {
   "cell_type": "code",
   "execution_count": 45,
   "id": "6f10c35d",
   "metadata": {},
   "outputs": [
    {
     "name": "stdout",
     "output_type": "stream",
     "text": [
      "+--------------------+--------------------+\n",
      "|                keys|           paragraph|\n",
      "+--------------------+--------------------+\n",
      "|[title, mysteries...|Title: The Myster...|\n",
      "|[extraordinary, s...|“This is very ext...|\n",
      "|[every, man, dese...|“If every man des...|\n",
      "|[valancourt, whos...|With Valancourt  ...|\n",
      "|[emily, seized, f...|  Emily seized th...|\n",
      "|    [title, dracula]|      Title: Dracula|\n",
      "|[call, said, hope...|\"Call me what you...|\n",
      "|[lord, godalming,...|\"Lord Godalming  ...|\n",
      "|[quincey, find, l...|\"Quincey and I wi...|\n",
      "|[cursory, glance,...|After a cursory g...|\n",
      "+--------------------+--------------------+\n",
      "only showing top 10 rows\n",
      "\n"
     ]
    }
   ],
   "source": [
    "result.show(10)"
   ]
  },
  {
   "cell_type": "markdown",
   "id": "4f4ee119",
   "metadata": {},
   "source": [
    "### Calculating score"
   ]
  },
  {
   "cell_type": "code",
   "execution_count": 46,
   "id": "496139e2",
   "metadata": {},
   "outputs": [],
   "source": [
    "multi_kws = \"title language\""
   ]
  },
  {
   "cell_type": "markdown",
   "id": "8e275aa6",
   "metadata": {},
   "source": [
    "#### Jaccard Similarity"
   ]
  },
  {
   "cell_type": "code",
   "execution_count": 47,
   "id": "7900b514",
   "metadata": {},
   "outputs": [],
   "source": [
    "score = spark.sql(f\"\"\"\n",
    "select *, size(intersection_)/size(union_) score\n",
    "from (\n",
    "    select *,\n",
    "           array_intersect(keys, split(lower(\"{multi_kws}\"), \" \")) intersection_,\n",
    "           array_union(keys, split(lower(\"{multi_kws}\"), \" \")) union_\n",
    "    from finder\n",
    "    where size(array_intersect(keys, split(lower(\"{multi_kws}\"), \" \"))) > 0\n",
    ") tmp\n",
    "order by score desc\n",
    "limit 10\n",
    "\"\"\")"
   ]
  },
  {
   "cell_type": "markdown",
   "id": "29d0c4ec",
   "metadata": {},
   "source": [
    "- uma palavra: 264 ms\n",
    "- quatro palavras: 326 ms\n",
    "- dez palavras: 314 ms"
   ]
  },
  {
   "cell_type": "code",
   "execution_count": 48,
   "id": "03c656c9",
   "metadata": {},
   "outputs": [
    {
     "name": "stdout",
     "output_type": "stream",
     "text": [
      "+--------------------+--------------------+-------------+--------------------+------------------+\n",
      "|                keys|           paragraph|intersection_|              union_|             score|\n",
      "+--------------------+--------------------+-------------+--------------------+------------------+\n",
      "| [language, english]|   Language: English|   [language]|[language, englis...|0.3333333333333333|\n",
      "|    [title, dracula]|      Title: Dracula|      [title]|[title, dracula, ...|0.3333333333333333|\n",
      "| [language, english]|   Language: English|   [language]|[language, englis...|0.3333333333333333|\n",
      "| [language, english]|   Language: English|   [language]|[language, englis...|0.3333333333333333|\n",
      "| [language, english]|   Language: English|   [language]|[language, englis...|0.3333333333333333|\n",
      "| [language, english]|   Language: English|   [language]|[language, englis...|0.3333333333333333|\n",
      "|[language, portug...|Language: Portuguese|   [language]|[language, portug...|0.3333333333333333|\n",
      "| [language, english]|   Language: English|   [language]|[language, englis...|0.3333333333333333|\n",
      "|[language, portug...|Language: Portuguese|   [language]|[language, portug...|0.3333333333333333|\n",
      "| [language, english]|   Language: English|   [language]|[language, englis...|0.3333333333333333|\n",
      "+--------------------+--------------------+-------------+--------------------+------------------+\n",
      "\n",
      "CPU times: user 1.26 ms, sys: 251 µs, total: 1.51 ms\n",
      "Wall time: 957 ms\n"
     ]
    }
   ],
   "source": [
    "%%time\n",
    "score.show()"
   ]
  },
  {
   "cell_type": "markdown",
   "id": "583f1895",
   "metadata": {},
   "source": [
    "#### Cosine Similarity"
   ]
  },
  {
   "cell_type": "code",
   "execution_count": 43,
   "id": "f5bfa368",
   "metadata": {},
   "outputs": [],
   "source": [
    "def cossim(v1, v2):\n",
    "    v = v2.map(lambda elem: 1 if array_contains(v1, elem) else 0)\n",
    "    "
   ]
  },
  {
   "cell_type": "markdown",
   "id": "a0a6e032",
   "metadata": {},
   "source": [
    "links:\n",
    "- [spark-sql-array-funcs](https://kontext.tech/article/587/spark-sql-array-functions)\n",
    "- [spark-map-syntax](https://sparkbyexamples.com/pyspark/pyspark-map-transformation/)"
   ]
  }
 ],
 "metadata": {
  "kernelspec": {
   "display_name": "Python 3",
   "language": "python",
   "name": "python3"
  },
  "language_info": {
   "codemirror_mode": {
    "name": "ipython",
    "version": 3
   },
   "file_extension": ".py",
   "mimetype": "text/x-python",
   "name": "python",
   "nbconvert_exporter": "python",
   "pygments_lexer": "ipython3",
   "version": "3.6.9"
  }
 },
 "nbformat": 4,
 "nbformat_minor": 5
}
