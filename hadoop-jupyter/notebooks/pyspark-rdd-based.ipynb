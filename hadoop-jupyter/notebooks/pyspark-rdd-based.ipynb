{
 "cells": [
  {
   "cell_type": "markdown",
   "metadata": {},
   "source": [
    "# PySpark RDD-Based"
   ]
  },
  {
   "cell_type": "code",
   "execution_count": 9,
   "metadata": {},
   "outputs": [],
   "source": [
    "# Making sure to link pyspark to the right Spark folder with findspark\n",
    "import findspark\n",
    "import time\n",
    "from functools import wraps\n",
    "from pyspark import SparkContext, SparkConf, SQLContext\n",
    "findspark.init('/opt/spark')"
   ]
  },
  {
   "cell_type": "code",
   "execution_count": 2,
   "metadata": {},
   "outputs": [],
   "source": [
    "def timeit(func):\n",
    "    @wraps(func)\n",
    "    def timeit_wrapper(*args, **kwargs):\n",
    "        start_time = time.perf_counter()\n",
    "        result = func(*args, **kwargs)\n",
    "        end_time = time.perf_counter()\n",
    "        total_time = end_time - start_time\n",
    "        print(f'Function {func.__name__}{args} {kwargs} Took {total_time:.4f} seconds')\n",
    "        return result\n",
    "    return timeit_wrapper"
   ]
  },
  {
   "cell_type": "code",
   "execution_count": 3,
   "metadata": {},
   "outputs": [],
   "source": [
    "conf = SparkConf().setAppName(\"pyspark-rdd-based\")\n",
    "sc = SparkContext(conf=conf)"
   ]
  },
  {
   "cell_type": "code",
   "execution_count": 4,
   "metadata": {},
   "outputs": [],
   "source": [
    "F1_RESULTS_PATH = \"hdfs://node-master:9000/user/root/f1/results.csv\""
   ]
  },
  {
   "cell_type": "code",
   "execution_count": 5,
   "metadata": {},
   "outputs": [],
   "source": [
    "F1_DRIVERS_PATH = \"hdfs://node-master:9000/user/root/f1/drivers.csv\""
   ]
  },
  {
   "cell_type": "code",
   "execution_count": 5,
   "metadata": {},
   "outputs": [
    {
     "name": "stdout",
     "output_type": "stream",
     "text": [
      "CPU times: user 3.83 ms, sys: 1.09 ms, total: 4.92 ms\n",
      "Wall time: 530 ms\n"
     ]
    }
   ],
   "source": [
    "%%time\n",
    "res_lines = sc.textFile(F1_RESULTS_PATH)"
   ]
  },
  {
   "cell_type": "code",
   "execution_count": 5,
   "metadata": {},
   "outputs": [
    {
     "name": "stdout",
     "output_type": "stream",
     "text": [
      "time spent: 0.5345594882965088\n"
     ]
    }
   ],
   "source": [
    "start_time = time.time()\n",
    "res_lines_2 = sc.textFile(F1_RESULTS_PATH)\n",
    "end_time = time.time()\n",
    "print(f\"time spent: {end_time - start_time}\")"
   ]
  },
  {
   "cell_type": "code",
   "execution_count": 6,
   "metadata": {},
   "outputs": [],
   "source": [
    "@timeit\n",
    "def load_csv(path):\n",
    "    res_lines_3 = sc.textFile(F1_RESULTS_PATH)\n",
    "    return res_lines_3"
   ]
  },
  {
   "cell_type": "code",
   "execution_count": 10,
   "metadata": {},
   "outputs": [
    {
     "name": "stdout",
     "output_type": "stream",
     "text": [
      "Function load_csv('hdfs://node-master:9000/user/root/f1/results.csv',) {} Took 0.5374 seconds\n"
     ]
    },
    {
     "data": {
      "text/plain": [
       "hdfs://node-master:9000/user/root/f1/results.csv MapPartitionsRDD[1] at textFile at NativeMethodAccessorImpl.java:0"
      ]
     },
     "execution_count": 10,
     "metadata": {},
     "output_type": "execute_result"
    }
   ],
   "source": [
    "load_csv(F1_RESULTS_PATH)"
   ]
  },
  {
   "cell_type": "code",
   "execution_count": 6,
   "metadata": {},
   "outputs": [],
   "source": [
    "res_header = res_lines.take(1)[0].split(\",\")"
   ]
  },
  {
   "cell_type": "code",
   "execution_count": 7,
   "metadata": {},
   "outputs": [
    {
     "data": {
      "text/plain": [
       "['resultId',\n",
       " 'raceId',\n",
       " 'driverId',\n",
       " 'constructorId',\n",
       " 'number',\n",
       " 'grid',\n",
       " 'position',\n",
       " 'positionText',\n",
       " 'positionOrder',\n",
       " 'points',\n",
       " 'laps',\n",
       " 'time',\n",
       " 'milliseconds',\n",
       " 'fastestLap',\n",
       " 'rank',\n",
       " 'fastestLapTime',\n",
       " 'fastestLapSpeed',\n",
       " 'statusId']"
      ]
     },
     "execution_count": 7,
     "metadata": {},
     "output_type": "execute_result"
    }
   ],
   "source": [
    "res_header"
   ]
  },
  {
   "cell_type": "code",
   "execution_count": 8,
   "metadata": {},
   "outputs": [],
   "source": [
    "drivers_num_races = res_lines.filter(\n",
    "    lambda line : line != \",\".join(res_header)             # skipping header line\n",
    ").map(\n",
    "    lambda line : tuple(zip(res_header, line.split(\",\")))  # transforming values into labeled values\n",
    ").map(\n",
    "    lambda result : (int(result[2][1]), 1)                 # transforming labeled values into (driverId, 1)\n",
    ").countByKey()                                             # counting drivers show up"
   ]
  },
  {
   "cell_type": "code",
   "execution_count": 9,
   "metadata": {},
   "outputs": [],
   "source": [
    "top_10_drivers_most_races = sorted(drivers_num_races.items(), key=lambda elem : -elem[1])[:10]"
   ]
  },
  {
   "cell_type": "code",
   "execution_count": 10,
   "metadata": {},
   "outputs": [
    {
     "data": {
      "text/plain": [
       "[(22, 326),\n",
       " (18, 309),\n",
       " (30, 308),\n",
       " (4, 293),\n",
       " (8, 273),\n",
       " (13, 271),\n",
       " (119, 257),\n",
       " (15, 256),\n",
       " (14, 247),\n",
       " (21, 231)]"
      ]
     },
     "execution_count": 10,
     "metadata": {},
     "output_type": "execute_result"
    }
   ],
   "source": [
    "top_10_drivers_most_races"
   ]
  },
  {
   "cell_type": "code",
   "execution_count": 11,
   "metadata": {},
   "outputs": [],
   "source": [
    "drivers_lines = sc.textFile(F1_DRIVERS_PATH)"
   ]
  },
  {
   "cell_type": "code",
   "execution_count": 12,
   "metadata": {},
   "outputs": [],
   "source": [
    "drivers_header = drivers_lines.take(1)[0].split(\",\")"
   ]
  },
  {
   "cell_type": "code",
   "execution_count": 13,
   "metadata": {},
   "outputs": [
    {
     "data": {
      "text/plain": [
       "['driverId',\n",
       " 'driverRef',\n",
       " 'number',\n",
       " 'code',\n",
       " 'forename',\n",
       " 'surname',\n",
       " 'dob',\n",
       " 'nationality',\n",
       " 'url']"
      ]
     },
     "execution_count": 13,
     "metadata": {},
     "output_type": "execute_result"
    }
   ],
   "source": [
    "drivers_header"
   ]
  },
  {
   "cell_type": "code",
   "execution_count": 14,
   "metadata": {},
   "outputs": [],
   "source": [
    "translate_driver_id = drivers_lines.filter(\n",
    "    lambda line : line != \",\".join(drivers_header)             # skipping header line\n",
    ").map(\n",
    "    lambda line : tuple(zip(drivers_header, line.split(\",\")))  # transforming values into labeled values\n",
    ").map(\n",
    "    lambda result : (int(result[0][1]), result[1][1])          # transforming labeled values into (driverId, driverRef)\n",
    ").collect()"
   ]
  },
  {
   "cell_type": "code",
   "execution_count": 15,
   "metadata": {
    "scrolled": true
   },
   "outputs": [],
   "source": [
    "translate_driver_id = dict(translate_driver_id)"
   ]
  },
  {
   "cell_type": "code",
   "execution_count": 16,
   "metadata": {},
   "outputs": [
    {
     "name": "stdout",
     "output_type": "stream",
     "text": [
      "barrichello : 326\n",
      "button : 309\n",
      "michael_schumacher : 308\n",
      "alonso : 293\n",
      "raikkonen : 273\n",
      "massa : 271\n",
      "patrese : 257\n",
      "trulli : 256\n",
      "coulthard : 247\n",
      "fisichella : 231\n"
     ]
    }
   ],
   "source": [
    "for (driver, amount) in top_10_drivers_most_races:\n",
    "    print(f\"{translate_driver_id[driver]} : {amount}\")"
   ]
  }
 ],
 "metadata": {
  "kernelspec": {
   "display_name": "Python 3",
   "language": "python",
   "name": "python3"
  },
  "language_info": {
   "codemirror_mode": {
    "name": "ipython",
    "version": 3
   },
   "file_extension": ".py",
   "mimetype": "text/x-python",
   "name": "python",
   "nbconvert_exporter": "python",
   "pygments_lexer": "ipython3",
   "version": "3.6.9"
  }
 },
 "nbformat": 4,
 "nbformat_minor": 2
}
