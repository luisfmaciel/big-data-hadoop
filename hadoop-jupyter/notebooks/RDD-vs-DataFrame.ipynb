{
 "cells": [
  {
   "cell_type": "markdown",
   "metadata": {},
   "source": [
    "# RDD-vs-DataFrame"
   ]
  },
  {
   "cell_type": "code",
   "execution_count": 1,
   "metadata": {},
   "outputs": [],
   "source": [
    "# Making sure to link pyspark to the right Spark folder with findspark\n",
    "import findspark\n",
    "import time\n",
    "from functools import wraps\n",
    "from pyspark import SparkContext, SparkConf, SQLContext\n",
    "from pyspark.sql import SparkSession\n",
    "from pyspark.sql.functions import col, count\n",
    "findspark.init('/opt/spark')"
   ]
  },
  {
   "cell_type": "code",
   "execution_count": 2,
   "metadata": {},
   "outputs": [],
   "source": [
    "conf = SparkConf().setAppName(\"rdd-vs-dataframe\")\n",
    "sc = SparkContext(conf=conf)"
   ]
  },
  {
   "cell_type": "code",
   "execution_count": 3,
   "metadata": {},
   "outputs": [],
   "source": [
    "! hadoop fs -put ../datasets/f1"
   ]
  },
  {
   "cell_type": "code",
   "execution_count": 4,
   "metadata": {},
   "outputs": [],
   "source": [
    "F1_RESULTS_PATH = \"hdfs://node-master:9000/user/root/f1/results.csv\""
   ]
  },
  {
   "cell_type": "code",
   "execution_count": 5,
   "metadata": {},
   "outputs": [],
   "source": [
    "F1_DRIVERS_PATH = \"hdfs://node-master:9000/user/root/f1/drivers.csv\""
   ]
  },
  {
   "cell_type": "markdown",
   "metadata": {},
   "source": [
    "## RDD"
   ]
  },
  {
   "cell_type": "code",
   "execution_count": 6,
   "metadata": {},
   "outputs": [],
   "source": [
    "res_lines = sc.textFile(F1_RESULTS_PATH)"
   ]
  },
  {
   "cell_type": "code",
   "execution_count": 7,
   "metadata": {},
   "outputs": [],
   "source": [
    "res_header = res_lines.take(1)[0].split(\",\")"
   ]
  },
  {
   "cell_type": "code",
   "execution_count": 8,
   "metadata": {},
   "outputs": [],
   "source": [
    "drivers_num_races = res_lines.filter(\n",
    "    lambda line : line != \",\".join(res_header)             # skipping header line\n",
    ").map(\n",
    "    lambda line : tuple(zip(res_header, line.split(\",\")))  # transforming values into labeled values\n",
    ").map(\n",
    "    lambda result : (int(result[2][1]), 1)                 # transforming labeled values into (driverId, 1)\n",
    ").countByKey()                                             # counting drivers show up"
   ]
  },
  {
   "cell_type": "code",
   "execution_count": 9,
   "metadata": {},
   "outputs": [],
   "source": [
    "top_10_drivers_most_races = sorted(drivers_num_races.items(), key=lambda elem : -elem[1])[:10]"
   ]
  },
  {
   "cell_type": "code",
   "execution_count": 10,
   "metadata": {},
   "outputs": [],
   "source": [
    "drivers_lines = sc.textFile(F1_DRIVERS_PATH)"
   ]
  },
  {
   "cell_type": "code",
   "execution_count": 11,
   "metadata": {},
   "outputs": [],
   "source": [
    "drivers_header = drivers_lines.take(1)[0].split(\",\")"
   ]
  },
  {
   "cell_type": "code",
   "execution_count": 12,
   "metadata": {},
   "outputs": [],
   "source": [
    "translate_driver_id = drivers_lines.filter(\n",
    "    lambda line : line != \",\".join(drivers_header)             # skipping header line\n",
    ").map(\n",
    "    lambda line : tuple(zip(drivers_header, line.split(\",\")))  # transforming values into labeled values\n",
    ").map(\n",
    "    lambda result : (int(result[0][1]), result[1][1])          # transforming labeled values into (driverId, driverRef)\n",
    ").collect()"
   ]
  },
  {
   "cell_type": "code",
   "execution_count": 13,
   "metadata": {
    "scrolled": true
   },
   "outputs": [],
   "source": [
    "translate_driver_id = dict(translate_driver_id)"
   ]
  },
  {
   "cell_type": "code",
   "execution_count": 14,
   "metadata": {
    "scrolled": false
   },
   "outputs": [
    {
     "name": "stdout",
     "output_type": "stream",
     "text": [
      "barrichello : 326\n",
      "button : 309\n",
      "michael_schumacher : 308\n",
      "alonso : 293\n",
      "raikkonen : 273\n",
      "massa : 271\n",
      "patrese : 257\n",
      "trulli : 256\n",
      "coulthard : 247\n",
      "fisichella : 231\n"
     ]
    }
   ],
   "source": [
    "for (driver, amount) in top_10_drivers_most_races:\n",
    "    print(f\"{translate_driver_id[driver]} : {amount}\")"
   ]
  },
  {
   "cell_type": "markdown",
   "metadata": {},
   "source": [
    "## DataFrame"
   ]
  },
  {
   "cell_type": "code",
   "execution_count": 15,
   "metadata": {},
   "outputs": [],
   "source": [
    "spark = SparkSession(sc)"
   ]
  },
  {
   "cell_type": "code",
   "execution_count": 16,
   "metadata": {},
   "outputs": [],
   "source": [
    "dfr = spark.read.format(\"csv\").option(\"header\", \"true\").load(F1_RESULTS_PATH)"
   ]
  },
  {
   "cell_type": "code",
   "execution_count": 17,
   "metadata": {},
   "outputs": [],
   "source": [
    "dfd = spark.read.format(\"csv\").option(\"header\", \"true\").load(F1_DRIVERS_PATH)"
   ]
  },
  {
   "cell_type": "code",
   "execution_count": 18,
   "metadata": {},
   "outputs": [
    {
     "name": "stdout",
     "output_type": "stream",
     "text": [
      "+--------+------------------+-----+\n",
      "|driverId|         driverRef|races|\n",
      "+--------+------------------+-----+\n",
      "|      22|       barrichello|  326|\n",
      "|      18|            button|  309|\n",
      "|      30|michael_schumacher|  308|\n",
      "|       4|            alonso|  293|\n",
      "|       8|         raikkonen|  273|\n",
      "|      13|             massa|  271|\n",
      "|     119|           patrese|  257|\n",
      "|      15|            trulli|  256|\n",
      "|      14|         coulthard|  247|\n",
      "|      21|        fisichella|  231|\n",
      "+--------+------------------+-----+\n",
      "\n"
     ]
    }
   ],
   "source": [
    "dfr.join(\n",
    "    dfd, dfr.driverId == dfd.driverId, \"inner\"\n",
    ").groupBy(\n",
    "    dfr.driverId, dfd.driverRef\n",
    ").agg(\n",
    "    count(dfr.raceId).alias(\"races\")\n",
    ").orderBy(\n",
    "    col(\"races\").desc()\n",
    ").limit(10).show()"
   ]
  }
 ],
 "metadata": {
  "kernelspec": {
   "display_name": "Python 3",
   "language": "python",
   "name": "python3"
  },
  "language_info": {
   "codemirror_mode": {
    "name": "ipython",
    "version": 3
   },
   "file_extension": ".py",
   "mimetype": "text/x-python",
   "name": "python",
   "nbconvert_exporter": "python",
   "pygments_lexer": "ipython3",
   "version": "3.6.9"
  }
 },
 "nbformat": 4,
 "nbformat_minor": 2
}
