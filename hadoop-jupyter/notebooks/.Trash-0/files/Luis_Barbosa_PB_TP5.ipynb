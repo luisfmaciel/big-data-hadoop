{
 "cells": [
  {
   "cell_type": "markdown",
   "id": "0c05c281",
   "metadata": {},
   "source": [
    "## Projeto de Bloco: Engenharia de Dados: Big Data\n",
    "### TP5\n",
    "    \n",
    "- Ingestão\n",
    "    - Selecionar os 30 livros no formato Plain Text UTF-8\n",
    "    - Adicionar os arquivos no HDFS\n",
    "- Limpeza e Normalização\n",
    "    - Importação dos dados em DataFrames Spark\n",
    "    - Remoção de caracteres descartáveis\n",
    "    - Remoção de linha descartáveis\n",
    "    - Remoção de stop-words\n",
    "    - Aplicação de lematização\n",
    "    - Utilização de técnicas complementares, caso julgue necessário\n",
    "    - DataFrame unificado de informações dos 30 livros selecionados, com as seguintes colunas:\n",
    "        - Nome do Livro\n",
    "        - Idioma do Livro\n",
    "        - Número do Parágrafo (começando com o índice #1)\n",
    "        - Parágrafo Original (antes da limpeza e normalização)\n",
    "        - Conjunto de Palavras do Parágrafo (após limpeza e normalização)\n",
    "        - Outras colunas, caso julgue necessário\n",
    "- Análise e Mensuração dos tempos\n",
    "- Responder às seguintes perguntas:\n",
    "    - Quantidade de palavras únicas utilizadas por livro\n",
    "    - Quantidade de parágrafos e palavras não-únicas por parágrafo por livro\n",
    "    - Identificar a palavra que mais aparece e a palavra que menos aparece por parágrafo por livro\n",
    "    - Dos livros em inglês, selecionar as top-10 palavras que mais aparecem. Fazer o mesmo para os livros em português\n",
    "    - Montar dois gráficos9,10 de linhas, um para os livros em inglês e o outro para os em português, com o eixo X sendo o índice dos parágrafos, o eixo Y sendo a quantidade de palavras únicas e a linha o livro em questão\n",
    "    - Montar dois histogramas8,9,10, um para os livros em inglês e o outro para os em português, para análise da frequência de palavras dos livros\n",
    "- Exibir o tempo gasto no processamento de cada uma das respostas acima\n"
   ]
  },
  {
   "cell_type": "code",
   "execution_count": 1,
   "id": "29f75b2f",
   "metadata": {},
   "outputs": [],
   "source": [
    "import findspark\n",
    "findspark.init()\n",
    "from pyspark import SparkContext, SparkConf, SQLContext\n",
    "from pyspark.sql import SparkSession\n",
    "from pyspark.sql.functions import col, sum, avg, row_number, max, regexp_replace, trim, split, array_contains, lower\n",
    "from pyspark.sql.types import StructType, StructField, IntegerType, StringType\n",
    "from pyspark.sql.window import Window\n",
    "from pyspark.ml.feature import StopWordsRemover\n",
    "from pathlib import Path"
   ]
  },
  {
   "cell_type": "code",
   "execution_count": 2,
   "id": "c429d3f4",
   "metadata": {},
   "outputs": [],
   "source": [
    "conf = SparkConf().setAppName(\"luis-barbosa-pb-tp5\")\n",
    "sc = SparkContext(conf=conf)\n",
    "spark = SparkSession(sc)"
   ]
  },
  {
   "cell_type": "code",
   "execution_count": 3,
   "id": "c26776c1",
   "metadata": {},
   "outputs": [
    {
     "name": "stdout",
     "output_type": "stream",
     "text": [
      "CPU times: user 117 ms, sys: 43.9 ms, total: 160 ms\n",
      "Wall time: 4.45 s\n"
     ]
    }
   ],
   "source": [
    "%%time\n",
    "! hadoop fs -put ../datasets/books"
   ]
  },
  {
   "cell_type": "code",
   "execution_count": 4,
   "id": "a16a40cd",
   "metadata": {},
   "outputs": [
    {
     "name": "stdout",
     "output_type": "stream",
     "text": [
      "Found 2 items\r\n",
      "drwxr-xr-x   - root supergroup          0 2023-06-24 23:48 hdfs://node-master:9000/user/root/.sparkStaging\r\n",
      "drwxr-xr-x   - root supergroup          0 2023-06-24 23:48 hdfs://node-master:9000/user/root/books\r\n"
     ]
    }
   ],
   "source": [
    "! hadoop fs -ls hdfs://node-master:9000/user/root"
   ]
  },
  {
   "cell_type": "markdown",
   "id": "c61e3372",
   "metadata": {},
   "source": [
    "### Auxiliary Functions"
   ]
  },
  {
   "cell_type": "code",
   "execution_count": 5,
   "id": "94b4a41f",
   "metadata": {},
   "outputs": [],
   "source": [
    "def shape(df):\n",
    "    return (df.count(), len(df.columns))"
   ]
  },
  {
   "cell_type": "markdown",
   "id": "9f75327d",
   "metadata": {},
   "source": [
    "### Reading txt file"
   ]
  },
  {
   "cell_type": "code",
   "execution_count": 6,
   "id": "8cd836d1",
   "metadata": {},
   "outputs": [],
   "source": [
    "dataset_path = \"hdfs://node-master:9000/user/root/books\""
   ]
  },
  {
   "cell_type": "code",
   "execution_count": 7,
   "id": "c5aed7ac",
   "metadata": {},
   "outputs": [],
   "source": [
    "dfft_ = spark.read.format(\n",
    "    \"csv\"\n",
    ").option(\n",
    "    \"header\", \"false\"\n",
    ").schema(\n",
    "    StructType([\n",
    "        StructField(\"line\", StringType(), True)\n",
    "    ])\n",
    ").load(\n",
    "    dataset_path\n",
    ")"
   ]
  },
  {
   "cell_type": "code",
   "execution_count": 8,
   "id": "7c735350",
   "metadata": {},
   "outputs": [
    {
     "data": {
      "text/plain": [
       "(1264, 1)"
      ]
     },
     "execution_count": 8,
     "metadata": {},
     "output_type": "execute_result"
    }
   ],
   "source": [
    "shape(dfft_)"
   ]
  },
  {
   "cell_type": "code",
   "execution_count": 165,
   "id": "7e72371e",
   "metadata": {
    "scrolled": true
   },
   "outputs": [
    {
     "data": {
      "text/plain": [
       "[Row(line='The Project Gutenberg eBook'),\n",
       " Row(line='This eBook is for the use of anyone anywhere in the United States and most'),\n",
       " Row(line='other parts of the world at no cost and with almost no restrictions'),\n",
       " Row(line='whatsoever.  You may copy it'),\n",
       " Row(line='the Project Gutenberg License included with this eBook or online at'),\n",
       " Row(line='www.gutenberg.org.  If you are not located in the United States'),\n",
       " Row(line='to check the laws of the country where you are located before using this ebook.'),\n",
       " Row(line='Title: Aaron Trow'),\n",
       " Row(line='Author: Anthony Trollope'),\n",
       " Row(line='Release Date: January 16'),\n",
       " Row(line='[This file was first posted on July 31'),\n",
       " Row(line='Language: English'),\n",
       " Row(line='Character set encoding: UTF-8'),\n",
       " Row(line='***START OF THE PROJECT GUTENBERG EBOOK AARON TROW***'),\n",
       " Row(line='Transcribed from the 1864 Chapman and Hall “Tales of All Countries”'),\n",
       " Row(line='edition by David Price'),\n",
       " Row(line='                               AARON TROW.'),\n",
       " Row(line='I WOULD wish to declare'),\n",
       " Row(line='never regard that cluster of islets which we call Bermuda as the'),\n",
       " Row(line='Fortunate Islands of the ancients.  Do not let professional geographers'),\n",
       " Row(line='take me up'),\n",
       " Row(line='ancients have never been supposed to have gotten themselves so far'),\n",
       " Row(line='westwards.  What I mean to assert is this—that'),\n",
       " Row(line='carried thither by enterprise or stress of weather'),\n",
       " Row(line='given those islands so good a name.  That the Neapolitan sailors of King'),\n",
       " Row(line='Alonzo should have been wrecked here'),\n",
       " Row(line='vexed Bermoothes is a good name for them.  There is no getting in or out'),\n",
       " Row(line='of them without the greatest difficulty'),\n",
       " Row(line='which is very heart-rending.  That Caliban should have lived here I can'),\n",
       " Row(line='imagine; that Ariel would have been sick of the place is certain; and'),\n",
       " Row(line='that Governor Prospero should have been willing to abandon his'),\n",
       " Row(line='governorship'),\n",
       " Row(line='present state of the place'),\n",
       " Row(line='governors have been conjurors since his days.'),\n",
       " Row(line='Bermuda'),\n",
       " Row(line='a convict establishment.  Most of our outlying convict establishments'),\n",
       " Row(line='have been sent back upon our hands from our colonies'),\n",
       " Row(line='still maintained.  There is also in the islands a strong military'),\n",
       " Row(line='fortress'),\n",
       " Row(line='civilians'),\n",
       " Row(line='thousand white people and some six thousand black people'),\n",
       " Row(line='drinking'),\n",
       " Row(line='The convict establishment is the most notable feature of Bermuda to a'),\n",
       " Row(line='stranger'),\n",
       " Row(line='inhabitants of the place.  There is no intercourse between the prisoners'),\n",
       " Row(line='and the Bermudians.  The convicts are rarely seen by them'),\n",
       " Row(line='convict islands are rarely visited.  As to the prisoners themselves'),\n",
       " Row(line='course it is not open to them—or should not be open to them—to have'),\n",
       " Row(line='intercourse with any but the prison authorities.'),\n",
       " Row(line='There have')]"
      ]
     },
     "execution_count": 165,
     "metadata": {},
     "output_type": "execute_result"
    }
   ],
   "source": [
    "dfft_.head(50)"
   ]
  },
  {
   "cell_type": "code",
   "execution_count": 166,
   "id": "187c7f8f",
   "metadata": {},
   "outputs": [],
   "source": [
    "WINDOWS_SEP = \"\\r\\n\\r\\n\"\n",
    "UNIX_LIKE_SEP = \"\\n\\n\""
   ]
  },
  {
   "cell_type": "code",
   "execution_count": 167,
   "id": "acf644a5",
   "metadata": {},
   "outputs": [],
   "source": [
    "dfft = spark.read.text(\n",
    "    [dataset_path],\n",
    "    lineSep=WINDOWS_SEP\n",
    ").withColumnRenamed(\"value\", \"original_paragraph\")\n"
   ]
  },
  {
   "cell_type": "code",
   "execution_count": 168,
   "id": "e595f252",
   "metadata": {},
   "outputs": [
    {
     "data": {
      "text/plain": [
       "(178, 1)"
      ]
     },
     "execution_count": 168,
     "metadata": {},
     "output_type": "execute_result"
    }
   ],
   "source": [
    "shape(dfft)"
   ]
  },
  {
   "cell_type": "code",
   "execution_count": 169,
   "id": "e1488173",
   "metadata": {},
   "outputs": [
    {
     "name": "stdout",
     "output_type": "stream",
     "text": [
      "root\n",
      " |-- original_paragraph: string (nullable = true)\n",
      "\n"
     ]
    }
   ],
   "source": [
    "dfft.printSchema()"
   ]
  },
  {
   "cell_type": "code",
   "execution_count": 170,
   "id": "36011563",
   "metadata": {
    "scrolled": false
   },
   "outputs": [
    {
     "data": {
      "text/plain": [
       "[Row(original_paragraph='The Project Gutenberg eBook, Aaron Trow, by Anthony Trollope'),\n",
       " Row(original_paragraph=\"\\r\\nThis eBook is for the use of anyone anywhere in the United States and most\\r\\nother parts of the world at no cost and with almost no restrictions\\r\\nwhatsoever.  You may copy it, give it away or re-use it under the terms of\\r\\nthe Project Gutenberg License included with this eBook or online at\\r\\nwww.gutenberg.org.  If you are not located in the United States, you'll have\\r\\nto check the laws of the country where you are located before using this ebook.\"),\n",
       " Row(original_paragraph=''),\n",
       " Row(original_paragraph='\\r\\nTitle: Aaron Trow'),\n",
       " Row(original_paragraph='\\r\\nAuthor: Anthony Trollope'),\n",
       " Row(original_paragraph=''),\n",
       " Row(original_paragraph='Release Date: January 16, 2015  [eBook #3713]\\r\\n[This file was first posted on July 31, 2001]'),\n",
       " Row(original_paragraph='Language: English'),\n",
       " Row(original_paragraph='Character set encoding: UTF-8'),\n",
       " Row(original_paragraph='\\r\\n***START OF THE PROJECT GUTENBERG EBOOK AARON TROW***'),\n",
       " Row(original_paragraph='\\r\\nTranscribed from the 1864 Chapman and Hall “Tales of All Countries”\\r\\nedition by David Price, email ccx074@pglaf.org'),\n",
       " Row(original_paragraph=''),\n",
       " Row(original_paragraph=''),\n",
       " Row(original_paragraph='                               AARON TROW.'),\n",
       " Row(original_paragraph='\\r\\nI WOULD wish to declare, at the beginning of this story, that I shall\\r\\nnever regard that cluster of islets which we call Bermuda as the\\r\\nFortunate Islands of the ancients.  Do not let professional geographers\\r\\ntake me up, and say that no one has so accounted them, and that the\\r\\nancients have never been supposed to have gotten themselves so far\\r\\nwestwards.  What I mean to assert is this—that, had any ancient been\\r\\ncarried thither by enterprise or stress of weather, he would not have\\r\\ngiven those islands so good a name.  That the Neapolitan sailors of King\\r\\nAlonzo should have been wrecked here, I consider to be more likely.  The\\r\\nvexed Bermoothes is a good name for them.  There is no getting in or out\\r\\nof them without the greatest difficulty, and a patient, slow navigation,\\r\\nwhich is very heart-rending.  That Caliban should have lived here I can\\r\\nimagine; that Ariel would have been sick of the place is certain; and\\r\\nthat Governor Prospero should have been willing to abandon his\\r\\ngovernorship, I conceive to have been only natural.  When one regards the\\r\\npresent state of the place, one is tempted to doubt whether any of the\\r\\ngovernors have been conjurors since his days.'),\n",
       " Row(original_paragraph='Bermuda, as all the world knows, is a British colony at which we maintain\\r\\na convict establishment.  Most of our outlying convict establishments\\r\\nhave been sent back upon our hands from our colonies, but here one is\\r\\nstill maintained.  There is also in the islands a strong military\\r\\nfortress, though not a fortress looking magnificent to the eyes of\\r\\ncivilians, as do Malta and Gibraltar.  There are also here some six\\r\\nthousand white people and some six thousand black people, eating,\\r\\ndrinking, sleeping, and dying.'),\n",
       " Row(original_paragraph='The convict establishment is the most notable feature of Bermuda to a\\r\\nstranger, but it does not seem to attract much attention from the regular\\r\\ninhabitants of the place.  There is no intercourse between the prisoners\\r\\nand the Bermudians.  The convicts are rarely seen by them, and the\\r\\nconvict islands are rarely visited.  As to the prisoners themselves, of\\r\\ncourse it is not open to them—or should not be open to them—to have\\r\\nintercourse with any but the prison authorities.'),\n",
       " Row(original_paragraph='There have, however, been instances in which convicts have escaped from\\r\\ntheir confinement, and made their way out among the islands.  Poor\\r\\nwretches!  As a rule, there is but little chance for any that can so\\r\\nescape.  The whole length of the cluster is but twenty miles, and the\\r\\nbreadth is under four.  The prisoners are, of course, white men, and the\\r\\nlower orders of Bermuda, among whom alone could a runagate have any\\r\\nchance of hiding himself, are all negroes; so that such a one would be\\r\\nknown at once.  Their clothes are all marked.  Their only chance of a\\r\\npermanent escape would be in the hold of an American ship; but what\\r\\ncaptain of an American or other ship would willingly encumber himself\\r\\nwith an escaped convict?  But, nevertheless, men have escaped; and in one\\r\\ninstance, I believe, a convict got away, so that of him no farther\\r\\ntidings were ever heard.'),\n",
       " Row(original_paragraph='For the truth of the following tale I will not by any means vouch.  If\\r\\none were to inquire on the spot one might probably find that the ladies\\r\\nall believe it, and the old men; that all the young men know exactly how\\r\\nmuch of it is false and how much true; and that the steady, middle-aged,\\r\\nwell-to-do islanders are quite convinced that it is romance from\\r\\nbeginning to end.  My readers may range themselves with the ladies, the\\r\\nyoung men, or the steady, well-to-do, middle-aged islanders, as they\\r\\nplease.'),\n",
       " Row(original_paragraph='Some years ago, soon after the prison was first established on its\\r\\npresent footing, three men did escape from it, and among them a certain\\r\\nnotorious prisoner named Aaron Trow.  Trow’s antecedents in England had\\r\\nnot been so villanously bad as those of many of his fellow-convicts,\\r\\nthough the one offence for which he was punished had been of a deep dye:\\r\\nhe had shed man’s blood.  At a period of great distress in a\\r\\nmanufacturing town he had led men on to riot, and with his own hand had\\r\\nslain the first constable who had endeavoured to do his duty against him.\\r\\nThere had been courage in the doing of the deed, and probably no malice;\\r\\nbut the deed, let its moral blackness have been what it might, had sent\\r\\nhim to Bermuda, with a sentence against him of penal servitude for life.\\r\\nHad he been then amenable to prison discipline,—even then, with such a\\r\\nsentence against him as that,—he might have won his way back, after the\\r\\nlapse of years, to the children, and perhaps, to the wife, that he had\\r\\nleft behind him; but he was amenable to no rules—to no discipline.  His\\r\\nheart was sore to death with an idea of injury, and he lashed himself\\r\\nagainst the bars of his cage with a feeling that it would be well if he\\r\\ncould so lash himself till he might perish in his fury.')]"
      ]
     },
     "execution_count": 170,
     "metadata": {},
     "output_type": "execute_result"
    }
   ],
   "source": [
    "dfft.head(20)"
   ]
  },
  {
   "cell_type": "markdown",
   "id": "81ccf945",
   "metadata": {},
   "source": [
    "### Data Wrangling"
   ]
  },
  {
   "cell_type": "code",
   "execution_count": 214,
   "id": "c48c3ff1",
   "metadata": {},
   "outputs": [],
   "source": [
    "dfft_s1 = dfft.withColumn(\n",
    "    \"clean_paragraph\", regexp_replace(col(\"original_paragraph\"), \"[\\:\\r\\n\\`\\'\\;\\,]\", \" \")\n",
    ").withColumn(\n",
    "    \"clean_paragraph\", regexp_replace(col(\"original_paragraph\"), \"[^A-z0-9\\ ]\", \"\")\n",
    ").select(\n",
    "    \"original_paragraph\",\n",
    "    trim(col(\"clean_paragraph\")).alias(\"clean_paragraph\")\n",
    ").withColumn(\n",
    "    \"clean_paragraph\", regexp_replace(col(\"original_paragraph\"), \"\\s+\", \" \")\n",
    ")"
   ]
  },
  {
   "cell_type": "code",
   "execution_count": 215,
   "id": "f7df76db",
   "metadata": {},
   "outputs": [
    {
     "data": {
      "text/plain": [
       "Row(original_paragraph='Language: English', clean_paragraph='Language: English')"
      ]
     },
     "execution_count": 215,
     "metadata": {},
     "output_type": "execute_result"
    }
   ],
   "source": [
    "dfft_s1.collect()[7]"
   ]
  },
  {
   "cell_type": "markdown",
   "id": "53bbb8e1",
   "metadata": {},
   "source": [
    "### Removing Stop Words"
   ]
  },
  {
   "cell_type": "code",
   "execution_count": 216,
   "id": "00e143d1",
   "metadata": {},
   "outputs": [],
   "source": [
    "dfftc_s1 = dfft_s1.withColumn(\"words\", split(lower(col(\"clean_paragraph\")), \" \"))"
   ]
  },
  {
   "cell_type": "code",
   "execution_count": 217,
   "id": "b6e1ac1d",
   "metadata": {},
   "outputs": [
    {
     "name": "stdout",
     "output_type": "stream",
     "text": [
      "root\n",
      " |-- original_paragraph: string (nullable = true)\n",
      " |-- clean_paragraph: string (nullable = true)\n",
      " |-- words: array (nullable = true)\n",
      " |    |-- element: string (containsNull = true)\n",
      "\n"
     ]
    }
   ],
   "source": [
    "dfftc_s1.printSchema()"
   ]
  },
  {
   "cell_type": "code",
   "execution_count": 218,
   "id": "cc0ea894",
   "metadata": {},
   "outputs": [
    {
     "data": {
      "text/plain": [
       "[Row(original_paragraph='The Project Gutenberg eBook, Aaron Trow, by Anthony Trollope', clean_paragraph='The Project Gutenberg eBook, Aaron Trow, by Anthony Trollope', words=['the', 'project', 'gutenberg', 'ebook,', 'aaron', 'trow,', 'by', 'anthony', 'trollope']),\n",
       " Row(original_paragraph=\"\\r\\nThis eBook is for the use of anyone anywhere in the United States and most\\r\\nother parts of the world at no cost and with almost no restrictions\\r\\nwhatsoever.  You may copy it, give it away or re-use it under the terms of\\r\\nthe Project Gutenberg License included with this eBook or online at\\r\\nwww.gutenberg.org.  If you are not located in the United States, you'll have\\r\\nto check the laws of the country where you are located before using this ebook.\", clean_paragraph=\" This eBook is for the use of anyone anywhere in the United States and most other parts of the world at no cost and with almost no restrictions whatsoever. You may copy it, give it away or re-use it under the terms of the Project Gutenberg License included with this eBook or online at www.gutenberg.org. If you are not located in the United States, you'll have to check the laws of the country where you are located before using this ebook.\", words=['', 'this', 'ebook', 'is', 'for', 'the', 'use', 'of', 'anyone', 'anywhere', 'in', 'the', 'united', 'states', 'and', 'most', 'other', 'parts', 'of', 'the', 'world', 'at', 'no', 'cost', 'and', 'with', 'almost', 'no', 'restrictions', 'whatsoever.', 'you', 'may', 'copy', 'it,', 'give', 'it', 'away', 'or', 're-use', 'it', 'under', 'the', 'terms', 'of', 'the', 'project', 'gutenberg', 'license', 'included', 'with', 'this', 'ebook', 'or', 'online', 'at', 'www.gutenberg.org.', 'if', 'you', 'are', 'not', 'located', 'in', 'the', 'united', 'states,', \"you'll\", 'have', 'to', 'check', 'the', 'laws', 'of', 'the', 'country', 'where', 'you', 'are', 'located', 'before', 'using', 'this', 'ebook.']),\n",
       " Row(original_paragraph='', clean_paragraph='', words=['']),\n",
       " Row(original_paragraph='\\r\\nTitle: Aaron Trow', clean_paragraph=' Title: Aaron Trow', words=['', 'title:', 'aaron', 'trow']),\n",
       " Row(original_paragraph='\\r\\nAuthor: Anthony Trollope', clean_paragraph=' Author: Anthony Trollope', words=['', 'author:', 'anthony', 'trollope']),\n",
       " Row(original_paragraph='', clean_paragraph='', words=['']),\n",
       " Row(original_paragraph='Release Date: January 16, 2015  [eBook #3713]\\r\\n[This file was first posted on July 31, 2001]', clean_paragraph='Release Date: January 16, 2015 [eBook #3713] [This file was first posted on July 31, 2001]', words=['release', 'date:', 'january', '16,', '2015', '[ebook', '#3713]', '[this', 'file', 'was', 'first', 'posted', 'on', 'july', '31,', '2001]']),\n",
       " Row(original_paragraph='Language: English', clean_paragraph='Language: English', words=['language:', 'english']),\n",
       " Row(original_paragraph='Character set encoding: UTF-8', clean_paragraph='Character set encoding: UTF-8', words=['character', 'set', 'encoding:', 'utf-8']),\n",
       " Row(original_paragraph='\\r\\n***START OF THE PROJECT GUTENBERG EBOOK AARON TROW***', clean_paragraph=' ***START OF THE PROJECT GUTENBERG EBOOK AARON TROW***', words=['', '***start', 'of', 'the', 'project', 'gutenberg', 'ebook', 'aaron', 'trow***'])]"
      ]
     },
     "execution_count": 218,
     "metadata": {},
     "output_type": "execute_result"
    }
   ],
   "source": [
    "dfftc_s1.head(10)"
   ]
  },
  {
   "cell_type": "code",
   "execution_count": 219,
   "id": "62801cb2",
   "metadata": {},
   "outputs": [],
   "source": [
    "remover = StopWordsRemover(inputCol=\"words\", outputCol=\"keys\")"
   ]
  },
  {
   "cell_type": "code",
   "execution_count": 220,
   "id": "f0070430",
   "metadata": {},
   "outputs": [],
   "source": [
    "dfftc_s2 = remover.transform(dfftc_s1)"
   ]
  },
  {
   "cell_type": "code",
   "execution_count": 221,
   "id": "da410d80",
   "metadata": {},
   "outputs": [
    {
     "data": {
      "text/plain": [
       "Row(original_paragraph='The Project Gutenberg eBook, Aaron Trow, by Anthony Trollope', clean_paragraph='The Project Gutenberg eBook, Aaron Trow, by Anthony Trollope', words=['the', 'project', 'gutenberg', 'ebook,', 'aaron', 'trow,', 'by', 'anthony', 'trollope'], keys=['project', 'gutenberg', 'ebook,', 'aaron', 'trow,', 'anthony', 'trollope'])"
      ]
     },
     "execution_count": 221,
     "metadata": {},
     "output_type": "execute_result"
    }
   ],
   "source": [
    "dfftc_s2.head()"
   ]
  },
  {
   "cell_type": "code",
   "execution_count": 222,
   "id": "822da824",
   "metadata": {
    "scrolled": true
   },
   "outputs": [
    {
     "data": {
      "text/plain": [
       "Row(original_paragraph=\"\\r\\nThis eBook is for the use of anyone anywhere in the United States and most\\r\\nother parts of the world at no cost and with almost no restrictions\\r\\nwhatsoever.  You may copy it, give it away or re-use it under the terms of\\r\\nthe Project Gutenberg License included with this eBook or online at\\r\\nwww.gutenberg.org.  If you are not located in the United States, you'll have\\r\\nto check the laws of the country where you are located before using this ebook.\", clean_paragraph=\" This eBook is for the use of anyone anywhere in the United States and most other parts of the world at no cost and with almost no restrictions whatsoever. You may copy it, give it away or re-use it under the terms of the Project Gutenberg License included with this eBook or online at www.gutenberg.org. If you are not located in the United States, you'll have to check the laws of the country where you are located before using this ebook.\", words=['', 'this', 'ebook', 'is', 'for', 'the', 'use', 'of', 'anyone', 'anywhere', 'in', 'the', 'united', 'states', 'and', 'most', 'other', 'parts', 'of', 'the', 'world', 'at', 'no', 'cost', 'and', 'with', 'almost', 'no', 'restrictions', 'whatsoever.', 'you', 'may', 'copy', 'it,', 'give', 'it', 'away', 'or', 're-use', 'it', 'under', 'the', 'terms', 'of', 'the', 'project', 'gutenberg', 'license', 'included', 'with', 'this', 'ebook', 'or', 'online', 'at', 'www.gutenberg.org.', 'if', 'you', 'are', 'not', 'located', 'in', 'the', 'united', 'states,', \"you'll\", 'have', 'to', 'check', 'the', 'laws', 'of', 'the', 'country', 'where', 'you', 'are', 'located', 'before', 'using', 'this', 'ebook.'], keys=['', 'ebook', 'use', 'anyone', 'anywhere', 'united', 'states', 'parts', 'world', 'cost', 'almost', 'restrictions', 'whatsoever.', 'may', 'copy', 'it,', 'give', 'away', 're-use', 'terms', 'project', 'gutenberg', 'license', 'included', 'ebook', 'online', 'www.gutenberg.org.', 'located', 'united', 'states,', 'check', 'laws', 'country', 'located', 'using', 'ebook.'])"
      ]
     },
     "execution_count": 222,
     "metadata": {},
     "output_type": "execute_result"
    }
   ],
   "source": [
    "dfftc_s2.collect()[1]"
   ]
  },
  {
   "cell_type": "markdown",
   "id": "75f63ca0",
   "metadata": {},
   "source": [
    "### Registering search table"
   ]
  },
  {
   "cell_type": "code",
   "execution_count": 223,
   "id": "1455c9a2",
   "metadata": {},
   "outputs": [],
   "source": [
    "dff = dfftc_s2.select(\n",
    "    \"original_paragraph\", \"clean_paragraph\", \"keys\"\n",
    ")"
   ]
  },
  {
   "cell_type": "code",
   "execution_count": 224,
   "id": "8bad06f5",
   "metadata": {},
   "outputs": [
    {
     "name": "stdout",
     "output_type": "stream",
     "text": [
      "+--------------------+--------------------+--------------------+\n",
      "|  original_paragraph|     clean_paragraph|                keys|\n",
      "+--------------------+--------------------+--------------------+\n",
      "|The Project Guten...|The Project Guten...|[project, gutenbe...|\n",
      "|\r\n",
      "This eBook is f...| This eBook is fo...|[, ebook, use, an...|\n",
      "|                    |                    |                  []|\n",
      "| \r\n",
      "Title: Aaron Trow|   Title: Aaron Trow|[, title:, aaron,...|\n",
      "|\r\n",
      "Author: Anthony...| Author: Anthony ...|[, author:, antho...|\n",
      "|                    |                    |                  []|\n",
      "|Release Date: Jan...|Release Date: Jan...|[release, date:, ...|\n",
      "|   Language: English|   Language: English|[language:, english]|\n",
      "|Character set enc...|Character set enc...|[character, set, ...|\n",
      "|\r\n",
      "***START OF THE...| ***START OF THE ...|[, ***start, proj...|\n",
      "|\r\n",
      "Transcribed fro...| Transcribed from...|[, transcribed, 1...|\n",
      "|                    |                    |                  []|\n",
      "|                    |                    |                  []|\n",
      "|                 ...|         AARON TROW.|    [, aaron, trow.]|\n",
      "|\r\n",
      "I WOULD wish to...| I WOULD wish to ...|[, wish, declare,...|\n",
      "|Bermuda, as all t...|Bermuda, as all t...|[bermuda,, world,...|\n",
      "|The convict estab...|The convict estab...|[convict, establi...|\n",
      "|There have, howev...|There have, howev...|[have,, however,,...|\n",
      "|For the truth of ...|For the truth of ...|[truth, following...|\n",
      "|Some years ago, s...|Some years ago, s...|[years, ago,, soo...|\n",
      "+--------------------+--------------------+--------------------+\n",
      "only showing top 20 rows\n",
      "\n"
     ]
    }
   ],
   "source": [
    "dff.show()"
   ]
  },
  {
   "cell_type": "code",
   "execution_count": 150,
   "id": "a260b3f4",
   "metadata": {},
   "outputs": [],
   "source": [
    "dff.registerTempTable(\"books\")"
   ]
  },
  {
   "cell_type": "code",
   "execution_count": 232,
   "id": "4cf9b9b6",
   "metadata": {},
   "outputs": [],
   "source": [
    "result = spark.sql(f\"\"\"\n",
    "select keys as language\n",
    "from books\n",
    "where array_contains(keys, \"convict\")\n",
    "\"\"\")"
   ]
  },
  {
   "cell_type": "code",
   "execution_count": 233,
   "id": "355e6889",
   "metadata": {},
   "outputs": [
    {
     "data": {
      "text/plain": [
       "5"
      ]
     },
     "execution_count": 233,
     "metadata": {},
     "output_type": "execute_result"
    }
   ],
   "source": [
    "result.count()"
   ]
  },
  {
   "cell_type": "code",
   "execution_count": 236,
   "id": "6f10c35d",
   "metadata": {},
   "outputs": [
    {
     "data": {
      "text/plain": [
       "[Row(language=['bermuda,', 'world', 'knows,', 'british', 'colony', 'maintain', 'convict', 'establishment.', 'outlying', 'convict', 'establishments', 'sent', 'back', 'upon', 'hands', 'colonies,', 'one', 'still', 'maintained.', 'also', 'islands', 'strong', 'military', 'fortress,', 'though', 'fortress', 'looking', 'magnificent', 'eyes', 'civilians,', 'malta', 'gibraltar.', 'also', 'six', 'thousand', 'white', 'people', 'six', 'thousand', 'black', 'people,', 'eating,', 'drinking,', 'sleeping,', 'dying.']),\n",
       " Row(language=['convict', 'establishment', 'notable', 'feature', 'bermuda', 'stranger,', 'seem', 'attract', 'much', 'attention', 'regular', 'inhabitants', 'place.', 'intercourse', 'prisoners', 'bermudians.', 'convicts', 'rarely', 'seen', 'them,', 'convict', 'islands', 'rarely', 'visited.', 'prisoners', 'themselves,', 'course', 'open', 'them—or', 'open', 'them—to', 'intercourse', 'prison', 'authorities.']),\n",
       " Row(language=['have,', 'however,', 'instances', 'convicts', 'escaped', 'confinement,', 'made', 'way', 'among', 'islands.', 'poor', 'wretches!', 'rule,', 'little', 'chance', 'escape.', 'whole', 'length', 'cluster', 'twenty', 'miles,', 'breadth', 'four.', 'prisoners', 'are,', 'course,', 'white', 'men,', 'lower', 'orders', 'bermuda,', 'among', 'alone', 'runagate', 'chance', 'hiding', 'himself,', 'negroes;', 'one', 'known', 'once.', 'clothes', 'marked.', 'chance', 'permanent', 'escape', 'hold', 'american', 'ship;', 'captain', 'american', 'ship', 'willingly', 'encumber', 'escaped', 'convict?', 'but,', 'nevertheless,', 'men', 'escaped;', 'one', 'instance,', 'believe,', 'convict', 'got', 'away,', 'farther', 'tidings', 'ever', 'heard.']),\n",
       " Row(language=['got', 'assistance', 'early', 'morning', 'constables', 'st.', 'george,', 'day', 'over,', 'joined', 'two', 'three', 'warders', 'convict', 'establishment.', 'also', 'friend', 'two,', 'thus', 'party', 'formed,', 'numbering', 'together', 'ten', 'twelve', 'persons.', 'course', 'armed,', 'therefore', 'might', 'thought', 'small', 'chance', 'wretched', 'man', 'come', 'upon', 'track.', 'first', 'searched', 'together,', 'thinking', 'tidings', 'reached', 'must', 'near', 'them;', 'gradually', 'spread', 'along', 'rocks', 'st.', 'george', 'ferry,', 'keeping', 'watchman', 'road,', 'escape', 'unnoticed', 'island.']),\n",
       " Row(language=['trow', 'never', 'rose', 'surface.', 'three', 'days', 'afterwards', 'body', 'found', 'ferry,', 'carried', 'convict', 'island', 'buried', 'him.', 'morton', 'picked', 'taken', 'boat.', 'life', 'saved;', 'may', 'question', 'battle', 'might', 'gone', 'friendly', 'oar', 'raised', 'behalf.', 'was,', 'lay', 'cottage', 'days', 'able', 'moved,', 'receive', 'congratulations', 'watched', 'terrible', 'conflict', 'shore.', 'feel', 'anything', 'day’s', 'work', 'proud;—much', 'rather', 'behoved', 'thoroughly', 'ashamed.', 'six', 'months', 'obtained', 'hand', 'anastasia', 'bergen,', 'remain', 'long', 'bermuda.', '“he', 'went', 'away,', 'back', 'country,”', 'informant', 'told', 'me;', '“because', 'endure', 'meet', 'ghost', 'aaron', 'trow,', 'point', 'road', 'passes', 'near', 'cottage.”', 'ghost', 'aaron', 'trow', 'may', 'seen', 'round', 'little', 'rocky', 'inlet', 'sea,', 'part', 'creed', 'every', 'young', 'woman', 'bermuda.'])]"
      ]
     },
     "execution_count": 236,
     "metadata": {},
     "output_type": "execute_result"
    }
   ],
   "source": [
    "result.collect()"
   ]
  },
  {
   "cell_type": "markdown",
   "id": "4f4ee119",
   "metadata": {},
   "source": [
    "### Calculating score"
   ]
  },
  {
   "cell_type": "code",
   "execution_count": 91,
   "id": "496139e2",
   "metadata": {},
   "outputs": [],
   "source": [
    "multi_kws = \"alice rabbit door\""
   ]
  },
  {
   "cell_type": "markdown",
   "id": "8e275aa6",
   "metadata": {},
   "source": [
    "#### Jaccard Similarity"
   ]
  },
  {
   "cell_type": "code",
   "execution_count": 92,
   "id": "7900b514",
   "metadata": {},
   "outputs": [],
   "source": [
    "score = spark.sql(f\"\"\"\n",
    "select *, size(intersection_)/size(union_) score\n",
    "from (\n",
    "    select *,\n",
    "           array_intersect(keys, split(lower(\"{multi_kws}\"), \" \")) intersection_,\n",
    "           array_union(keys, split(lower(\"{multi_kws}\"), \" \")) union_\n",
    "    from finder\n",
    "    where size(array_intersect(keys, split(lower(\"{multi_kws}\"), \" \"))) > 0\n",
    ") tmp\n",
    "order by score desc\n",
    "limit 10\n",
    "\"\"\")"
   ]
  },
  {
   "cell_type": "markdown",
   "id": "29d0c4ec",
   "metadata": {},
   "source": [
    "- uma palavra: 264 ms\n",
    "- quatro palavras: 326 ms\n",
    "- dez palavras: 314 ms"
   ]
  },
  {
   "cell_type": "code",
   "execution_count": 93,
   "id": "03c656c9",
   "metadata": {},
   "outputs": [
    {
     "name": "stdout",
     "output_type": "stream",
     "text": [
      "+--------------------+--------------------+-------------+--------------------+------------------+\n",
      "|                keys|           paragraph|intersection_|              union_|             score|\n",
      "+--------------------+--------------------+-------------+--------------------+------------------+\n",
      "|[alice, went, tim...|Alice went timidl...|[alice, door]|[alice, went, tim...|0.3333333333333333|\n",
      "|       [said, alice]|But what am I to ...|      [alice]|[said, alice, rab...|              0.25|\n",
      "|     [alice, silent]|    Alice was silent|      [alice]|[alice, silent, r...|              0.25|\n",
      "|       [said, alice]| What for said Alice|      [alice]|[said, alice, rab...|              0.25|\n",
      "|   [inquired, alice]|What was that inq...|      [alice]|[inquired, alice,...|              0.25|\n",
      "|   [alice, evidence]|    Alice s Evidence|      [alice]|[alice, evidence,...|              0.25|\n",
      "|[said, alice, duc...|Very said Alice w...|      [alice]|[said, alice, duc...|               0.2|\n",
      "|[alice, adventure...|Alice s Adventure...|      [alice]|[alice, adventure...|               0.2|\n",
      "|  [fun, said, alice]|What IS the fun s...|      [alice]|[fun, said, alice...|               0.2|\n",
      "|[nothing, said, a...|  Nothing said Alice|      [alice]|[nothing, said, a...|               0.2|\n",
      "+--------------------+--------------------+-------------+--------------------+------------------+\n",
      "\n",
      "CPU times: user 1.93 ms, sys: 712 µs, total: 2.64 ms\n",
      "Wall time: 276 ms\n"
     ]
    }
   ],
   "source": [
    "%%time\n",
    "score.show()"
   ]
  },
  {
   "cell_type": "markdown",
   "id": "583f1895",
   "metadata": {},
   "source": [
    "#### Cosine Similarity"
   ]
  },
  {
   "cell_type": "code",
   "execution_count": 43,
   "id": "f5bfa368",
   "metadata": {},
   "outputs": [],
   "source": [
    "def cossim(v1, v2):\n",
    "    v = v2.map(lambda elem: 1 if array_contains(v1, elem) else 0)\n",
    "    "
   ]
  },
  {
   "cell_type": "markdown",
   "id": "a0a6e032",
   "metadata": {},
   "source": [
    "links:\n",
    "- [spark-sql-array-funcs](https://kontext.tech/article/587/spark-sql-array-functions)\n",
    "- [spark-map-syntax](https://sparkbyexamples.com/pyspark/pyspark-map-transformation/)"
   ]
  }
 ],
 "metadata": {
  "kernelspec": {
   "display_name": "Python 3",
   "language": "python",
   "name": "python3"
  },
  "language_info": {
   "codemirror_mode": {
    "name": "ipython",
    "version": 3
   },
   "file_extension": ".py",
   "mimetype": "text/x-python",
   "name": "python",
   "nbconvert_exporter": "python",
   "pygments_lexer": "ipython3",
   "version": "3.6.9"
  }
 },
 "nbformat": 4,
 "nbformat_minor": 5
}
