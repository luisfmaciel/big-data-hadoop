{
 "cells": [
  {
   "cell_type": "markdown",
   "metadata": {},
   "source": [
    "# Boilerplate - inicialização padrão"
   ]
  },
  {
   "cell_type": "code",
   "execution_count": 1,
   "metadata": {},
   "outputs": [],
   "source": [
    "import findspark\n",
    "findspark.init()\n",
    "from pyspark import SparkContext, SparkConf, SQLContext\n",
    "from pyspark.sql import SparkSession"
   ]
  },
  {
   "cell_type": "code",
   "execution_count": 2,
   "metadata": {},
   "outputs": [],
   "source": [
    "conf = SparkConf().setAppName(\"pyspark-bolsa-familia\")\n",
    "sc = SparkContext(conf=conf)\n",
    "spark = SparkSession(sc)"
   ]
  },
  {
   "cell_type": "markdown",
   "metadata": {},
   "source": [
    "# Caso de Uso: Análise Pagamentos Bolsa Família"
   ]
  },
  {
   "cell_type": "markdown",
   "metadata": {},
   "source": [
    "#### Adicionando arquivo \"202001-bolsa-familia-pgto-sample.csv\" no HDFS"
   ]
  },
  {
   "cell_type": "code",
   "execution_count": 3,
   "metadata": {},
   "outputs": [
    {
     "name": "stdout",
     "output_type": "stream",
     "text": [
      "Found 4 items\r\n",
      "drwxr-xr-x   - root supergroup          0 2023-03-07 21:17 hdfs://node-master:9000/user/root/.sparkStaging\r\n",
      "-rw-r--r--   2 root supergroup    5604051 2023-03-07 21:13 hdfs://node-master:9000/user/root/202001-bolsa-familia-pgto-sample.csv\r\n",
      "-rw-r--r--   2 root supergroup  606777344 2023-03-07 21:17 hdfs://node-master:9000/user/root/202001_BolsaFamilia_Pagamentos.csv._COPYING_\r\n",
      "drwxr-xr-x   - root supergroup          0 2023-03-07 21:02 hdfs://node-master:9000/user/root/f1\r\n"
     ]
    }
   ],
   "source": [
    "! hadoop fs -ls hdfs://node-master:9000/user/root"
   ]
  },
  {
   "cell_type": "code",
   "execution_count": 4,
   "metadata": {},
   "outputs": [
    {
     "name": "stdout",
     "output_type": "stream",
     "text": [
      "put: `202001-bolsa-familia-pgto-sample.csv': File exists\r\n"
     ]
    }
   ],
   "source": [
    "! hadoop fs -put ../datasets/202001-bolsa-familia-pgto-sample.csv"
   ]
  },
  {
   "cell_type": "markdown",
   "metadata": {},
   "source": [
    "#### Verificando a adição no HDFS"
   ]
  },
  {
   "cell_type": "code",
   "execution_count": 5,
   "metadata": {},
   "outputs": [
    {
     "name": "stdout",
     "output_type": "stream",
     "text": [
      "Found 4 items\r\n",
      "drwxr-xr-x   - root supergroup          0 2023-03-07 21:17 hdfs://node-master:9000/user/root/.sparkStaging\r\n",
      "-rw-r--r--   2 root supergroup    5604051 2023-03-07 21:13 hdfs://node-master:9000/user/root/202001-bolsa-familia-pgto-sample.csv\r\n",
      "-rw-r--r--   2 root supergroup  606777344 2023-03-07 21:17 hdfs://node-master:9000/user/root/202001_BolsaFamilia_Pagamentos.csv._COPYING_\r\n",
      "drwxr-xr-x   - root supergroup          0 2023-03-07 21:02 hdfs://node-master:9000/user/root/f1\r\n"
     ]
    }
   ],
   "source": [
    "! hadoop fs -ls hdfs://node-master:9000/user/root"
   ]
  },
  {
   "cell_type": "code",
   "execution_count": 6,
   "metadata": {},
   "outputs": [
    {
     "name": "stdout",
     "output_type": "stream",
     "text": [
      "Connecting to namenode via http://node-master:50070/fsck?ugi=root&files=1&blocks=1&path=%2Fuser%2Froot%2F202001-bolsa-familia-pgto-sample.csv\n",
      "FSCK started by root (auth:SIMPLE) from /172.18.0.4 for path /user/root/202001-bolsa-familia-pgto-sample.csv at Tue Mar 07 21:18:12 GMT 2023\n",
      "/user/root/202001-bolsa-familia-pgto-sample.csv 5604051 bytes, 1 block(s):  OK\n",
      "0. BP-1661134654-172.18.0.4-1678222199052:blk_1073741853_1029 len=5604051 repl=2\n",
      "\n",
      "Status: HEALTHY\n",
      " Total size:\t5604051 B\n",
      " Total dirs:\t0\n",
      " Total files:\t1\n",
      " Total symlinks:\t\t0\n",
      " Total blocks (validated):\t1 (avg. block size 5604051 B)\n",
      " Minimally replicated blocks:\t1 (100.0 %)\n",
      " Over-replicated blocks:\t0 (0.0 %)\n",
      " Under-replicated blocks:\t0 (0.0 %)\n",
      " Mis-replicated blocks:\t\t0 (0.0 %)\n",
      " Default replication factor:\t2\n",
      " Average block replication:\t2.0\n",
      " Corrupt blocks:\t\t0\n",
      " Missing replicas:\t\t0 (0.0 %)\n",
      " Number of data-nodes:\t\t2\n",
      " Number of racks:\t\t1\n",
      "FSCK ended at Tue Mar 07 21:18:12 GMT 2023 in 0 milliseconds\n",
      "\n",
      "\n",
      "The filesystem under path '/user/root/202001-bolsa-familia-pgto-sample.csv' is HEALTHY\n"
     ]
    }
   ],
   "source": [
    "! hdfs fsck hdfs://node-master:9000/user/root/202001-bolsa-familia-pgto-sample.csv -files -blocks"
   ]
  },
  {
   "cell_type": "markdown",
   "metadata": {},
   "source": [
    "#### Carregando DataFrame a partir de um caminho no HDFS"
   ]
  },
  {
   "cell_type": "code",
   "execution_count": 7,
   "metadata": {},
   "outputs": [],
   "source": [
    "HDFS_PATH_BOLSA_FAMILIA = \"hdfs://node-master:9000/user/root/202001-bolsa-familia-pgto-sample.csv\""
   ]
  },
  {
   "cell_type": "markdown",
   "metadata": {},
   "source": [
    "#### Encoding errado => UTF-8"
   ]
  },
  {
   "cell_type": "code",
   "execution_count": 8,
   "metadata": {},
   "outputs": [],
   "source": [
    "dfe = spark.read\\\n",
    "          .options(delimiter=\";\", header=True, encoding=\"utf-8\")\\\n",
    "          .csv(HDFS_PATH_BOLSA_FAMILIA)"
   ]
  },
  {
   "cell_type": "code",
   "execution_count": 9,
   "metadata": {},
   "outputs": [
    {
     "data": {
      "text/plain": [
       "Row(M�S COMPET�NCIA='202001', M�S REFER�NCIA='201901', UF='MG', C�DIGO MUNIC�PIO SIAFI='4123', NOME MUNIC�PIO='BELO HORIZONTE', CPF FAVORECIDO='***.361.206-**', NIS FAVORECIDO='12581466091', NOME FAVORECIDO='ADRIANA RANGEL SANSAO', VALOR PARCELA='253,00')"
      ]
     },
     "execution_count": 9,
     "metadata": {},
     "output_type": "execute_result"
    }
   ],
   "source": [
    "dfe.head()"
   ]
  },
  {
   "cell_type": "markdown",
   "metadata": {},
   "source": [
    "#### Encoding certo => ISO-8859-1"
   ]
  },
  {
   "cell_type": "code",
   "execution_count": 10,
   "metadata": {},
   "outputs": [],
   "source": [
    "df = spark.read\\\n",
    "          .options(delimiter=\";\", header=True, encoding=\"iso-8859-1\")\\\n",
    "          .csv(HDFS_PATH_BOLSA_FAMILIA)"
   ]
  },
  {
   "cell_type": "code",
   "execution_count": 11,
   "metadata": {},
   "outputs": [
    {
     "data": {
      "text/plain": [
       "[Row(MÊS COMPETÊNCIA='202001', MÊS REFERÊNCIA='201901', UF='MG', CÓDIGO MUNICÍPIO SIAFI='4123', NOME MUNICÍPIO='BELO HORIZONTE', CPF FAVORECIDO='***.361.206-**', NIS FAVORECIDO='12581466091', NOME FAVORECIDO='ADRIANA RANGEL SANSAO', VALOR PARCELA='253,00'),\n",
       " Row(MÊS COMPETÊNCIA='202001', MÊS REFERÊNCIA='201901', UF='MG', CÓDIGO MUNICÍPIO SIAFI='4123', NOME MUNICÍPIO='BELO HORIZONTE', CPF FAVORECIDO='***.421.636-**', NIS FAVORECIDO='16057458312', NOME FAVORECIDO='ALEXSANDRA PEREIRA MUTZ', VALOR PARCELA='253,00'),\n",
       " Row(MÊS COMPETÊNCIA='202001', MÊS REFERÊNCIA='201901', UF='MG', CÓDIGO MUNICÍPIO SIAFI='4123', NOME MUNICÍPIO='BELO HORIZONTE', CPF FAVORECIDO='***.770.636-**', NIS FAVORECIDO='16127018278', NOME FAVORECIDO='ELIANA CRISTINA ROCHA SILVA', VALOR PARCELA='212,00'),\n",
       " Row(MÊS COMPETÊNCIA='202001', MÊS REFERÊNCIA='201901', UF='MG', CÓDIGO MUNICÍPIO SIAFI='4123', NOME MUNICÍPIO='BELO HORIZONTE', CPF FAVORECIDO='***.331.186-**', NIS FAVORECIDO='12135368026', NOME FAVORECIDO='ELIANE PEREIRA', VALOR PARCELA='212,00'),\n",
       " Row(MÊS COMPETÊNCIA='202001', MÊS REFERÊNCIA='201901', UF='MG', CÓDIGO MUNICÍPIO SIAFI='4123', NOME MUNICÍPIO='BELO HORIZONTE', CPF FAVORECIDO='***.594.436-**', NIS FAVORECIDO='16271288457', NOME FAVORECIDO='IOLANDA DE ASSIS SILVA CESARINO', VALOR PARCELA='294,00'),\n",
       " Row(MÊS COMPETÊNCIA='202001', MÊS REFERÊNCIA='201901', UF='MG', CÓDIGO MUNICÍPIO SIAFI='4123', NOME MUNICÍPIO='BELO HORIZONTE', CPF FAVORECIDO='***.676.736-**', NIS FAVORECIDO='12456003421', NOME FAVORECIDO='IONE CORREA DA SILVA', VALOR PARCELA='294,00'),\n",
       " Row(MÊS COMPETÊNCIA='202001', MÊS REFERÊNCIA='201901', UF='MG', CÓDIGO MUNICÍPIO SIAFI='4123', NOME MUNICÍPIO='BELO HORIZONTE', CPF FAVORECIDO='***.270.026-**', NIS FAVORECIDO='16443733801', NOME FAVORECIDO='LAUDICEA COSTA SEBASTIAO', VALOR PARCELA='89,00'),\n",
       " Row(MÊS COMPETÊNCIA='202001', MÊS REFERÊNCIA='201901', UF='MG', CÓDIGO MUNICÍPIO SIAFI='4123', NOME MUNICÍPIO='BELO HORIZONTE', CPF FAVORECIDO='***.228.416-**', NIS FAVORECIDO='16428391725', NOME FAVORECIDO='LUCIENE ROSANGELA DA SILVA', VALOR PARCELA='294,00'),\n",
       " Row(MÊS COMPETÊNCIA='202001', MÊS REFERÊNCIA='201901', UF='MG', CÓDIGO MUNICÍPIO SIAFI='4123', NOME MUNICÍPIO='BELO HORIZONTE', CPF FAVORECIDO='***.978.996-**', NIS FAVORECIDO='16057509170', NOME FAVORECIDO='MARIA LUCIANA FERREIRA DOS SANTOS', VALOR PARCELA='130,00'),\n",
       " Row(MÊS COMPETÊNCIA='202001', MÊS REFERÊNCIA='201901', UF='MG', CÓDIGO MUNICÍPIO SIAFI='4123', NOME MUNICÍPIO='BELO HORIZONTE', CPF FAVORECIDO='***.529.856-**', NIS FAVORECIDO='12749081132', NOME FAVORECIDO='QUENIA CANDIDA DA CRUZ', VALOR PARCELA='253,00')]"
      ]
     },
     "execution_count": 11,
     "metadata": {},
     "output_type": "execute_result"
    }
   ],
   "source": [
    "df.head(10)"
   ]
  },
  {
   "cell_type": "markdown",
   "metadata": {},
   "source": [
    "#### Registrando DataFrame como Tabela"
   ]
  },
  {
   "cell_type": "code",
   "execution_count": 12,
   "metadata": {},
   "outputs": [],
   "source": [
    "df.registerTempTable(\"beneficiario\")"
   ]
  },
  {
   "cell_type": "markdown",
   "metadata": {},
   "source": [
    "#### Consultando dados com o comando `spark.sql`"
   ]
  },
  {
   "cell_type": "code",
   "execution_count": 13,
   "metadata": {},
   "outputs": [],
   "source": [
    "total = spark.sql(\"\"\"\n",
    "    select count(0) from beneficiario\n",
    "\"\"\")"
   ]
  },
  {
   "cell_type": "code",
   "execution_count": 14,
   "metadata": {},
   "outputs": [
    {
     "data": {
      "text/plain": [
       "DataFrame[count(0): bigint]"
      ]
     },
     "execution_count": 14,
     "metadata": {},
     "output_type": "execute_result"
    }
   ],
   "source": [
    "total"
   ]
  },
  {
   "cell_type": "code",
   "execution_count": 15,
   "metadata": {},
   "outputs": [
    {
     "name": "stdout",
     "output_type": "stream",
     "text": [
      "+--------+\n",
      "|count(0)|\n",
      "+--------+\n",
      "|   49999|\n",
      "+--------+\n",
      "\n"
     ]
    }
   ],
   "source": [
    "total.show()"
   ]
  },
  {
   "cell_type": "code",
   "execution_count": 16,
   "metadata": {},
   "outputs": [],
   "source": [
    "por_uf = spark.sql(\"\"\"\n",
    "    select UF, count(0) total\n",
    "    from beneficiario\n",
    "    group by UF\n",
    "    order by total desc\n",
    "\"\"\")"
   ]
  },
  {
   "cell_type": "code",
   "execution_count": 17,
   "metadata": {},
   "outputs": [
    {
     "data": {
      "text/plain": [
       "DataFrame[UF: string, total: bigint]"
      ]
     },
     "execution_count": 17,
     "metadata": {},
     "output_type": "execute_result"
    }
   ],
   "source": [
    "por_uf"
   ]
  },
  {
   "cell_type": "code",
   "execution_count": 18,
   "metadata": {},
   "outputs": [
    {
     "name": "stdout",
     "output_type": "stream",
     "text": [
      "+---+-----+\n",
      "| UF|total|\n",
      "+---+-----+\n",
      "| SP| 7411|\n",
      "| BA| 7356|\n",
      "| RJ| 4085|\n",
      "| PA| 3602|\n",
      "| MA| 3440|\n",
      "| CE| 3338|\n",
      "| MG| 3239|\n",
      "| AM| 2646|\n",
      "| AL| 2389|\n",
      "| PE| 2321|\n",
      "+---+-----+\n",
      "only showing top 10 rows\n",
      "\n"
     ]
    }
   ],
   "source": [
    "por_uf.show(10)"
   ]
  },
  {
   "cell_type": "code",
   "execution_count": 19,
   "metadata": {},
   "outputs": [
    {
     "name": "stdout",
     "output_type": "stream",
     "text": [
      "root\n",
      " |-- MÊS COMPETÊNCIA: string (nullable = true)\n",
      " |-- MÊS REFERÊNCIA: string (nullable = true)\n",
      " |-- UF: string (nullable = true)\n",
      " |-- CÓDIGO MUNICÍPIO SIAFI: string (nullable = true)\n",
      " |-- NOME MUNICÍPIO: string (nullable = true)\n",
      " |-- CPF FAVORECIDO: string (nullable = true)\n",
      " |-- NIS FAVORECIDO: string (nullable = true)\n",
      " |-- NOME FAVORECIDO: string (nullable = true)\n",
      " |-- VALOR PARCELA: string (nullable = true)\n",
      "\n"
     ]
    }
   ],
   "source": [
    "df.printSchema()"
   ]
  },
  {
   "cell_type": "markdown",
   "metadata": {},
   "source": [
    "#### Coluna VALOR PARCELA sendo parseada como string devido ao separador"
   ]
  },
  {
   "cell_type": "code",
   "execution_count": 20,
   "metadata": {},
   "outputs": [],
   "source": [
    "from pyspark.sql.functions import regexp_replace\n",
    "from pyspark.sql.types import FloatType"
   ]
  },
  {
   "cell_type": "code",
   "execution_count": 21,
   "metadata": {},
   "outputs": [],
   "source": [
    "df = df.withColumn('VALOR', regexp_replace('VALOR PARCELA', '\\\\,', '\\\\.').cast(\"float\"))"
   ]
  },
  {
   "cell_type": "code",
   "execution_count": 22,
   "metadata": {},
   "outputs": [
    {
     "name": "stdout",
     "output_type": "stream",
     "text": [
      "root\n",
      " |-- MÊS COMPETÊNCIA: string (nullable = true)\n",
      " |-- MÊS REFERÊNCIA: string (nullable = true)\n",
      " |-- UF: string (nullable = true)\n",
      " |-- CÓDIGO MUNICÍPIO SIAFI: string (nullable = true)\n",
      " |-- NOME MUNICÍPIO: string (nullable = true)\n",
      " |-- CPF FAVORECIDO: string (nullable = true)\n",
      " |-- NIS FAVORECIDO: string (nullable = true)\n",
      " |-- NOME FAVORECIDO: string (nullable = true)\n",
      " |-- VALOR PARCELA: string (nullable = true)\n",
      " |-- VALOR: float (nullable = true)\n",
      "\n"
     ]
    }
   ],
   "source": [
    "df.printSchema()"
   ]
  },
  {
   "cell_type": "code",
   "execution_count": 23,
   "metadata": {},
   "outputs": [
    {
     "data": {
      "text/plain": [
       "[Row(MÊS COMPETÊNCIA='202001', MÊS REFERÊNCIA='201901', UF='MG', CÓDIGO MUNICÍPIO SIAFI='4123', NOME MUNICÍPIO='BELO HORIZONTE', CPF FAVORECIDO='***.361.206-**', NIS FAVORECIDO='12581466091', NOME FAVORECIDO='ADRIANA RANGEL SANSAO', VALOR PARCELA='253,00', VALOR=253.0)]"
      ]
     },
     "execution_count": 23,
     "metadata": {},
     "output_type": "execute_result"
    }
   ],
   "source": [
    "df.head(1)"
   ]
  },
  {
   "cell_type": "code",
   "execution_count": 24,
   "metadata": {},
   "outputs": [],
   "source": [
    "df = df.withColumn('VALOR', df['VALOR'].cast(\"float\"))"
   ]
  },
  {
   "cell_type": "code",
   "execution_count": 25,
   "metadata": {},
   "outputs": [
    {
     "name": "stdout",
     "output_type": "stream",
     "text": [
      "root\n",
      " |-- MÊS COMPETÊNCIA: string (nullable = true)\n",
      " |-- MÊS REFERÊNCIA: string (nullable = true)\n",
      " |-- UF: string (nullable = true)\n",
      " |-- CÓDIGO MUNICÍPIO SIAFI: string (nullable = true)\n",
      " |-- NOME MUNICÍPIO: string (nullable = true)\n",
      " |-- CPF FAVORECIDO: string (nullable = true)\n",
      " |-- NIS FAVORECIDO: string (nullable = true)\n",
      " |-- NOME FAVORECIDO: string (nullable = true)\n",
      " |-- VALOR PARCELA: string (nullable = true)\n",
      " |-- VALOR: float (nullable = true)\n",
      "\n"
     ]
    }
   ],
   "source": [
    "df.printSchema()"
   ]
  },
  {
   "cell_type": "code",
   "execution_count": 26,
   "metadata": {},
   "outputs": [
    {
     "data": {
      "text/plain": [
       "[Row(MÊS COMPETÊNCIA='202001', MÊS REFERÊNCIA='201901', UF='MG', CÓDIGO MUNICÍPIO SIAFI='4123', NOME MUNICÍPIO='BELO HORIZONTE', CPF FAVORECIDO='***.361.206-**', NIS FAVORECIDO='12581466091', NOME FAVORECIDO='ADRIANA RANGEL SANSAO', VALOR PARCELA='253,00', VALOR=253.0)]"
      ]
     },
     "execution_count": 26,
     "metadata": {},
     "output_type": "execute_result"
    }
   ],
   "source": [
    "df.head(1)"
   ]
  },
  {
   "cell_type": "code",
   "execution_count": 27,
   "metadata": {},
   "outputs": [],
   "source": [
    "df.registerTempTable(\"beneficiario\")"
   ]
  },
  {
   "cell_type": "code",
   "execution_count": 28,
   "metadata": {},
   "outputs": [],
   "source": [
    "dff = valor_pago_por_uf = spark.sql(\"\"\"\n",
    "    select UF, sum(VALOR) total\n",
    "    from beneficiario\n",
    "    group by UF\n",
    "    order by total desc\n",
    "\"\"\")"
   ]
  },
  {
   "cell_type": "code",
   "execution_count": 29,
   "metadata": {},
   "outputs": [
    {
     "name": "stdout",
     "output_type": "stream",
     "text": [
      "+---+---------+\n",
      "| UF|    total|\n",
      "+---+---------+\n",
      "| SP|1202187.0|\n",
      "| BA|1015792.0|\n",
      "| RJ| 604660.0|\n",
      "| PA| 522674.0|\n",
      "| MG| 496694.0|\n",
      "| MA| 487869.0|\n",
      "| CE| 469233.0|\n",
      "| AM| 463960.0|\n",
      "| AL| 339074.0|\n",
      "| PE| 321076.0|\n",
      "+---+---------+\n",
      "only showing top 10 rows\n",
      "\n"
     ]
    }
   ],
   "source": [
    "dff.show(10)"
   ]
  },
  {
   "cell_type": "markdown",
   "metadata": {},
   "source": [
    "#### Mesmo processo, mas agora com o arquivo completo (1,6GB)"
   ]
  },
  {
   "cell_type": "code",
   "execution_count": 30,
   "metadata": {},
   "outputs": [
    {
     "name": "stdout",
     "output_type": "stream",
     "text": [
      "Found 4 items\r\n",
      "drwxr-xr-x   - root supergroup          0 2023-03-07 21:17 hdfs://node-master:9000/user/root/.sparkStaging\r\n",
      "-rw-r--r--   2 root supergroup    5604051 2023-03-07 21:13 hdfs://node-master:9000/user/root/202001-bolsa-familia-pgto-sample.csv\r\n",
      "-rw-r--r--   2 root supergroup  606777344 2023-03-07 21:17 hdfs://node-master:9000/user/root/202001_BolsaFamilia_Pagamentos.csv._COPYING_\r\n",
      "drwxr-xr-x   - root supergroup          0 2023-03-07 21:02 hdfs://node-master:9000/user/root/f1\r\n"
     ]
    }
   ],
   "source": [
    "! hadoop fs -ls hdfs://node-master:9000/user/root"
   ]
  },
  {
   "cell_type": "code",
   "execution_count": 31,
   "metadata": {},
   "outputs": [
    {
     "name": "stdout",
     "output_type": "stream",
     "text": [
      "CPU times: user 1.49 s, sys: 549 ms, total: 2.04 s\n",
      "Wall time: 37.5 s\n"
     ]
    }
   ],
   "source": [
    "%%time\n",
    "! hadoop fs -put ../datasets/202001_BolsaFamilia_Pagamentos.csv"
   ]
  },
  {
   "cell_type": "code",
   "execution_count": 32,
   "metadata": {},
   "outputs": [
    {
     "name": "stdout",
     "output_type": "stream",
     "text": [
      "Connecting to namenode via http://node-master:50070/fsck?ugi=root&files=1&blocks=1&path=%2Fuser%2Froot%2F202001_BolsaFamilia_Pagamentos.csv\n",
      "FSCK started by root (auth:SIMPLE) from /172.18.0.4 for path /user/root/202001_BolsaFamilia_Pagamentos.csv at Tue Mar 07 21:19:09 GMT 2023\n",
      "/user/root/202001_BolsaFamilia_Pagamentos.csv 1496845263 bytes, 12 block(s):  OK\n",
      "0. BP-1661134654-172.18.0.4-1678222199052:blk_1073741864_1040 len=134217728 repl=2\n",
      "1. BP-1661134654-172.18.0.4-1678222199052:blk_1073741865_1041 len=134217728 repl=2\n",
      "2. BP-1661134654-172.18.0.4-1678222199052:blk_1073741866_1042 len=134217728 repl=2\n",
      "3. BP-1661134654-172.18.0.4-1678222199052:blk_1073741867_1043 len=134217728 repl=2\n",
      "4. BP-1661134654-172.18.0.4-1678222199052:blk_1073741868_1044 len=134217728 repl=2\n",
      "5. BP-1661134654-172.18.0.4-1678222199052:blk_1073741869_1045 len=134217728 repl=2\n",
      "6. BP-1661134654-172.18.0.4-1678222199052:blk_1073741870_1046 len=134217728 repl=2\n",
      "7. BP-1661134654-172.18.0.4-1678222199052:blk_1073741871_1047 len=134217728 repl=2\n",
      "8. BP-1661134654-172.18.0.4-1678222199052:blk_1073741872_1048 len=134217728 repl=2\n",
      "9. BP-1661134654-172.18.0.4-1678222199052:blk_1073741873_1049 len=134217728 repl=2\n",
      "10. BP-1661134654-172.18.0.4-1678222199052:blk_1073741874_1050 len=134217728 repl=2\n",
      "11. BP-1661134654-172.18.0.4-1678222199052:blk_1073741875_1051 len=20450255 repl=2\n",
      "\n",
      "Status: HEALTHY\n",
      " Total size:\t1496845263 B\n",
      " Total dirs:\t0\n",
      " Total files:\t1\n",
      " Total symlinks:\t\t0\n",
      " Total blocks (validated):\t12 (avg. block size 124737105 B)\n",
      " Minimally replicated blocks:\t12 (100.0 %)\n",
      " Over-replicated blocks:\t0 (0.0 %)\n",
      " Under-replicated blocks:\t0 (0.0 %)\n",
      " Mis-replicated blocks:\t\t0 (0.0 %)\n",
      " Default replication factor:\t2\n",
      " Average block replication:\t2.0\n",
      " Corrupt blocks:\t\t0\n",
      " Missing replicas:\t\t0 (0.0 %)\n",
      " Number of data-nodes:\t\t2\n",
      " Number of racks:\t\t1\n",
      "FSCK ended at Tue Mar 07 21:19:09 GMT 2023 in 3 milliseconds\n",
      "\n",
      "\n",
      "The filesystem under path '/user/root/202001_BolsaFamilia_Pagamentos.csv' is HEALTHY\n"
     ]
    }
   ],
   "source": [
    "! hdfs fsck hdfs://node-master:9000/user/root/202001_BolsaFamilia_Pagamentos.csv -files -blocks"
   ]
  },
  {
   "cell_type": "code",
   "execution_count": 33,
   "metadata": {},
   "outputs": [],
   "source": [
    "HDFS_PATH_BOLSA_FAMILIA_FULL = \"hdfs://node-master:9000/user/root/202001_BolsaFamilia_Pagamentos.csv\""
   ]
  },
  {
   "cell_type": "code",
   "execution_count": 34,
   "metadata": {},
   "outputs": [],
   "source": [
    "df2 = spark.read\\\n",
    "          .options(delimiter=\";\", header=True, encoding=\"iso-8859-1\")\\\n",
    "          .csv(HDFS_PATH_BOLSA_FAMILIA_FULL)"
   ]
  },
  {
   "cell_type": "code",
   "execution_count": 35,
   "metadata": {},
   "outputs": [
    {
     "name": "stdout",
     "output_type": "stream",
     "text": [
      "+---------------+--------------+---+----------------------+--------------+--------------+--------------+--------------------+-------------+\n",
      "|MÊS COMPETÊNCIA|MÊS REFERÊNCIA| UF|CÓDIGO MUNICÍPIO SIAFI|NOME MUNICÍPIO|CPF FAVORECIDO|NIS FAVORECIDO|     NOME FAVORECIDO|VALOR PARCELA|\n",
      "+---------------+--------------+---+----------------------+--------------+--------------+--------------+--------------------+-------------+\n",
      "|         202001|        201901| MG|                  4123|BELO HORIZONTE|***.361.206-**|   12581466091|ADRIANA RANGEL SA...|       253,00|\n",
      "|         202001|        201901| MG|                  4123|BELO HORIZONTE|***.421.636-**|   16057458312|ALEXSANDRA PEREIR...|       253,00|\n",
      "|         202001|        201901| MG|                  4123|BELO HORIZONTE|***.770.636-**|   16127018278|ELIANA CRISTINA R...|       212,00|\n",
      "|         202001|        201901| MG|                  4123|BELO HORIZONTE|***.331.186-**|   12135368026|      ELIANE PEREIRA|       212,00|\n",
      "|         202001|        201901| MG|                  4123|BELO HORIZONTE|***.594.436-**|   16271288457|IOLANDA DE ASSIS ...|       294,00|\n",
      "|         202001|        201901| MG|                  4123|BELO HORIZONTE|***.676.736-**|   12456003421|IONE CORREA DA SILVA|       294,00|\n",
      "|         202001|        201901| MG|                  4123|BELO HORIZONTE|***.270.026-**|   16443733801|LAUDICEA COSTA SE...|        89,00|\n",
      "|         202001|        201901| MG|                  4123|BELO HORIZONTE|***.228.416-**|   16428391725|LUCIENE ROSANGELA...|       294,00|\n",
      "|         202001|        201901| MG|                  4123|BELO HORIZONTE|***.978.996-**|   16057509170|MARIA LUCIANA FER...|       130,00|\n",
      "|         202001|        201901| MG|                  4123|BELO HORIZONTE|***.529.856-**|   12749081132|QUENIA CANDIDA DA...|       253,00|\n",
      "|         202001|        201901| MG|                  4123|BELO HORIZONTE|***.352.476-**|   16615434742|ROSIMEIRE ANCETO ...|       253,00|\n",
      "|         202001|        201901| MG|                  4123|BELO HORIZONTE|***.585.186-**|   20079870923|SHIRLEI DE SOUZA ...|       294,00|\n",
      "|         202001|        201901| MG|                  4123|BELO HORIZONTE|***.147.076-**|   10776930653|SINVALNICE DE OLI...|       130,00|\n",
      "|         202001|        201901| MG|                  4123|BELO HORIZONTE|***.715.116-**|   16577834556|VALDERES MARIA ALVES|       253,00|\n",
      "|         202001|        201901| MG|                  4123|BELO HORIZONTE|***.632.276-**|   12594066097|VILMARA COSTA SANTOS|       294,00|\n",
      "|         202001|        201902| AC|                  0657|  PORTO WALTER|***.230.982-**|   23714280363|FRANCISCO DA SILV...|       294,00|\n",
      "|         202001|        201902| AM|                  0295|        BERURI|***.138.102-**|   12988122026|ADONIAS BRAGA DE ...|       294,00|\n",
      "|         202001|        201902| AM|                  0215|  BOCA DO ACRE|***.140.512-**|   20161688521|CLEIDIANA JULIAO ...|       130,00|\n",
      "|         202001|        201902| AM|                  0215|  BOCA DO ACRE|***.175.712-**|   16268090617|JOSE ROBERTO DA S...|       171,00|\n",
      "|         202001|        201902| AM|                  0215|  BOCA DO ACRE|***.483.662-**|   16605198426|RAIMUNDA ADRIANA ...|       212,00|\n",
      "+---------------+--------------+---+----------------------+--------------+--------------+--------------+--------------------+-------------+\n",
      "only showing top 20 rows\n",
      "\n",
      "CPU times: user 2.31 ms, sys: 70 µs, total: 2.38 ms\n",
      "Wall time: 176 ms\n"
     ]
    }
   ],
   "source": [
    "%%time\n",
    "df2.show()"
   ]
  },
  {
   "cell_type": "code",
   "execution_count": 36,
   "metadata": {},
   "outputs": [],
   "source": [
    "df2.registerTempTable(\"beneficiario_full\")"
   ]
  },
  {
   "cell_type": "code",
   "execution_count": 37,
   "metadata": {},
   "outputs": [],
   "source": [
    "dff2 = spark.sql(\"\"\"\n",
    "    select count(0) from beneficiario_full\n",
    "\"\"\")"
   ]
  },
  {
   "cell_type": "code",
   "execution_count": 38,
   "metadata": {},
   "outputs": [
    {
     "name": "stdout",
     "output_type": "stream",
     "text": [
      "+--------+\n",
      "|count(0)|\n",
      "+--------+\n",
      "|13301798|\n",
      "+--------+\n",
      "\n",
      "CPU times: user 2.89 ms, sys: 1.34 ms, total: 4.23 ms\n",
      "Wall time: 10.2 s\n"
     ]
    }
   ],
   "source": [
    "%%time\n",
    "dff2.show()"
   ]
  },
  {
   "cell_type": "code",
   "execution_count": 39,
   "metadata": {},
   "outputs": [],
   "source": [
    "por_uf_2 = spark.sql(\"\"\"\n",
    "    select UF, count(0) total\n",
    "    from beneficiario_full\n",
    "    group by UF\n",
    "    order by total desc\n",
    "\"\"\")"
   ]
  },
  {
   "cell_type": "code",
   "execution_count": 40,
   "metadata": {},
   "outputs": [
    {
     "name": "stdout",
     "output_type": "stream",
     "text": [
      "+---+-------+\n",
      "| UF|  total|\n",
      "+---+-------+\n",
      "| BA|1756158|\n",
      "| SP|1406214|\n",
      "| PE|1129471|\n",
      "| CE|1018022|\n",
      "| MG| 988240|\n",
      "| MA| 932253|\n",
      "| PA| 928797|\n",
      "| RJ| 827020|\n",
      "| PB| 503919|\n",
      "| PI| 438913|\n",
      "| AM| 389239|\n",
      "| AL| 389138|\n",
      "| PR| 345636|\n",
      "| RN| 340825|\n",
      "| RS| 336812|\n",
      "| GO| 286249|\n",
      "| SE| 280256|\n",
      "| ES| 170655|\n",
      "| MT| 146210|\n",
      "| MS| 115804|\n",
      "+---+-------+\n",
      "only showing top 20 rows\n",
      "\n",
      "CPU times: user 4.36 ms, sys: 845 µs, total: 5.21 ms\n",
      "Wall time: 23.3 s\n"
     ]
    }
   ],
   "source": [
    "%%time\n",
    "por_uf_2.show()"
   ]
  },
  {
   "cell_type": "code",
   "execution_count": 41,
   "metadata": {},
   "outputs": [],
   "source": [
    "df3 = df2.withColumn('VALOR', regexp_replace('VALOR PARCELA', '\\\\,', '\\\\.').cast(\"float\"))"
   ]
  },
  {
   "cell_type": "code",
   "execution_count": 42,
   "metadata": {},
   "outputs": [
    {
     "name": "stdout",
     "output_type": "stream",
     "text": [
      "root\n",
      " |-- MÊS COMPETÊNCIA: string (nullable = true)\n",
      " |-- MÊS REFERÊNCIA: string (nullable = true)\n",
      " |-- UF: string (nullable = true)\n",
      " |-- CÓDIGO MUNICÍPIO SIAFI: string (nullable = true)\n",
      " |-- NOME MUNICÍPIO: string (nullable = true)\n",
      " |-- CPF FAVORECIDO: string (nullable = true)\n",
      " |-- NIS FAVORECIDO: string (nullable = true)\n",
      " |-- NOME FAVORECIDO: string (nullable = true)\n",
      " |-- VALOR PARCELA: string (nullable = true)\n",
      " |-- VALOR: float (nullable = true)\n",
      "\n",
      "CPU times: user 2.66 ms, sys: 197 µs, total: 2.86 ms\n",
      "Wall time: 4.32 ms\n"
     ]
    }
   ],
   "source": [
    "%%time\n",
    "df3.printSchema()"
   ]
  },
  {
   "cell_type": "code",
   "execution_count": 43,
   "metadata": {},
   "outputs": [
    {
     "name": "stdout",
     "output_type": "stream",
     "text": [
      "+---------------+--------------+---+----------------------+--------------+--------------+--------------+--------------------+-------------+-----+\n",
      "|MÊS COMPETÊNCIA|MÊS REFERÊNCIA| UF|CÓDIGO MUNICÍPIO SIAFI|NOME MUNICÍPIO|CPF FAVORECIDO|NIS FAVORECIDO|     NOME FAVORECIDO|VALOR PARCELA|VALOR|\n",
      "+---------------+--------------+---+----------------------+--------------+--------------+--------------+--------------------+-------------+-----+\n",
      "|         202001|        201901| MG|                  4123|BELO HORIZONTE|***.361.206-**|   12581466091|ADRIANA RANGEL SA...|       253,00|253.0|\n",
      "|         202001|        201901| MG|                  4123|BELO HORIZONTE|***.421.636-**|   16057458312|ALEXSANDRA PEREIR...|       253,00|253.0|\n",
      "|         202001|        201901| MG|                  4123|BELO HORIZONTE|***.770.636-**|   16127018278|ELIANA CRISTINA R...|       212,00|212.0|\n",
      "|         202001|        201901| MG|                  4123|BELO HORIZONTE|***.331.186-**|   12135368026|      ELIANE PEREIRA|       212,00|212.0|\n",
      "|         202001|        201901| MG|                  4123|BELO HORIZONTE|***.594.436-**|   16271288457|IOLANDA DE ASSIS ...|       294,00|294.0|\n",
      "|         202001|        201901| MG|                  4123|BELO HORIZONTE|***.676.736-**|   12456003421|IONE CORREA DA SILVA|       294,00|294.0|\n",
      "|         202001|        201901| MG|                  4123|BELO HORIZONTE|***.270.026-**|   16443733801|LAUDICEA COSTA SE...|        89,00| 89.0|\n",
      "|         202001|        201901| MG|                  4123|BELO HORIZONTE|***.228.416-**|   16428391725|LUCIENE ROSANGELA...|       294,00|294.0|\n",
      "|         202001|        201901| MG|                  4123|BELO HORIZONTE|***.978.996-**|   16057509170|MARIA LUCIANA FER...|       130,00|130.0|\n",
      "|         202001|        201901| MG|                  4123|BELO HORIZONTE|***.529.856-**|   12749081132|QUENIA CANDIDA DA...|       253,00|253.0|\n",
      "|         202001|        201901| MG|                  4123|BELO HORIZONTE|***.352.476-**|   16615434742|ROSIMEIRE ANCETO ...|       253,00|253.0|\n",
      "|         202001|        201901| MG|                  4123|BELO HORIZONTE|***.585.186-**|   20079870923|SHIRLEI DE SOUZA ...|       294,00|294.0|\n",
      "|         202001|        201901| MG|                  4123|BELO HORIZONTE|***.147.076-**|   10776930653|SINVALNICE DE OLI...|       130,00|130.0|\n",
      "|         202001|        201901| MG|                  4123|BELO HORIZONTE|***.715.116-**|   16577834556|VALDERES MARIA ALVES|       253,00|253.0|\n",
      "|         202001|        201901| MG|                  4123|BELO HORIZONTE|***.632.276-**|   12594066097|VILMARA COSTA SANTOS|       294,00|294.0|\n",
      "|         202001|        201902| AC|                  0657|  PORTO WALTER|***.230.982-**|   23714280363|FRANCISCO DA SILV...|       294,00|294.0|\n",
      "|         202001|        201902| AM|                  0295|        BERURI|***.138.102-**|   12988122026|ADONIAS BRAGA DE ...|       294,00|294.0|\n",
      "|         202001|        201902| AM|                  0215|  BOCA DO ACRE|***.140.512-**|   20161688521|CLEIDIANA JULIAO ...|       130,00|130.0|\n",
      "|         202001|        201902| AM|                  0215|  BOCA DO ACRE|***.175.712-**|   16268090617|JOSE ROBERTO DA S...|       171,00|171.0|\n",
      "|         202001|        201902| AM|                  0215|  BOCA DO ACRE|***.483.662-**|   16605198426|RAIMUNDA ADRIANA ...|       212,00|212.0|\n",
      "+---------------+--------------+---+----------------------+--------------+--------------+--------------+--------------------+-------------+-----+\n",
      "only showing top 20 rows\n",
      "\n",
      "CPU times: user 200 µs, sys: 2.48 ms, total: 2.68 ms\n",
      "Wall time: 172 ms\n"
     ]
    }
   ],
   "source": [
    "%%time\n",
    "df3.show()"
   ]
  },
  {
   "cell_type": "code",
   "execution_count": 44,
   "metadata": {},
   "outputs": [],
   "source": [
    "df3.registerTempTable(\"beneficiario_full\")"
   ]
  },
  {
   "cell_type": "code",
   "execution_count": 45,
   "metadata": {},
   "outputs": [],
   "source": [
    "dff = valor_pago_por_uf = spark.sql(\"\"\"\n",
    "    select UF, sum(VALOR) total\n",
    "    from beneficiario_full\n",
    "    group by UF\n",
    "    order by total desc\n",
    "\"\"\")"
   ]
  },
  {
   "cell_type": "code",
   "execution_count": 46,
   "metadata": {},
   "outputs": [
    {
     "data": {
      "text/plain": [
       "Row(UF='BA', total=331509144.0)"
      ]
     },
     "execution_count": 46,
     "metadata": {},
     "output_type": "execute_result"
    }
   ],
   "source": [
    "dff.head()"
   ]
  }
 ],
 "metadata": {
  "kernelspec": {
   "display_name": "Python 3",
   "language": "python",
   "name": "python3"
  },
  "language_info": {
   "codemirror_mode": {
    "name": "ipython",
    "version": 3
   },
   "file_extension": ".py",
   "mimetype": "text/x-python",
   "name": "python",
   "nbconvert_exporter": "python",
   "pygments_lexer": "ipython3",
   "version": "3.6.9"
  }
 },
 "nbformat": 4,
 "nbformat_minor": 2
}
