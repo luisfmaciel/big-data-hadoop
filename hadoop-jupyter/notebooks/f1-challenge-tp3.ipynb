{
 "cells": [
  {
   "cell_type": "markdown",
   "metadata": {},
   "source": [
    "# Boilerplate - inicialização padrão"
   ]
  },
  {
   "cell_type": "code",
   "execution_count": 1,
   "metadata": {},
   "outputs": [],
   "source": [
    "import findspark\n",
    "findspark.init()\n",
    "from pyspark import SparkContext, SparkConf, SQLContext\n",
    "from pyspark.sql import SparkSession"
   ]
  },
  {
   "cell_type": "code",
   "execution_count": 2,
   "metadata": {},
   "outputs": [],
   "source": [
    "conf = SparkConf().setAppName(\"f1-challenge-pt3\")\n",
    "sc = SparkContext(conf=conf)\n",
    "spark = SparkSession(sc)"
   ]
  },
  {
   "cell_type": "markdown",
   "metadata": {},
   "source": [
    "#### Adicionando arquivo no HDFS"
   ]
  },
  {
   "cell_type": "code",
   "execution_count": 3,
   "metadata": {},
   "outputs": [],
   "source": [
    "! hadoop fs -put ../datasets/f1"
   ]
  },
  {
   "cell_type": "code",
   "execution_count": 4,
   "metadata": {},
   "outputs": [
    {
     "name": "stdout",
     "output_type": "stream",
     "text": [
      "Found 2 items\r\n",
      "drwxr-xr-x   - root supergroup          0 2023-06-04 16:44 hdfs://node-master:9000/user/root/.sparkStaging\r\n",
      "drwxr-xr-x   - root supergroup          0 2023-06-04 16:45 hdfs://node-master:9000/user/root/f1\r\n"
     ]
    }
   ],
   "source": [
    "! hadoop fs -ls hdfs://node-master:9000/user/root"
   ]
  },
  {
   "cell_type": "code",
   "execution_count": 5,
   "metadata": {},
   "outputs": [
    {
     "name": "stdout",
     "output_type": "stream",
     "text": [
      "Found 13 items\r\n",
      "-rw-r--r--   2 root supergroup       8667 2023-06-04 16:45 hdfs://node-master:9000/user/root/f1/circuits.csv\r\n",
      "-rw-r--r--   2 root supergroup     224140 2023-06-04 16:45 hdfs://node-master:9000/user/root/f1/constructorResults.csv\r\n",
      "-rw-r--r--   2 root supergroup     267256 2023-06-04 16:45 hdfs://node-master:9000/user/root/f1/constructorStandings.csv\r\n",
      "-rw-r--r--   2 root supergroup      15617 2023-06-04 16:45 hdfs://node-master:9000/user/root/f1/constructors.csv\r\n",
      "-rw-r--r--   2 root supergroup     768136 2023-06-04 16:45 hdfs://node-master:9000/user/root/f1/driverStandings.csv\r\n",
      "-rw-r--r--   2 root supergroup      79533 2023-06-04 16:45 hdfs://node-master:9000/user/root/f1/drivers.csv\r\n",
      "-rw-r--r--   2 root supergroup   12118621 2023-06-04 16:45 hdfs://node-master:9000/user/root/f1/lapTimes.csv\r\n",
      "-rw-r--r--   2 root supergroup     220898 2023-06-04 16:45 hdfs://node-master:9000/user/root/f1/pitStops.csv\r\n",
      "-rw-r--r--   2 root supergroup     315477 2023-06-04 16:45 hdfs://node-master:9000/user/root/f1/qualifying.csv\r\n",
      "-rw-r--r--   2 root supergroup     104843 2023-06-04 16:45 hdfs://node-master:9000/user/root/f1/races.csv\r\n",
      "-rw-r--r--   2 root supergroup    1176858 2023-06-04 16:45 hdfs://node-master:9000/user/root/f1/results.csv\r\n",
      "-rw-r--r--   2 root supergroup       4099 2023-06-04 16:45 hdfs://node-master:9000/user/root/f1/seasons.csv\r\n",
      "-rw-r--r--   2 root supergroup       1926 2023-06-04 16:45 hdfs://node-master:9000/user/root/f1/status.csv\r\n"
     ]
    }
   ],
   "source": [
    "! hadoop fs -ls hdfs://node-master:9000/user/root/f1"
   ]
  },
  {
   "cell_type": "markdown",
   "metadata": {},
   "source": [
    "#### Verificando a adição no HDFS"
   ]
  },
  {
   "cell_type": "code",
   "execution_count": 6,
   "metadata": {},
   "outputs": [],
   "source": [
    "files = [\"circuits.csv\",\n",
    "\"constructorResults.csv\",\n",
    "\"constructorStandings.csv\",\n",
    "\"constructors.csv\",\n",
    "\"driverStandings.csv\",\n",
    "\"drivers.csv\",\n",
    "\"lapTimes.csv\",\n",
    "\"pitStops.csv\",\n",
    "\"qualifying.csv\",\n",
    "\"races.csv\",\n",
    "\"results.csv\",\n",
    "\"seasons.csv\",\n",
    "\"status.csv\",]"
   ]
  },
  {
   "cell_type": "code",
   "execution_count": 7,
   "metadata": {},
   "outputs": [
    {
     "name": "stdout",
     "output_type": "stream",
     "text": [
      "Connecting to namenode via http://node-master:50070/fsck?ugi=root&files=1&blocks=1&path=%2Fuser%2Froot%2Ff1\n",
      "FSCK started by root (auth:SIMPLE) from /172.18.0.7 for path /user/root/f1 at Sun Jun 04 16:46:29 GMT 2023\n",
      "/user/root/f1 <dir>\n",
      "/user/root/f1/circuits.csv 8667 bytes, 1 block(s):  OK\n",
      "0. BP-896234228-172.18.0.7-1685896813972:blk_1073741830_1006 len=8667 repl=2\n",
      "\n",
      "/user/root/f1/constructorResults.csv 224140 bytes, 1 block(s):  OK\n",
      "0. BP-896234228-172.18.0.7-1685896813972:blk_1073741831_1007 len=224140 repl=2\n",
      "\n",
      "/user/root/f1/constructorStandings.csv 267256 bytes, 1 block(s):  OK\n",
      "0. BP-896234228-172.18.0.7-1685896813972:blk_1073741832_1008 len=267256 repl=2\n",
      "\n",
      "/user/root/f1/constructors.csv 15617 bytes, 1 block(s):  OK\n",
      "0. BP-896234228-172.18.0.7-1685896813972:blk_1073741833_1009 len=15617 repl=2\n",
      "\n",
      "/user/root/f1/driverStandings.csv 768136 bytes, 1 block(s):  OK\n",
      "0. BP-896234228-172.18.0.7-1685896813972:blk_1073741834_1010 len=768136 repl=2\n",
      "\n",
      "/user/root/f1/drivers.csv 79533 bytes, 1 block(s):  OK\n",
      "0. BP-896234228-172.18.0.7-1685896813972:blk_1073741835_1011 len=79533 repl=2\n",
      "\n",
      "/user/root/f1/lapTimes.csv 12118621 bytes, 1 block(s):  OK\n",
      "0. BP-896234228-172.18.0.7-1685896813972:blk_1073741836_1012 len=12118621 repl=2\n",
      "\n",
      "/user/root/f1/pitStops.csv 220898 bytes, 1 block(s):  OK\n",
      "0. BP-896234228-172.18.0.7-1685896813972:blk_1073741837_1013 len=220898 repl=2\n",
      "\n",
      "/user/root/f1/qualifying.csv 315477 bytes, 1 block(s):  OK\n",
      "0. BP-896234228-172.18.0.7-1685896813972:blk_1073741838_1014 len=315477 repl=2\n",
      "\n",
      "/user/root/f1/races.csv 104843 bytes, 1 block(s):  OK\n",
      "0. BP-896234228-172.18.0.7-1685896813972:blk_1073741839_1015 len=104843 repl=2\n",
      "\n",
      "/user/root/f1/results.csv 1176858 bytes, 1 block(s):  OK\n",
      "0. BP-896234228-172.18.0.7-1685896813972:blk_1073741840_1016 len=1176858 repl=2\n",
      "\n",
      "/user/root/f1/seasons.csv 4099 bytes, 1 block(s):  OK\n",
      "0. BP-896234228-172.18.0.7-1685896813972:blk_1073741841_1017 len=4099 repl=2\n",
      "\n",
      "/user/root/f1/status.csv 1926 bytes, 1 block(s):  OK\n",
      "0. BP-896234228-172.18.0.7-1685896813972:blk_1073741842_1018 len=1926 repl=2\n",
      "\n",
      "Status: HEALTHY\n",
      " Total size:\t15306071 B\n",
      " Total dirs:\t1\n",
      " Total files:\t13\n",
      " Total symlinks:\t\t0\n",
      " Total blocks (validated):\t13 (avg. block size 1177390 B)\n",
      " Minimally replicated blocks:\t13 (100.0 %)\n",
      " Over-replicated blocks:\t0 (0.0 %)\n",
      " Under-replicated blocks:\t0 (0.0 %)\n",
      " Mis-replicated blocks:\t\t0 (0.0 %)\n",
      " Default replication factor:\t2\n",
      " Average block replication:\t2.0\n",
      " Corrupt blocks:\t\t0\n",
      " Missing replicas:\t\t0 (0.0 %)\n",
      " Number of data-nodes:\t\t2\n",
      " Number of racks:\t\t1\n",
      "FSCK ended at Sun Jun 04 16:46:29 GMT 2023 in 17 milliseconds\n",
      "\n",
      "\n",
      "The filesystem under path '/user/root/f1' is HEALTHY\n"
     ]
    }
   ],
   "source": [
    "! hdfs fsck hdfs://node-master:9000/user/root/f1 -files -blocks"
   ]
  },
  {
   "cell_type": "markdown",
   "metadata": {},
   "source": [
    "#### Carregando DataFrame a partir de um caminho no HDFS"
   ]
  },
  {
   "cell_type": "code",
   "execution_count": 8,
   "metadata": {},
   "outputs": [],
   "source": [
    "HDFS_PATH_F1 = \"hdfs://node-master:9000/user/root/f1\""
   ]
  },
  {
   "cell_type": "markdown",
   "metadata": {},
   "source": [
    "#### Carregando csv's"
   ]
  },
  {
   "cell_type": "code",
   "execution_count": 9,
   "metadata": {},
   "outputs": [],
   "source": [
    "dfe = {}\n",
    "for file in files:\n",
    "    dfe[file[:-4]] = spark.read\\\n",
    "              .options(delimiter=\",\", header=True, encoding=\"iso-8859-1\")\\\n",
    "              .csv(f\"/user/root/f1/{file}\")"
   ]
  },
  {
   "cell_type": "code",
   "execution_count": 10,
   "metadata": {},
   "outputs": [],
   "source": [
    "keys = dfe.keys()"
   ]
  },
  {
   "cell_type": "markdown",
   "metadata": {},
   "source": [
    "#### Nomes Tabelas"
   ]
  },
  {
   "cell_type": "code",
   "execution_count": 11,
   "metadata": {},
   "outputs": [
    {
     "data": {
      "text/plain": [
       "dict_keys(['circuits', 'constructorResults', 'constructorStandings', 'constructors', 'driverStandings', 'drivers', 'lapTimes', 'pitStops', 'qualifying', 'races', 'results', 'seasons', 'status'])"
      ]
     },
     "execution_count": 11,
     "metadata": {},
     "output_type": "execute_result"
    }
   ],
   "source": [
    "keys"
   ]
  },
  {
   "cell_type": "markdown",
   "metadata": {},
   "source": [
    "#### Registrando DataFrame como Tabela"
   ]
  },
  {
   "cell_type": "code",
   "execution_count": 12,
   "metadata": {},
   "outputs": [],
   "source": [
    "for key in keys:\n",
    "    dfe[key].registerTempTable(key)"
   ]
  },
  {
   "cell_type": "markdown",
   "metadata": {},
   "source": [
    "#### Pontuação média por corrida dos 20 melhores pilotos das últimas dez temporadas?"
   ]
  },
  {
   "cell_type": "code",
   "execution_count": 13,
   "metadata": {},
   "outputs": [
    {
     "name": "stdout",
     "output_type": "stream",
     "text": [
      "+--------+------------------+------------------+------------+\n",
      "|driverId|         driverRef|        avg_points|total_points|\n",
      "+--------+------------------+------------------+------------+\n",
      "|       1|          hamilton|13.890173410404625|      2403.0|\n",
      "|      20|            vettel|13.780346820809248|      2384.0|\n",
      "|       3|           rosberg| 10.15359477124183|      1553.5|\n",
      "|      17|            webber|10.079787234042554|       947.5|\n",
      "|       8|         raikkonen| 7.774436090225564|      1034.0|\n",
      "|       4|            alonso| 7.635294117647059|      1298.0|\n",
      "|     822|            bottas|7.3061224489795915|       716.0|\n",
      "|     830|    max_verstappen| 7.016666666666667|       421.0|\n",
      "|      18|            button| 6.512987012987013|      1003.0|\n",
      "|     817|         ricciardo| 6.325581395348837|       816.0|\n",
      "|      13|             massa| 5.266666666666667|       869.0|\n",
      "|       9|            kubica|              4.25|       153.0|\n",
      "|     815|             perez|3.4338235294117645|       467.0|\n",
      "|      30|michael_schumacher| 3.396551724137931|       197.0|\n",
      "|     839|              ocon|               3.0|        87.0|\n",
      "|     807|        hulkenberg|2.9562043795620436|       405.0|\n",
      "|     154|          grosjean| 2.774193548387097|       344.0|\n",
      "|      22|       barrichello| 2.327272727272727|       128.0|\n",
      "|     814|             resta|2.0508474576271185|       121.0|\n",
      "|     840|            stroll|               2.0|        40.0|\n",
      "+--------+------------------+------------------+------------+\n",
      "\n"
     ]
    }
   ],
   "source": [
    "spark.sql(\"\"\"\n",
    "    WITH last_10_seasons AS (\n",
    "        SELECT year\n",
    "        FROM seasons\n",
    "        ORDER BY year DESC\n",
    "        LIMIT 10\n",
    "    ),\n",
    "    races_last_10_seasons AS (\n",
    "        SELECT r.*\n",
    "        FROM races r\n",
    "        WHERE r.year IN (SELECT year FROM last_10_seasons)\n",
    "    )\n",
    "    SELECT r.driverId, d.driverRef, AVG(r.points) AS avg_points, SUM(r.points) AS total_points\n",
    "    FROM results r\n",
    "    INNER JOIN races_last_10_seasons l ON r.raceId = l.raceId\n",
    "    INNER JOIN drivers d ON r.driverId = d.driverId\n",
    "    GROUP BY r.driverId, d.driverRef\n",
    "    ORDER BY avg_points DESC\n",
    "    LIMIT 20\n",
    "\"\"\").show()"
   ]
  },
  {
   "cell_type": "markdown",
   "metadata": {},
   "source": [
    "#### Todas as corridas as quais apenas três equipes pontuaram?"
   ]
  },
  {
   "cell_type": "code",
   "execution_count": 14,
   "metadata": {},
   "outputs": [
    {
     "name": "stdout",
     "output_type": "stream",
     "text": [
      "+------+----+--------------------+\n",
      "|raceId|year|                name|\n",
      "+------+----+--------------------+\n",
      "|   801|1954|  Belgian Grand Prix|\n",
      "|   790|1956|   German Grand Prix|\n",
      "|   799|1954|Argentine Grand Prix|\n",
      "|   827|1951|  Belgian Grand Prix|\n",
      "|   783|1957|  Italian Grand Prix|\n",
      "|   765|1958|Argentine Grand Prix|\n",
      "+------+----+--------------------+\n",
      "\n"
     ]
    }
   ],
   "source": [
    "spark.sql(\"\"\"\n",
    "    SELECT r.raceId, r.year, r.name\n",
    "    FROM races r\n",
    "    JOIN (\n",
    "        SELECT raceId\n",
    "        FROM results\n",
    "        GROUP BY raceId\n",
    "        HAVING COUNT(DISTINCT constructorId) = 3\n",
    "    ) subquery ON r.raceId = subquery.raceId\n",
    "\"\"\").show()"
   ]
  },
  {
   "cell_type": "markdown",
   "metadata": {},
   "source": [
    "#### Melhor tempo de pitstop registrado, equipe que executou e piloto que estava no carro por temporada?"
   ]
  },
  {
   "cell_type": "code",
   "execution_count": 15,
   "metadata": {},
   "outputs": [
    {
     "name": "stdout",
     "output_type": "stream",
     "text": [
      "+--------+--------+---------+\n",
      "|duration|    team|driverRef|\n",
      "+--------+--------+---------+\n",
      "|  12.897|Williams|maldonado|\n",
      "+--------+--------+---------+\n",
      "\n"
     ]
    }
   ],
   "source": [
    "spark.sql(\"\"\"\n",
    "    SELECT pitStops.duration, constructors.name AS team, drivers.driverRef\n",
    "    FROM pitStops\n",
    "    JOIN (\n",
    "        SELECT raceId, MIN(duration) AS best_time\n",
    "        FROM pitStops\n",
    "        GROUP BY raceId\n",
    "    ) AS best_pitstop_times\n",
    "    ON pitStops.raceId = best_pitstop_times.raceId\n",
    "    AND pitStops.duration = best_pitstop_times.best_time\n",
    "    JOIN results ON pitStops.raceId = results.raceId\n",
    "        AND pitStops.driverId = results.driverId\n",
    "    JOIN races ON pitStops.raceId = races.raceId\n",
    "    JOIN constructors ON results.constructorId = constructors.constructorId\n",
    "    JOIN drivers ON pitStops.driverId = drivers.driverId\n",
    "    ORDER BY pitStops.duration\n",
    "    LIMIT 1\n",
    "\"\"\").show()"
   ]
  },
  {
   "cell_type": "markdown",
   "metadata": {},
   "source": [
    "#### Top-5 pilotos que mais vezes fizeram a pole position (primeiro lugar no qualifying e que ganharam a corrida)?"
   ]
  },
  {
   "cell_type": "code",
   "execution_count": 16,
   "metadata": {},
   "outputs": [
    {
     "name": "stdout",
     "output_type": "stream",
     "text": [
      "+------------------+--------------------+\n",
      "|         driverRef|total_poles_and_wins|\n",
      "+------------------+--------------------+\n",
      "|          hamilton|                  39|\n",
      "|            vettel|                  29|\n",
      "|michael_schumacher|                  24|\n",
      "|           rosberg|                  15|\n",
      "|            alonso|                  14|\n",
      "+------------------+--------------------+\n",
      "\n"
     ]
    }
   ],
   "source": [
    "spark.sql(\"\"\"\n",
    "    SELECT d.driverRef, COUNT(*) AS total_poles_and_wins\n",
    "    FROM qualifying q\n",
    "    JOIN races r ON q.raceId = r.raceId\n",
    "    JOIN drivers d ON q.driverId = d.driverId\n",
    "    JOIN results res ON res.raceId = q.raceId AND res.positionOrder = 1 AND res.driverId = q.driverId\n",
    "    WHERE q.position = 1\n",
    "    GROUP BY q.driverId, d.driverRef\n",
    "    ORDER BY total_poles_and_wins DESC\n",
    "    LIMIT 5\n",
    "    \"\"\").show()"
   ]
  },
  {
   "cell_type": "markdown",
   "metadata": {},
   "source": [
    "#### Top-5 pilotos que mais vezes se classificaram nas três primeiras posições do qualifying de forma consecutiva (sem intervalo de corridas) das últimas dez temporadas?"
   ]
  },
  {
   "cell_type": "code",
   "execution_count": 17,
   "metadata": {},
   "outputs": [
    {
     "name": "stdout",
     "output_type": "stream",
     "text": [
      "+--------+---------+----------------------------+\n",
      "|driverId|driverRef|total_consecutive_qualifying|\n",
      "+--------+---------+----------------------------+\n",
      "|       1| hamilton|                          58|\n",
      "|       3|  rosberg|                          54|\n",
      "|      20|   vettel|                          36|\n",
      "|     822|   bottas|                          15|\n",
      "|     817|ricciardo|                           6|\n",
      "+--------+---------+----------------------------+\n",
      "\n"
     ]
    }
   ],
   "source": [
    "spark.sql(\"\"\"\n",
    "    WITH qualifying_ranks AS (\n",
    "        SELECT q.driverId, q.raceId, q.position,\n",
    "            ROW_NUMBER() OVER (PARTITION BY q.driverId ORDER BY q.raceId) AS rank\n",
    "        FROM qualifying q\n",
    "        JOIN races r ON q.raceId = r.raceId\n",
    "        JOIN seasons s ON r.year = s.year\n",
    "        WHERE s.year >= YEAR(CURRENT_DATE()) - 10\n",
    "    ),\n",
    "    consecutive_qualifying AS (\n",
    "        SELECT qr.driverId, qr.raceId\n",
    "        FROM qualifying_ranks qr\n",
    "        JOIN qualifying_ranks qr_prev\n",
    "            ON qr.driverId = qr_prev.driverId\n",
    "            AND qr.rank = qr_prev.rank + 1\n",
    "            AND qr.raceId = qr_prev.raceId + 1\n",
    "            AND qr.position <= 3\n",
    "            AND qr_prev.position <= 3\n",
    "    )\n",
    "    SELECT cq.driverId, d.driverRef, COUNT(*) AS total_consecutive_qualifying\n",
    "    FROM consecutive_qualifying cq\n",
    "    JOIN drivers d ON cq.driverId = d.driverId\n",
    "    GROUP BY cq.driverId, d.driverRef\n",
    "    ORDER BY total_consecutive_qualifying DESC\n",
    "    LIMIT 5\n",
    "\"\"\").show()"
   ]
  },
  {
   "cell_type": "markdown",
   "metadata": {},
   "source": [
    "#### Top-5 pilotos que mais pontuaram na F1, daqueles que nunca subiram no pódio?"
   ]
  },
  {
   "cell_type": "code",
   "execution_count": 18,
   "metadata": {},
   "outputs": [
    {
     "name": "stdout",
     "output_type": "stream",
     "text": [
      "+--------+----------+------------+\n",
      "|driverId| driverRef|total_points|\n",
      "+--------+----------+------------+\n",
      "|     807|hulkenberg|       405.0|\n",
      "|      16|     sutil|       124.0|\n",
      "|     814|     resta|       121.0|\n",
      "|     832|     sainz|       118.0|\n",
      "|     839|      ocon|        87.0|\n",
      "+--------+----------+------------+\n",
      "\n"
     ]
    }
   ],
   "source": [
    "spark.sql(\"\"\"\n",
    "    WITH top_drivers AS (\n",
    "      SELECT driverId, SUM(points) AS total_points\n",
    "      FROM results\n",
    "      WHERE driverId NOT IN (\n",
    "        SELECT DISTINCT driverId\n",
    "        FROM results\n",
    "        WHERE position <= 3\n",
    "      )\n",
    "      GROUP BY driverId\n",
    "    )\n",
    "    SELECT td.driverId, d.driverRef, td.total_points\n",
    "    FROM top_drivers td\n",
    "    JOIN drivers d ON td.driverId = d.driverId\n",
    "    ORDER BY td.total_points DESC\n",
    "    LIMIT 5\n",
    "\"\"\").show()"
   ]
  },
  {
   "cell_type": "code",
   "execution_count": null,
   "metadata": {},
   "outputs": [],
   "source": []
  }
 ],
 "metadata": {
  "kernelspec": {
   "display_name": "Python 3",
   "language": "python",
   "name": "python3"
  },
  "language_info": {
   "codemirror_mode": {
    "name": "ipython",
    "version": 3
   },
   "file_extension": ".py",
   "mimetype": "text/x-python",
   "name": "python",
   "nbconvert_exporter": "python",
   "pygments_lexer": "ipython3",
   "version": "3.6.9"
  }
 },
 "nbformat": 4,
 "nbformat_minor": 2
}
