{
 "cells": [
  {
   "cell_type": "markdown",
   "id": "0c05c281",
   "metadata": {},
   "source": [
    "## Search Engine Example - 2\n",
    "\n",
    "#### Passo a Passo\n",
    "\n",
    "- Adicionar arquivo com texto corrido no Hadoop FS (extensão TXT)\n",
    "  - pode ser o arquivo `alice_in_wonderland.txt`\n",
    "- Adicionar arquivo com stop words (extensão TXT)\n",
    "  - [https://gist.github.com/sebleier/554280](https://gist.github.com/sebleier/554280)\n",
    "- Indexar sentenças do arquivo texto\n",
    "  - Leitura sentença a sentença\n",
    "  - Remoção das stop words\n",
    "  - Criar estrutura com palavras e quantidade de repetições\n",
    "- Transformar essa estrutura em um DataFrame\n",
    "- Criar uma tabela baseada no DataFrame\n",
    "- Consultar via PySpark SQL"
   ]
  },
  {
   "cell_type": "code",
   "execution_count": 1,
   "id": "29f75b2f",
   "metadata": {},
   "outputs": [],
   "source": [
    "import findspark\n",
    "findspark.init()\n",
    "from pyspark import SparkContext, SparkConf, SQLContext\n",
    "from pyspark.sql import SparkSession\n",
    "from pyspark.sql.functions import col, sum, avg, row_number, max, regexp_replace, trim, split, array_contains, lower\n",
    "from pyspark.sql.types import StructType, StructField, IntegerType, StringType\n",
    "from pyspark.sql.window import Window\n",
    "from pyspark.ml.feature import StopWordsRemover\n",
    "from pathlib import Path"
   ]
  },
  {
   "cell_type": "code",
   "execution_count": 2,
   "id": "c429d3f4",
   "metadata": {},
   "outputs": [],
   "source": [
    "conf = SparkConf().setAppName(\"search-engine-example-2\")\n",
    "sc = SparkContext(conf=conf)\n",
    "spark = SparkSession(sc)"
   ]
  },
  {
   "cell_type": "code",
   "execution_count": 3,
   "id": "c26776c1",
   "metadata": {},
   "outputs": [
    {
     "name": "stdout",
     "output_type": "stream",
     "text": [
      "CPU times: user 159 ms, sys: 52.2 ms, total: 212 ms\n",
      "Wall time: 4.9 s\n"
     ]
    }
   ],
   "source": [
    "%%time\n",
    "! hadoop fs -put ../datasets/alice_in_wonderland.txt"
   ]
  },
  {
   "cell_type": "code",
   "execution_count": 4,
   "id": "a16a40cd",
   "metadata": {},
   "outputs": [
    {
     "name": "stdout",
     "output_type": "stream",
     "text": [
      "Found 2 items\r\n",
      "drwxr-xr-x   - root supergroup          0 2023-03-31 23:14 hdfs://node-master:9000/user/root/.sparkStaging\r\n",
      "-rw-r--r--   2 root supergroup     152173 2023-03-31 23:15 hdfs://node-master:9000/user/root/alice_in_wonderland.txt\r\n"
     ]
    }
   ],
   "source": [
    "! hadoop fs -ls hdfs://node-master:9000/user/root"
   ]
  },
  {
   "cell_type": "markdown",
   "id": "c61e3372",
   "metadata": {},
   "source": [
    "### Auxiliary Functions"
   ]
  },
  {
   "cell_type": "code",
   "execution_count": 5,
   "id": "94b4a41f",
   "metadata": {},
   "outputs": [],
   "source": [
    "def shape(df):\n",
    "    return (df.count(), len(df.columns))"
   ]
  },
  {
   "cell_type": "markdown",
   "id": "9f75327d",
   "metadata": {},
   "source": [
    "### Reading txt file"
   ]
  },
  {
   "cell_type": "code",
   "execution_count": 6,
   "id": "8cd836d1",
   "metadata": {},
   "outputs": [],
   "source": [
    "dataset_path = \"hdfs://node-master:9000/user/root/alice_in_wonderland.txt\""
   ]
  },
  {
   "cell_type": "code",
   "execution_count": 7,
   "id": "c5aed7ac",
   "metadata": {},
   "outputs": [],
   "source": [
    "dfft_ = spark.read.format(\n",
    "    \"csv\"\n",
    ").option(\n",
    "    \"header\", \"false\"\n",
    ").schema(\n",
    "    StructType([StructField(\"full_text\", StringType(), True)])\n",
    ").load(\n",
    "    dataset_path\n",
    ")"
   ]
  },
  {
   "cell_type": "code",
   "execution_count": 8,
   "id": "7c735350",
   "metadata": {},
   "outputs": [
    {
     "data": {
      "text/plain": [
       "(2726, 1)"
      ]
     },
     "execution_count": 8,
     "metadata": {},
     "output_type": "execute_result"
    }
   ],
   "source": [
    "shape(dfft_)"
   ]
  },
  {
   "cell_type": "code",
   "execution_count": 9,
   "id": "7e72371e",
   "metadata": {},
   "outputs": [
    {
     "data": {
      "text/plain": [
       "[Row(full_text=\"Alice's Adventures in Wonderland\"),\n",
       " Row(full_text=\"                ALICE'S ADVENTURES IN WONDERLAND\"),\n",
       " Row(full_text='                          Lewis Carroll'),\n",
       " Row(full_text='               THE MILLENNIUM FULCRUM EDITION 3.0'),\n",
       " Row(full_text='                            CHAPTER I'),\n",
       " Row(full_text='                      Down the Rabbit-Hole'),\n",
       " Row(full_text='  Alice was beginning to get very tired of sitting by her sister'),\n",
       " Row(full_text='on the bank'),\n",
       " Row(full_text='peeped into the book her sister was reading'),\n",
       " Row(full_text='pictures or conversations in it'),\n",
       " Row(full_text=\"thought Alice `without pictures or conversation?'\"),\n",
       " Row(full_text='  So she was considering in her own mind (as well as she could'),\n",
       " Row(full_text='for the hot day made her feel very sleepy and stupid)'),\n",
       " Row(full_text='the pleasure of making a daisy-chain would be worth the trouble'),\n",
       " Row(full_text='of getting up and picking the daisies'),\n",
       " Row(full_text='Rabbit with pink eyes ran close by her.'),\n",
       " Row(full_text='  There was nothing so VERY remarkable in that; nor did Alice'),\n",
       " Row(full_text='think it so VERY much out of the way to hear the Rabbit say to'),\n",
       " Row(full_text='itself'),\n",
       " Row(full_text='it over afterwards')]"
      ]
     },
     "execution_count": 9,
     "metadata": {},
     "output_type": "execute_result"
    }
   ],
   "source": [
    "dfft_.head(20)"
   ]
  },
  {
   "cell_type": "code",
   "execution_count": 10,
   "id": "187c7f8f",
   "metadata": {},
   "outputs": [],
   "source": [
    "WINDOWS_SEP = \"\\r\\n\\r\\n\"\n",
    "UNIX_LIKE_SEP = \"\\n\\n\""
   ]
  },
  {
   "cell_type": "code",
   "execution_count": 11,
   "id": "acf644a5",
   "metadata": {},
   "outputs": [],
   "source": [
    "dfft = spark.read.text(\n",
    "    [dataset_path],\n",
    "    lineSep=WINDOWS_SEP\n",
    ")"
   ]
  },
  {
   "cell_type": "code",
   "execution_count": 12,
   "id": "e595f252",
   "metadata": {},
   "outputs": [
    {
     "data": {
      "text/plain": [
       "(842, 1)"
      ]
     },
     "execution_count": 12,
     "metadata": {},
     "output_type": "execute_result"
    }
   ],
   "source": [
    "shape(dfft)"
   ]
  },
  {
   "cell_type": "code",
   "execution_count": 13,
   "id": "e1488173",
   "metadata": {},
   "outputs": [
    {
     "name": "stdout",
     "output_type": "stream",
     "text": [
      "root\n",
      " |-- value: string (nullable = true)\n",
      "\n"
     ]
    }
   ],
   "source": [
    "dfft.printSchema()"
   ]
  },
  {
   "cell_type": "code",
   "execution_count": 14,
   "id": "36011563",
   "metadata": {
    "scrolled": false
   },
   "outputs": [
    {
     "data": {
      "text/plain": [
       "[Row(value=\"Alice's Adventures in Wonderland\"),\n",
       " Row(value=\"                ALICE'S ADVENTURES IN WONDERLAND\"),\n",
       " Row(value='                          Lewis Carroll'),\n",
       " Row(value='               THE MILLENNIUM FULCRUM EDITION 3.0'),\n",
       " Row(value=''),\n",
       " Row(value='\\r\\n                            CHAPTER I'),\n",
       " Row(value='                      Down the Rabbit-Hole'),\n",
       " Row(value=\"\\r\\n  Alice was beginning to get very tired of sitting by her sister\\r\\non the bank, and of having nothing to do:  once or twice she had\\r\\npeeped into the book her sister was reading, but it had no\\r\\npictures or conversations in it, `and what is the use of a book,'\\r\\nthought Alice `without pictures or conversation?'\"),\n",
       " Row(value='  So she was considering in her own mind (as well as she could,\\r\\nfor the hot day made her feel very sleepy and stupid), whether\\r\\nthe pleasure of making a daisy-chain would be worth the trouble\\r\\nof getting up and picking the daisies, when suddenly a White\\r\\nRabbit with pink eyes ran close by her.'),\n",
       " Row(value=\"  There was nothing so VERY remarkable in that; nor did Alice\\r\\nthink it so VERY much out of the way to hear the Rabbit say to\\r\\nitself, `Oh dear!  Oh dear!  I shall be late!'  (when she thought\\r\\nit over afterwards, it occurred to her that she ought to have\\r\\nwondered at this, but at the time it all seemed quite natural);\\r\\nbut when the Rabbit actually TOOK A WATCH OUT OF ITS WAISTCOAT-\\r\\nPOCKET, and looked at it, and then hurried on, Alice started to\\r\\nher feet, for it flashed across her mind that she had never\\r\\nbefore seen a rabbit with either a waistcoat-pocket, or a watch to\\r\\ntake out of it, and burning with curiosity, she ran across the\\r\\nfield after it, and fortunately was just in time to see it pop\\r\\ndown a large rabbit-hole under the hedge.\"),\n",
       " Row(value='  In another moment down went Alice after it, never once\\r\\nconsidering how in the world she was to get out again.'),\n",
       " Row(value='  The rabbit-hole went straight on like a tunnel for some way,\\r\\nand then dipped suddenly down, so suddenly that Alice had not a\\r\\nmoment to think about stopping herself before she found herself\\r\\nfalling down a very deep well.'),\n",
       " Row(value=\"  Either the well was very deep, or she fell very slowly, for she\\r\\nhad plenty of time as she went down to look about her and to\\r\\nwonder what was going to happen next.  First, she tried to look\\r\\ndown and make out what she was coming to, but it was too dark to\\r\\nsee anything; then she looked at the sides of the well, and\\r\\nnoticed that they were filled with cupboards and book-shelves;\\r\\nhere and there she saw maps and pictures hung upon pegs.  She\\r\\ntook down a jar from one of the shelves as she passed; it was\\r\\nlabelled `ORANGE MARMALADE', but to her great disappointment it\\r\\nwas empty:  she did not like to drop the jar for fear of killing\\r\\nsomebody, so managed to put it into one of the cupboards as she\\r\\nfell past it.\"),\n",
       " Row(value=\"  `Well!' thought Alice to herself, `after such a fall as this, I\\r\\nshall think nothing of tumbling down stairs!  How brave they'll\\r\\nall think me at home!  Why, I wouldn't say anything about it,\\r\\neven if I fell off the top of the house!' (Which was very likely\\r\\ntrue.)\"),\n",
       " Row(value=\"  Down, down, down.  Would the fall NEVER come to an end!  `I\\r\\nwonder how many miles I've fallen by this time?' she said aloud.\\r\\n`I must be getting somewhere near the centre of the earth.  Let\\r\\nme see:  that would be four thousand miles down, I think--' (for,\\r\\nyou see, Alice had learnt several things of this sort in her\\r\\nlessons in the schoolroom, and though this was not a VERY good\\r\\nopportunity for showing off her knowledge, as there was no one to\\r\\nlisten to her, still it was good practice to say it over) `--yes,\\r\\nthat's about the right distance--but then I wonder what Latitude\\r\\nor Longitude I've got to?'  (Alice had no idea what Latitude was,\\r\\nor Longitude either, but thought they were nice grand words to\\r\\nsay.)\"),\n",
       " Row(value=\"  Presently she began again.  `I wonder if I shall fall right\\r\\nTHROUGH the earth!  How funny it'll seem to come out among the\\r\\npeople that walk with their heads downward!  The Antipathies, I\\r\\nthink--' (she was rather glad there WAS no one listening, this\\r\\ntime, as it didn't sound at all the right word) `--but I shall\\r\\nhave to ask them what the name of the country is, you know.\\r\\nPlease, Ma'am, is this New Zealand or Australia?' (and she tried\\r\\nto curtsey as she spoke--fancy CURTSEYING as you're falling\\r\\nthrough the air!  Do you think you could manage it?)  `And what\\r\\nan ignorant little girl she'll think me for asking!  No, it'll\\r\\nnever do to ask:  perhaps I shall see it written up somewhere.'\"),\n",
       " Row(value=\"  Down, down, down.  There was nothing else to do, so Alice soon\\r\\nbegan talking again.  `Dinah'll miss me very much to-night, I\\r\\nshould think!'  (Dinah was the cat.)  `I hope they'll remember\\r\\nher saucer of milk at tea-time.  Dinah my dear!  I wish you were\\r\\ndown here with me!  There are no mice in the air, I'm afraid, but\\r\\nyou might catch a bat, and that's very like a mouse, you know.\\r\\nBut do cats eat bats, I wonder?'  And here Alice began to get\\r\\nrather sleepy, and went on saying to herself, in a dreamy sort of\\r\\nway, `Do cats eat bats?  Do cats eat bats?' and sometimes, `Do\\r\\nbats eat cats?' for, you see, as she couldn't answer either\\r\\nquestion, it didn't much matter which way she put it.  She felt\\r\\nthat she was dozing off, and had just begun to dream that she\\r\\nwas walking hand in hand with Dinah, and saying to her very\\r\\nearnestly, `Now, Dinah, tell me the truth:  did you ever eat a\\r\\nbat?' when suddenly, thump! thump! down she came upon a heap of\\r\\nsticks and dry leaves, and the fall was over.\"),\n",
       " Row(value=\"  Alice was not a bit hurt, and she jumped up on to her feet in a\\r\\nmoment:  she looked up, but it was all dark overhead; before her\\r\\nwas another long passage, and the White Rabbit was still in\\r\\nsight, hurrying down it.  There was not a moment to be lost:\\r\\naway went Alice like the wind, and was just in time to hear it\\r\\nsay, as it turned a corner, `Oh my ears and whiskers, how late\\r\\nit's getting!'  She was close behind it when she turned the\\r\\ncorner, but the Rabbit was no longer to be seen:  she found\\r\\nherself in a long, low hall, which was lit up by a row of lamps\\r\\nhanging from the roof.\"),\n",
       " Row(value='  There were doors all round the hall, but they were all locked;\\r\\nand when Alice had been all the way down one side and up the\\r\\nother, trying every door, she walked sadly down the middle,\\r\\nwondering how she was ever to get out again.'),\n",
       " Row(value=\"  Suddenly she came upon a little three-legged table, all made of\\r\\nsolid glass; there was nothing on it except a tiny golden key,\\r\\nand Alice's first thought was that it might belong to one of the\\r\\ndoors of the hall; but, alas! either the locks were too large, or\\r\\nthe key was too small, but at any rate it would not open any of\\r\\nthem.  However, on the second time round, she came upon a low\\r\\ncurtain she had not noticed before, and behind it was a little\\r\\ndoor about fifteen inches high:  she tried the little golden key\\r\\nin the lock, and to her great delight it fitted!\")]"
      ]
     },
     "execution_count": 14,
     "metadata": {},
     "output_type": "execute_result"
    }
   ],
   "source": [
    "dfft.head(20)"
   ]
  },
  {
   "cell_type": "markdown",
   "id": "81ccf945",
   "metadata": {},
   "source": [
    "### Data Wrangling"
   ]
  },
  {
   "cell_type": "code",
   "execution_count": 17,
   "id": "c48c3ff1",
   "metadata": {},
   "outputs": [],
   "source": [
    "dfft_s1 = dfft.withColumn(\n",
    "    \"value_s1\", regexp_replace(col(\"value\"), \"[\\r\\n\\`\\'\\;\\,]\", \" \")\n",
    ")"
   ]
  },
  {
   "cell_type": "code",
   "execution_count": 18,
   "id": "f7df76db",
   "metadata": {},
   "outputs": [
    {
     "data": {
      "text/plain": [
       "'    Alice was beginning to get very tired of sitting by her sister  on the bank  and of having nothing to do:  once or twice she had  peeped into the book her sister was reading  but it had no  pictures or conversations in it   and what is the use of a book    thought Alice  without pictures or conversation? '"
      ]
     },
     "execution_count": 18,
     "metadata": {},
     "output_type": "execute_result"
    }
   ],
   "source": [
    "dfft_s1.collect()[7][\"value_s1\"]"
   ]
  },
  {
   "cell_type": "code",
   "execution_count": 19,
   "id": "7a572f89",
   "metadata": {},
   "outputs": [],
   "source": [
    "dfft_s2 = dfft_s1.withColumn(\n",
    "    \"value_s2\", regexp_replace(col(\"value_s1\"), \"[^A-z0-9\\ ]\", \"\")\n",
    ")"
   ]
  },
  {
   "cell_type": "code",
   "execution_count": 20,
   "id": "77b9c1ae",
   "metadata": {},
   "outputs": [
    {
     "data": {
      "text/plain": [
       "'    Alice was beginning to get very tired of sitting by her sister  on the bank  and of having nothing to do  once or twice she had  peeped into the book her sister was reading  but it had no  pictures or conversations in it   and what is the use of a book    thought Alice  without pictures or conversation '"
      ]
     },
     "execution_count": 20,
     "metadata": {},
     "output_type": "execute_result"
    }
   ],
   "source": [
    "dfft_s2.collect()[7][\"value_s2\"]"
   ]
  },
  {
   "cell_type": "code",
   "execution_count": 21,
   "id": "795ac366",
   "metadata": {},
   "outputs": [],
   "source": [
    "dfft_s3 = dfft_s2.select(\n",
    "    \"value\",\n",
    "    \"value_s1\",\n",
    "    \"value_s2\",\n",
    "    trim(col(\"value_s2\")).alias(\"value_s3\")\n",
    ")"
   ]
  },
  {
   "cell_type": "code",
   "execution_count": 22,
   "id": "100823e2",
   "metadata": {},
   "outputs": [
    {
     "data": {
      "text/plain": [
       "'Alice was beginning to get very tired of sitting by her sister  on the bank  and of having nothing to do  once or twice she had  peeped into the book her sister was reading  but it had no  pictures or conversations in it   and what is the use of a book    thought Alice  without pictures or conversation'"
      ]
     },
     "execution_count": 22,
     "metadata": {},
     "output_type": "execute_result"
    }
   ],
   "source": [
    "dfft_s3.collect()[7][\"value_s3\"]"
   ]
  },
  {
   "cell_type": "code",
   "execution_count": 23,
   "id": "48c92dff",
   "metadata": {},
   "outputs": [],
   "source": [
    "dfft_s4 = dfft_s3.withColumn(\n",
    "    \"value_s4\", regexp_replace(col(\"value_s3\"), \"\\s+\", \" \")\n",
    ")"
   ]
  },
  {
   "cell_type": "code",
   "execution_count": 25,
   "id": "af03484c",
   "metadata": {},
   "outputs": [
    {
     "data": {
      "text/plain": [
       "'Alice was beginning to get very tired of sitting by her sister on the bank and of having nothing to do once or twice she had peeped into the book her sister was reading but it had no pictures or conversations in it and what is the use of a book thought Alice without pictures or conversation'"
      ]
     },
     "execution_count": 25,
     "metadata": {},
     "output_type": "execute_result"
    }
   ],
   "source": [
    "dfft_s4.collect()[7][\"value_s4\"]"
   ]
  },
  {
   "cell_type": "code",
   "execution_count": 26,
   "id": "fe8c4966",
   "metadata": {},
   "outputs": [],
   "source": [
    "dfftc = dfft_s4.withColumn(\"paragraph\", col(\"value_s4\")).select(\"paragraph\")"
   ]
  },
  {
   "cell_type": "code",
   "execution_count": 27,
   "id": "8f4e12c3",
   "metadata": {},
   "outputs": [
    {
     "name": "stdout",
     "output_type": "stream",
     "text": [
      "+--------------------+\n",
      "|           paragraph|\n",
      "+--------------------+\n",
      "|Alice s Adventure...|\n",
      "|ALICE S ADVENTURE...|\n",
      "|       Lewis Carroll|\n",
      "|THE MILLENNIUM FU...|\n",
      "|                    |\n",
      "|           CHAPTER I|\n",
      "| Down the RabbitHole|\n",
      "|Alice was beginni...|\n",
      "|So she was consid...|\n",
      "|There was nothing...|\n",
      "|In another moment...|\n",
      "|The rabbithole we...|\n",
      "|Either the well w...|\n",
      "|Well thought Alic...|\n",
      "|Down down down Wo...|\n",
      "|Presently she beg...|\n",
      "|Down down down Th...|\n",
      "|Alice was not a b...|\n",
      "|There were doors ...|\n",
      "|Suddenly she came...|\n",
      "+--------------------+\n",
      "only showing top 20 rows\n",
      "\n"
     ]
    }
   ],
   "source": [
    "dfftc.show()"
   ]
  },
  {
   "cell_type": "markdown",
   "id": "53bbb8e1",
   "metadata": {},
   "source": [
    "### Removing Stop Words"
   ]
  },
  {
   "cell_type": "code",
   "execution_count": 28,
   "id": "00e143d1",
   "metadata": {},
   "outputs": [],
   "source": [
    "dfftc_s1 = dfftc.withColumn(\"words\", split(lower(col(\"paragraph\")), \" \"))"
   ]
  },
  {
   "cell_type": "code",
   "execution_count": 26,
   "id": "b6e1ac1d",
   "metadata": {},
   "outputs": [
    {
     "name": "stdout",
     "output_type": "stream",
     "text": [
      "root\n",
      " |-- paragraph: string (nullable = true)\n",
      " |-- words: array (nullable = true)\n",
      " |    |-- element: string (containsNull = true)\n",
      "\n"
     ]
    }
   ],
   "source": [
    "dfftc_s1.printSchema()"
   ]
  },
  {
   "cell_type": "code",
   "execution_count": 27,
   "id": "cc0ea894",
   "metadata": {},
   "outputs": [
    {
     "data": {
      "text/plain": [
       "[Row(paragraph='Alice s Adventures in Wonderland', words=['alice', 's', 'adventures', 'in', 'wonderland']),\n",
       " Row(paragraph='ALICE S ADVENTURES IN WONDERLAND', words=['alice', 's', 'adventures', 'in', 'wonderland']),\n",
       " Row(paragraph='Lewis Carroll', words=['lewis', 'carroll']),\n",
       " Row(paragraph='THE MILLENNIUM FULCRUM EDITION 30', words=['the', 'millennium', 'fulcrum', 'edition', '30']),\n",
       " Row(paragraph='', words=['']),\n",
       " Row(paragraph='CHAPTER I', words=['chapter', 'i']),\n",
       " Row(paragraph='Down the RabbitHole', words=['down', 'the', 'rabbithole']),\n",
       " Row(paragraph='Alice was beginning to get very tired of sitting by her sister on the bank and of having nothing to do once or twice she had peeped into the book her sister was reading but it had no pictures or conversations in it and what is the use of a book thought Alice without pictures or conversation', words=['alice', 'was', 'beginning', 'to', 'get', 'very', 'tired', 'of', 'sitting', 'by', 'her', 'sister', 'on', 'the', 'bank', 'and', 'of', 'having', 'nothing', 'to', 'do', 'once', 'or', 'twice', 'she', 'had', 'peeped', 'into', 'the', 'book', 'her', 'sister', 'was', 'reading', 'but', 'it', 'had', 'no', 'pictures', 'or', 'conversations', 'in', 'it', 'and', 'what', 'is', 'the', 'use', 'of', 'a', 'book', 'thought', 'alice', 'without', 'pictures', 'or', 'conversation']),\n",
       " Row(paragraph='So she was considering in her own mind as well as she could for the hot day made her feel very sleepy and stupid whether the pleasure of making a daisychain would be worth the trouble of getting up and picking the daisies when suddenly a White Rabbit with pink eyes ran close by her', words=['so', 'she', 'was', 'considering', 'in', 'her', 'own', 'mind', 'as', 'well', 'as', 'she', 'could', 'for', 'the', 'hot', 'day', 'made', 'her', 'feel', 'very', 'sleepy', 'and', 'stupid', 'whether', 'the', 'pleasure', 'of', 'making', 'a', 'daisychain', 'would', 'be', 'worth', 'the', 'trouble', 'of', 'getting', 'up', 'and', 'picking', 'the', 'daisies', 'when', 'suddenly', 'a', 'white', 'rabbit', 'with', 'pink', 'eyes', 'ran', 'close', 'by', 'her']),\n",
       " Row(paragraph='There was nothing so VERY remarkable in that nor did Alice think it so VERY much out of the way to hear the Rabbit say to itself Oh dear Oh dear I shall be late when she thought it over afterwards it occurred to her that she ought to have wondered at this but at the time it all seemed quite natural but when the Rabbit actually TOOK A WATCH OUT OF ITS WAISTCOAT POCKET and looked at it and then hurried on Alice started to her feet for it flashed across her mind that she had never before seen a rabbit with either a waistcoatpocket or a watch to take out of it and burning with curiosity she ran across the field after it and fortunately was just in time to see it pop down a large rabbithole under the hedge', words=['there', 'was', 'nothing', 'so', 'very', 'remarkable', 'in', 'that', 'nor', 'did', 'alice', 'think', 'it', 'so', 'very', 'much', 'out', 'of', 'the', 'way', 'to', 'hear', 'the', 'rabbit', 'say', 'to', 'itself', 'oh', 'dear', 'oh', 'dear', 'i', 'shall', 'be', 'late', 'when', 'she', 'thought', 'it', 'over', 'afterwards', 'it', 'occurred', 'to', 'her', 'that', 'she', 'ought', 'to', 'have', 'wondered', 'at', 'this', 'but', 'at', 'the', 'time', 'it', 'all', 'seemed', 'quite', 'natural', 'but', 'when', 'the', 'rabbit', 'actually', 'took', 'a', 'watch', 'out', 'of', 'its', 'waistcoat', 'pocket', 'and', 'looked', 'at', 'it', 'and', 'then', 'hurried', 'on', 'alice', 'started', 'to', 'her', 'feet', 'for', 'it', 'flashed', 'across', 'her', 'mind', 'that', 'she', 'had', 'never', 'before', 'seen', 'a', 'rabbit', 'with', 'either', 'a', 'waistcoatpocket', 'or', 'a', 'watch', 'to', 'take', 'out', 'of', 'it', 'and', 'burning', 'with', 'curiosity', 'she', 'ran', 'across', 'the', 'field', 'after', 'it', 'and', 'fortunately', 'was', 'just', 'in', 'time', 'to', 'see', 'it', 'pop', 'down', 'a', 'large', 'rabbithole', 'under', 'the', 'hedge'])]"
      ]
     },
     "execution_count": 27,
     "metadata": {},
     "output_type": "execute_result"
    }
   ],
   "source": [
    "dfftc_s1.head(10)"
   ]
  },
  {
   "cell_type": "code",
   "execution_count": 29,
   "id": "62801cb2",
   "metadata": {},
   "outputs": [],
   "source": [
    "remover = StopWordsRemover(inputCol=\"words\", outputCol=\"keys\")"
   ]
  },
  {
   "cell_type": "code",
   "execution_count": 31,
   "id": "f0070430",
   "metadata": {},
   "outputs": [],
   "source": [
    "dfftc_s2 = remover.transform(dfftc_s1)"
   ]
  },
  {
   "cell_type": "code",
   "execution_count": 32,
   "id": "da410d80",
   "metadata": {},
   "outputs": [
    {
     "data": {
      "text/plain": [
       "Row(paragraph='Alice s Adventures in Wonderland', words=['alice', 's', 'adventures', 'in', 'wonderland'], keys=['alice', 'adventures', 'wonderland'])"
      ]
     },
     "execution_count": 32,
     "metadata": {},
     "output_type": "execute_result"
    }
   ],
   "source": [
    "dfftc_s2.head()"
   ]
  },
  {
   "cell_type": "code",
   "execution_count": 34,
   "id": "822da824",
   "metadata": {
    "scrolled": true
   },
   "outputs": [
    {
     "data": {
      "text/plain": [
       "Row(paragraph='Alice was beginning to get very tired of sitting by her sister on the bank and of having nothing to do once or twice she had peeped into the book her sister was reading but it had no pictures or conversations in it and what is the use of a book thought Alice without pictures or conversation', words=['alice', 'was', 'beginning', 'to', 'get', 'very', 'tired', 'of', 'sitting', 'by', 'her', 'sister', 'on', 'the', 'bank', 'and', 'of', 'having', 'nothing', 'to', 'do', 'once', 'or', 'twice', 'she', 'had', 'peeped', 'into', 'the', 'book', 'her', 'sister', 'was', 'reading', 'but', 'it', 'had', 'no', 'pictures', 'or', 'conversations', 'in', 'it', 'and', 'what', 'is', 'the', 'use', 'of', 'a', 'book', 'thought', 'alice', 'without', 'pictures', 'or', 'conversation'], keys=['alice', 'beginning', 'get', 'tired', 'sitting', 'sister', 'bank', 'nothing', 'twice', 'peeped', 'book', 'sister', 'reading', 'pictures', 'conversations', 'use', 'book', 'thought', 'alice', 'without', 'pictures', 'conversation'])"
      ]
     },
     "execution_count": 34,
     "metadata": {},
     "output_type": "execute_result"
    }
   ],
   "source": [
    "dfftc_s2.collect()[7]"
   ]
  },
  {
   "cell_type": "markdown",
   "id": "75f63ca0",
   "metadata": {},
   "source": [
    "### Registering search table"
   ]
  },
  {
   "cell_type": "code",
   "execution_count": 41,
   "id": "1455c9a2",
   "metadata": {},
   "outputs": [],
   "source": [
    "dff = dfftc_s2.select(\n",
    "    \"keys\", \"paragraph\"\n",
    ")"
   ]
  },
  {
   "cell_type": "code",
   "execution_count": 42,
   "id": "8bad06f5",
   "metadata": {},
   "outputs": [
    {
     "name": "stdout",
     "output_type": "stream",
     "text": [
      "+--------------------+--------------------+\n",
      "|                keys|           paragraph|\n",
      "+--------------------+--------------------+\n",
      "|[alice, adventure...|Alice s Adventure...|\n",
      "|[alice, adventure...|ALICE S ADVENTURE...|\n",
      "|    [lewis, carroll]|       Lewis Carroll|\n",
      "|[millennium, fulc...|THE MILLENNIUM FU...|\n",
      "|                  []|                    |\n",
      "|           [chapter]|           CHAPTER I|\n",
      "|        [rabbithole]| Down the RabbitHole|\n",
      "|[alice, beginning...|Alice was beginni...|\n",
      "|[considering, min...|So she was consid...|\n",
      "|[nothing, remarka...|There was nothing...|\n",
      "|[another, moment,...|In another moment...|\n",
      "|[rabbithole, went...|The rabbithole we...|\n",
      "|[either, well, de...|Either the well w...|\n",
      "|[well, thought, a...|Well thought Alic...|\n",
      "|[fall, never, com...|Down down down Wo...|\n",
      "|[presently, began...|Presently she beg...|\n",
      "|[nothing, else, a...|Down down down Th...|\n",
      "|[alice, bit, hurt...|Alice was not a b...|\n",
      "|[doors, round, ha...|There were doors ...|\n",
      "|[suddenly, came, ...|Suddenly she came...|\n",
      "+--------------------+--------------------+\n",
      "only showing top 20 rows\n",
      "\n"
     ]
    }
   ],
   "source": [
    "dff.show()"
   ]
  },
  {
   "cell_type": "code",
   "execution_count": 43,
   "id": "a260b3f4",
   "metadata": {},
   "outputs": [],
   "source": [
    "dff.registerTempTable(\"finder\")"
   ]
  },
  {
   "cell_type": "code",
   "execution_count": 61,
   "id": "4fdab5d3",
   "metadata": {},
   "outputs": [],
   "source": [
    "kws = \"door\""
   ]
  },
  {
   "cell_type": "code",
   "execution_count": 62,
   "id": "4cf9b9b6",
   "metadata": {},
   "outputs": [],
   "source": [
    "result = spark.sql(f\"\"\"\n",
    "select *\n",
    "from finder\n",
    "where array_contains(keys, lower(\"{kws}\"))\n",
    "\"\"\")"
   ]
  },
  {
   "cell_type": "code",
   "execution_count": 63,
   "id": "355e6889",
   "metadata": {},
   "outputs": [
    {
     "data": {
      "text/plain": [
       "27"
      ]
     },
     "execution_count": 63,
     "metadata": {},
     "output_type": "execute_result"
    }
   ],
   "source": [
    "result.count()"
   ]
  },
  {
   "cell_type": "code",
   "execution_count": 64,
   "id": "6f10c35d",
   "metadata": {},
   "outputs": [
    {
     "name": "stdout",
     "output_type": "stream",
     "text": [
      "+--------------------+--------------------+\n",
      "|                keys|           paragraph|\n",
      "+--------------------+--------------------+\n",
      "|[doors, round, ha...|There were doors ...|\n",
      "|[suddenly, came, ...|Suddenly she came...|\n",
      "|[alice, opened, d...|Alice opened the ...|\n",
      "|[seemed, use, wai...|There seemed to b...|\n",
      "|[indeed, ten, inc...|And so it was ind...|\n",
      "|[finding, nothing...|After a while fin...|\n",
      "|[soon, eye, fell,...|Soon her eye fell...|\n",
      "|[head, struck, ro...|Just then her hea...|\n",
      "|[narrow, escape, ...|That WAS a narrow...|\n",
      "|[white, rabbit, t...|It was the White ...|\n",
      "+--------------------+--------------------+\n",
      "only showing top 10 rows\n",
      "\n"
     ]
    }
   ],
   "source": [
    "result.show(10)"
   ]
  },
  {
   "cell_type": "markdown",
   "id": "4f4ee119",
   "metadata": {},
   "source": [
    "### Calculating score"
   ]
  },
  {
   "cell_type": "code",
   "execution_count": 91,
   "id": "496139e2",
   "metadata": {},
   "outputs": [],
   "source": [
    "multi_kws = \"alice rabbit door\""
   ]
  },
  {
   "cell_type": "markdown",
   "id": "8e275aa6",
   "metadata": {},
   "source": [
    "#### Jaccard Similarity"
   ]
  },
  {
   "cell_type": "code",
   "execution_count": 92,
   "id": "7900b514",
   "metadata": {},
   "outputs": [],
   "source": [
    "score = spark.sql(f\"\"\"\n",
    "select *, size(intersection_)/size(union_) score\n",
    "from (\n",
    "    select *,\n",
    "           array_intersect(keys, split(lower(\"{multi_kws}\"), \" \")) intersection_,\n",
    "           array_union(keys, split(lower(\"{multi_kws}\"), \" \")) union_\n",
    "    from finder\n",
    "    where size(array_intersect(keys, split(lower(\"{multi_kws}\"), \" \"))) > 0\n",
    ") tmp\n",
    "order by score desc\n",
    "limit 10\n",
    "\"\"\")"
   ]
  },
  {
   "cell_type": "markdown",
   "id": "29d0c4ec",
   "metadata": {},
   "source": [
    "- uma palavra: 264 ms\n",
    "- quatro palavras: 326 ms\n",
    "- dez palavras: 314 ms"
   ]
  },
  {
   "cell_type": "code",
   "execution_count": 93,
   "id": "03c656c9",
   "metadata": {},
   "outputs": [
    {
     "name": "stdout",
     "output_type": "stream",
     "text": [
      "+--------------------+--------------------+-------------+--------------------+------------------+\n",
      "|                keys|           paragraph|intersection_|              union_|             score|\n",
      "+--------------------+--------------------+-------------+--------------------+------------------+\n",
      "|[alice, went, tim...|Alice went timidl...|[alice, door]|[alice, went, tim...|0.3333333333333333|\n",
      "|       [said, alice]|But what am I to ...|      [alice]|[said, alice, rab...|              0.25|\n",
      "|     [alice, silent]|    Alice was silent|      [alice]|[alice, silent, r...|              0.25|\n",
      "|       [said, alice]| What for said Alice|      [alice]|[said, alice, rab...|              0.25|\n",
      "|   [inquired, alice]|What was that inq...|      [alice]|[inquired, alice,...|              0.25|\n",
      "|   [alice, evidence]|    Alice s Evidence|      [alice]|[alice, evidence,...|              0.25|\n",
      "|[said, alice, duc...|Very said Alice w...|      [alice]|[said, alice, duc...|               0.2|\n",
      "|[alice, adventure...|Alice s Adventure...|      [alice]|[alice, adventure...|               0.2|\n",
      "|  [fun, said, alice]|What IS the fun s...|      [alice]|[fun, said, alice...|               0.2|\n",
      "|[nothing, said, a...|  Nothing said Alice|      [alice]|[nothing, said, a...|               0.2|\n",
      "+--------------------+--------------------+-------------+--------------------+------------------+\n",
      "\n",
      "CPU times: user 1.93 ms, sys: 712 µs, total: 2.64 ms\n",
      "Wall time: 276 ms\n"
     ]
    }
   ],
   "source": [
    "%%time\n",
    "score.show()"
   ]
  },
  {
   "cell_type": "markdown",
   "id": "583f1895",
   "metadata": {},
   "source": [
    "#### Cosine Similarity"
   ]
  },
  {
   "cell_type": "code",
   "execution_count": 43,
   "id": "f5bfa368",
   "metadata": {},
   "outputs": [],
   "source": [
    "def cossim(v1, v2):\n",
    "    v = v2.map(lambda elem: 1 if array_contains(v1, elem) else 0)\n",
    "    "
   ]
  },
  {
   "cell_type": "markdown",
   "id": "a0a6e032",
   "metadata": {},
   "source": [
    "links:\n",
    "- [spark-sql-array-funcs](https://kontext.tech/article/587/spark-sql-array-functions)\n",
    "- [spark-map-syntax](https://sparkbyexamples.com/pyspark/pyspark-map-transformation/)"
   ]
  }
 ],
 "metadata": {
  "kernelspec": {
   "display_name": "Python 3",
   "language": "python",
   "name": "python3"
  },
  "language_info": {
   "codemirror_mode": {
    "name": "ipython",
    "version": 3
   },
   "file_extension": ".py",
   "mimetype": "text/x-python",
   "name": "python",
   "nbconvert_exporter": "python",
   "pygments_lexer": "ipython3",
   "version": "3.6.9"
  }
 },
 "nbformat": 4,
 "nbformat_minor": 5
}
