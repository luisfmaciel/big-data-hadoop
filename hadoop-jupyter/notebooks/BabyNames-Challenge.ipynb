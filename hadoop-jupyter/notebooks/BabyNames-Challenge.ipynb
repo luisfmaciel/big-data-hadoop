{
 "cells": [
  {
   "cell_type": "markdown",
   "id": "0c05c281",
   "metadata": {},
   "source": [
    "## Baby Names Challenge (1910 - 2021)\n",
    "\n",
    "#### Perguntas\n",
    "\n",
    "1. Qual o nome masculino mais popular na Califórnia em todos os tempos?\n",
    "\n",
    "2. Qual o nome mais popular e a quantidade de registros por estado?\n",
    "\n",
    "3. Plotar um gráfico com a evolução de nascimento de meninos e meninas em todo os EUA.\n",
    "\n",
    "#### Estrutura Arquivo\n",
    "\n",
    "Campos separados por vírgula:\n",
    "  - Estado (2 dígitos)\n",
    "  - Sexo (M = Masculino / F = Feminino)\n",
    "  - Ano de Nascimento (4 dígitos)\n",
    "  - Nome (de 2 a 15 caracteres)\n",
    "  - Número de ocorrências"
   ]
  },
  {
   "cell_type": "code",
   "execution_count": 31,
   "id": "29f75b2f",
   "metadata": {},
   "outputs": [],
   "source": [
    "import findspark\n",
    "findspark.init()\n",
    "from pyspark import SparkContext, SparkConf, SQLContext\n",
    "from pyspark.sql import SparkSession\n",
    "from pyspark.sql.functions import col, sum, avg, row_number, max\n",
    "from pyspark.sql.types import StructType, StructField, IntegerType, StringType\n",
    "from pyspark.sql.window import Window\n",
    "from pathlib import Path"
   ]
  },
  {
   "cell_type": "code",
   "execution_count": 2,
   "id": "c429d3f4",
   "metadata": {},
   "outputs": [],
   "source": [
    "conf = SparkConf().setAppName(\"baby-names-challenge\")\n",
    "sc = SparkContext(conf=conf)\n",
    "spark = SparkSession(sc)"
   ]
  },
  {
   "cell_type": "code",
   "execution_count": 3,
   "id": "13f09492",
   "metadata": {},
   "outputs": [],
   "source": [
    "def shape(df):\n",
    "    return (df.count(), len(df.columns))"
   ]
  },
  {
   "cell_type": "code",
   "execution_count": 4,
   "id": "c26776c1",
   "metadata": {},
   "outputs": [
    {
     "name": "stdout",
     "output_type": "stream",
     "text": [
      "CPU times: user 594 ms, sys: 257 ms, total: 851 ms\n",
      "Wall time: 22.4 s\n"
     ]
    }
   ],
   "source": [
    "%%time\n",
    "! hadoop fs -put ../datasets/baby-names"
   ]
  },
  {
   "cell_type": "code",
   "execution_count": 5,
   "id": "a16a40cd",
   "metadata": {},
   "outputs": [
    {
     "name": "stdout",
     "output_type": "stream",
     "text": [
      "Found 2 items\r\n",
      "drwxr-xr-x   - root supergroup          0 2023-03-20 23:17 hdfs://node-master:9000/user/root/.sparkStaging\r\n",
      "drwxr-xr-x   - root supergroup          0 2023-03-20 23:18 hdfs://node-master:9000/user/root/baby-names\r\n"
     ]
    }
   ],
   "source": [
    "! hadoop fs -ls hdfs://node-master:9000/user/root"
   ]
  },
  {
   "cell_type": "code",
   "execution_count": 6,
   "id": "1b3cb8ef",
   "metadata": {},
   "outputs": [
    {
     "name": "stdout",
     "output_type": "stream",
     "text": [
      "Found 52 items\r\n",
      "-rw-r--r--   2 root supergroup     604325 2023-03-20 23:18 hdfs://node-master:9000/user/root/baby-names/AK.TXT\r\n",
      "-rw-r--r--   2 root supergroup    2867454 2023-03-20 23:18 hdfs://node-master:9000/user/root/baby-names/AL.TXT\r\n",
      "-rw-r--r--   2 root supergroup    2153187 2023-03-20 23:18 hdfs://node-master:9000/user/root/baby-names/AR.TXT\r\n",
      "-rw-r--r--   2 root supergroup    2511859 2023-03-20 23:18 hdfs://node-master:9000/user/root/baby-names/AZ.TXT\r\n",
      "-rw-r--r--   2 root supergroup    8299662 2023-03-20 23:18 hdfs://node-master:9000/user/root/baby-names/CA.TXT\r\n",
      "-rw-r--r--   2 root supergroup    2314618 2023-03-20 23:18 hdfs://node-master:9000/user/root/baby-names/CO.TXT\r\n",
      "-rw-r--r--   2 root supergroup    1753403 2023-03-20 23:18 hdfs://node-master:9000/user/root/baby-names/CT.TXT\r\n",
      "-rw-r--r--   2 root supergroup    1175394 2023-03-20 23:18 hdfs://node-master:9000/user/root/baby-names/DC.TXT\r\n",
      "-rw-r--r--   2 root supergroup     690194 2023-03-20 23:18 hdfs://node-master:9000/user/root/baby-names/DE.TXT\r\n",
      "-rw-r--r--   2 root supergroup    4508411 2023-03-20 23:18 hdfs://node-master:9000/user/root/baby-names/FL.TXT\r\n",
      "-rw-r--r--   2 root supergroup    3946784 2023-03-20 23:18 hdfs://node-master:9000/user/root/baby-names/GA.TXT\r\n",
      "-rw-r--r--   2 root supergroup    1141239 2023-03-20 23:18 hdfs://node-master:9000/user/root/baby-names/HI.TXT\r\n",
      "-rw-r--r--   2 root supergroup    1994702 2023-03-20 23:18 hdfs://node-master:9000/user/root/baby-names/IA.TXT\r\n",
      "-rw-r--r--   2 root supergroup    1225197 2023-03-20 23:18 hdfs://node-master:9000/user/root/baby-names/ID.TXT\r\n",
      "-rw-r--r--   2 root supergroup    4918761 2023-03-20 23:18 hdfs://node-master:9000/user/root/baby-names/IL.TXT\r\n",
      "-rw-r--r--   2 root supergroup    2988182 2023-03-20 23:18 hdfs://node-master:9000/user/root/baby-names/IN.TXT\r\n",
      "-rw-r--r--   2 root supergroup    1998895 2023-03-20 23:18 hdfs://node-master:9000/user/root/baby-names/KS.TXT\r\n",
      "-rw-r--r--   2 root supergroup    2514643 2023-03-20 23:18 hdfs://node-master:9000/user/root/baby-names/KY.TXT\r\n",
      "-rw-r--r--   2 root supergroup    3159560 2023-03-20 23:18 hdfs://node-master:9000/user/root/baby-names/LA.TXT\r\n",
      "-rw-r--r--   2 root supergroup    2556494 2023-03-20 23:18 hdfs://node-master:9000/user/root/baby-names/MA.TXT\r\n",
      "-rw-r--r--   2 root supergroup    2403051 2023-03-20 23:18 hdfs://node-master:9000/user/root/baby-names/MD.TXT\r\n",
      "-rw-r--r--   2 root supergroup    1065941 2023-03-20 23:18 hdfs://node-master:9000/user/root/baby-names/ME.TXT\r\n",
      "-rw-r--r--   2 root supergroup    3919809 2023-03-20 23:18 hdfs://node-master:9000/user/root/baby-names/MI.TXT\r\n",
      "-rw-r--r--   2 root supergroup    2446607 2023-03-20 23:18 hdfs://node-master:9000/user/root/baby-names/MN.TXT\r\n",
      "-rw-r--r--   2 root supergroup    2960844 2023-03-20 23:18 hdfs://node-master:9000/user/root/baby-names/MO.TXT\r\n",
      "-rw-r--r--   2 root supergroup    2409882 2023-03-20 23:18 hdfs://node-master:9000/user/root/baby-names/MS.TXT\r\n",
      "-rw-r--r--   2 root supergroup     955754 2023-03-20 23:18 hdfs://node-master:9000/user/root/baby-names/MT.TXT\r\n",
      "-rw-r--r--   2 root supergroup    3743768 2023-03-20 23:18 hdfs://node-master:9000/user/root/baby-names/NC.TXT\r\n",
      "-rw-r--r--   2 root supergroup     969716 2023-03-20 23:18 hdfs://node-master:9000/user/root/baby-names/ND.TXT\r\n",
      "-rw-r--r--   2 root supergroup    1524910 2023-03-20 23:18 hdfs://node-master:9000/user/root/baby-names/NE.TXT\r\n",
      "-rw-r--r--   2 root supergroup     833919 2023-03-20 23:18 hdfs://node-master:9000/user/root/baby-names/NH.TXT\r\n",
      "-rw-r--r--   2 root supergroup    3297693 2023-03-20 23:18 hdfs://node-master:9000/user/root/baby-names/NJ.TXT\r\n",
      "-rw-r--r--   2 root supergroup    1594202 2023-03-20 23:18 hdfs://node-master:9000/user/root/baby-names/NM.TXT\r\n",
      "-rw-r--r--   2 root supergroup    1039041 2023-03-20 23:18 hdfs://node-master:9000/user/root/baby-names/NV.TXT\r\n",
      "-rw-r--r--   2 root supergroup    6412651 2023-03-20 23:18 hdfs://node-master:9000/user/root/baby-names/NY.TXT\r\n",
      "-rw-r--r--   2 root supergroup    4213238 2023-03-20 23:18 hdfs://node-master:9000/user/root/baby-names/OH.TXT\r\n",
      "-rw-r--r--   2 root supergroup    2480513 2023-03-20 23:18 hdfs://node-master:9000/user/root/baby-names/OK.TXT\r\n",
      "-rw-r--r--   2 root supergroup    1888164 2023-03-20 23:18 hdfs://node-master:9000/user/root/baby-names/OR.TXT\r\n",
      "-rw-r--r--   2 root supergroup    4278696 2023-03-20 23:18 hdfs://node-master:9000/user/root/baby-names/PA.TXT\r\n",
      "-rw-r--r--   2 root supergroup     856710 2023-03-20 23:18 hdfs://node-master:9000/user/root/baby-names/RI.TXT\r\n",
      "-rw-r--r--   2 root supergroup    2525607 2023-03-20 23:18 hdfs://node-master:9000/user/root/baby-names/SC.TXT\r\n",
      "-rw-r--r--   2 root supergroup     992648 2023-03-20 23:18 hdfs://node-master:9000/user/root/baby-names/SD.TXT\r\n",
      "-rw-r--r--   2 root supergroup     165603 2023-03-20 23:18 hdfs://node-master:9000/user/root/baby-names/StateReadMe.pdf\r\n",
      "-rw-r--r--   2 root supergroup    3025839 2023-03-20 23:18 hdfs://node-master:9000/user/root/baby-names/TN.TXT\r\n",
      "-rw-r--r--   2 root supergroup    7659496 2023-03-20 23:18 hdfs://node-master:9000/user/root/baby-names/TX.TXT\r\n",
      "-rw-r--r--   2 root supergroup    1906933 2023-03-20 23:18 hdfs://node-master:9000/user/root/baby-names/UT.TXT\r\n",
      "-rw-r--r--   2 root supergroup    3180932 2023-03-20 23:18 hdfs://node-master:9000/user/root/baby-names/VA.TXT\r\n",
      "-rw-r--r--   2 root supergroup     603089 2023-03-20 23:18 hdfs://node-master:9000/user/root/baby-names/VT.TXT\r\n",
      "-rw-r--r--   2 root supergroup    2678847 2023-03-20 23:18 hdfs://node-master:9000/user/root/baby-names/WA.TXT\r\n",
      "-rw-r--r--   2 root supergroup    2496897 2023-03-20 23:18 hdfs://node-master:9000/user/root/baby-names/WI.TXT\r\n",
      "-rw-r--r--   2 root supergroup    1621220 2023-03-20 23:18 hdfs://node-master:9000/user/root/baby-names/WV.TXT\r\n",
      "-rw-r--r--   2 root supergroup     580692 2023-03-20 23:18 hdfs://node-master:9000/user/root/baby-names/WY.TXT\r\n"
     ]
    }
   ],
   "source": [
    "! hadoop fs -ls hdfs://node-master:9000/user/root/baby-names"
   ]
  },
  {
   "cell_type": "markdown",
   "id": "9c630091",
   "metadata": {},
   "source": [
    "## Q1"
   ]
  },
  {
   "cell_type": "code",
   "execution_count": 7,
   "id": "ec3a70ac",
   "metadata": {},
   "outputs": [],
   "source": [
    "dataset_path = \"hdfs://node-master:9000/user/root/baby-names\""
   ]
  },
  {
   "cell_type": "code",
   "execution_count": 8,
   "id": "48a7bc80",
   "metadata": {},
   "outputs": [],
   "source": [
    "# Estado (2 dígitos)\n",
    "# Sexo (M = Masculino / F = Feminino)\n",
    "# Ano de Nascimento (4 dígitos)\n",
    "# Nome (de 2 a 15 caracteres)\n",
    "# Número de ocorrências\n",
    "schema = StructType([\n",
    "    StructField(\"state\", StringType(), True),\n",
    "    StructField(\"gender\", StringType(), True),\n",
    "    StructField(\"yob\", IntegerType(), True),\n",
    "    StructField(\"name\", StringType(), True),\n",
    "    StructField(\"total\", IntegerType(), True),\n",
    "])"
   ]
  },
  {
   "cell_type": "code",
   "execution_count": 9,
   "id": "7dd238fd",
   "metadata": {},
   "outputs": [],
   "source": [
    "df_ca = spark.read.format(\n",
    "    \"csv\"\n",
    ").option(\n",
    "    \"header\", \"false\"\n",
    ").schema(\n",
    "    schema\n",
    ").load(\n",
    "    f\"{dataset_path}/CA.TXT\"\n",
    ")"
   ]
  },
  {
   "cell_type": "code",
   "execution_count": 10,
   "id": "d7075914",
   "metadata": {},
   "outputs": [
    {
     "data": {
      "text/plain": [
       "(400762, 5)"
      ]
     },
     "execution_count": 10,
     "metadata": {},
     "output_type": "execute_result"
    }
   ],
   "source": [
    "shape(df_ca)"
   ]
  },
  {
   "cell_type": "code",
   "execution_count": 11,
   "id": "badd6292",
   "metadata": {},
   "outputs": [
    {
     "name": "stdout",
     "output_type": "stream",
     "text": [
      "+-----+------+----+---------+-----+\n",
      "|state|gender| yob|     name|total|\n",
      "+-----+------+----+---------+-----+\n",
      "|   CA|     F|1910|     Mary|  295|\n",
      "|   CA|     F|1910|    Helen|  239|\n",
      "|   CA|     F|1910|  Dorothy|  220|\n",
      "|   CA|     F|1910| Margaret|  163|\n",
      "|   CA|     F|1910|  Frances|  134|\n",
      "|   CA|     F|1910|     Ruth|  128|\n",
      "|   CA|     F|1910|   Evelyn|  126|\n",
      "|   CA|     F|1910|    Alice|  118|\n",
      "|   CA|     F|1910| Virginia|  101|\n",
      "|   CA|     F|1910|Elizabeth|   93|\n",
      "|   CA|     F|1910| Florence|   93|\n",
      "|   CA|     F|1910|    Marie|   90|\n",
      "|   CA|     F|1910|  Mildred|   90|\n",
      "|   CA|     F|1910|     Rose|   74|\n",
      "|   CA|     F|1910|    Hazel|   68|\n",
      "|   CA|     F|1910|   Louise|   67|\n",
      "|   CA|     F|1910|Josephine|   66|\n",
      "|   CA|     F|1910|  Lucille|   66|\n",
      "|   CA|     F|1910|    Grace|   65|\n",
      "|   CA|     F|1910|   Gladys|   63|\n",
      "+-----+------+----+---------+-----+\n",
      "only showing top 20 rows\n",
      "\n"
     ]
    }
   ],
   "source": [
    "df_ca.show()"
   ]
  },
  {
   "cell_type": "code",
   "execution_count": 12,
   "id": "a6aa8eef",
   "metadata": {},
   "outputs": [
    {
     "name": "stdout",
     "output_type": "stream",
     "text": [
      "+-----------+------+\n",
      "|       name| total|\n",
      "+-----------+------+\n",
      "|    Michael|432218|\n",
      "|      David|375131|\n",
      "|     Robert|351762|\n",
      "|       John|314981|\n",
      "|      James|284082|\n",
      "|     Daniel|257911|\n",
      "|    Richard|224869|\n",
      "|Christopher|222791|\n",
      "|    William|217961|\n",
      "|    Anthony|183646|\n",
      "+-----------+------+\n",
      "\n"
     ]
    }
   ],
   "source": [
    "df_ca.filter(\n",
    "    df_ca.gender == 'M'\n",
    ").groupBy(\n",
    "    df_ca.name\n",
    ").agg(\n",
    "    sum(\"total\").alias(\"total\")\n",
    ").orderBy(\n",
    "    col(\"total\").desc()\n",
    ").limit(10).show()"
   ]
  },
  {
   "cell_type": "markdown",
   "id": "deeb727c",
   "metadata": {},
   "source": [
    "## Q2"
   ]
  },
  {
   "cell_type": "code",
   "execution_count": 13,
   "id": "55eba6fc",
   "metadata": {},
   "outputs": [],
   "source": [
    "df_all = spark.read.format(\n",
    "    \"csv\"\n",
    ").option(\n",
    "    \"header\", \"false\"\n",
    ").schema(\n",
    "    schema\n",
    ").load(\n",
    "    f\"{dataset_path}/*.TXT\"\n",
    ")"
   ]
  },
  {
   "cell_type": "code",
   "execution_count": 14,
   "id": "107f8ce3",
   "metadata": {},
   "outputs": [
    {
     "data": {
      "text/plain": [
       "(6311504, 5)"
      ]
     },
     "execution_count": 14,
     "metadata": {},
     "output_type": "execute_result"
    }
   ],
   "source": [
    "shape(df_all)"
   ]
  },
  {
   "cell_type": "code",
   "execution_count": 15,
   "id": "ffe9fcd3",
   "metadata": {},
   "outputs": [
    {
     "name": "stdout",
     "output_type": "stream",
     "text": [
      "+-----+------+----+---------+-----+\n",
      "|state|gender| yob|     name|total|\n",
      "+-----+------+----+---------+-----+\n",
      "|   CA|     F|1910|     Mary|  295|\n",
      "|   CA|     F|1910|    Helen|  239|\n",
      "|   CA|     F|1910|  Dorothy|  220|\n",
      "|   CA|     F|1910| Margaret|  163|\n",
      "|   CA|     F|1910|  Frances|  134|\n",
      "|   CA|     F|1910|     Ruth|  128|\n",
      "|   CA|     F|1910|   Evelyn|  126|\n",
      "|   CA|     F|1910|    Alice|  118|\n",
      "|   CA|     F|1910| Virginia|  101|\n",
      "|   CA|     F|1910|Elizabeth|   93|\n",
      "|   CA|     F|1910| Florence|   93|\n",
      "|   CA|     F|1910|    Marie|   90|\n",
      "|   CA|     F|1910|  Mildred|   90|\n",
      "|   CA|     F|1910|     Rose|   74|\n",
      "|   CA|     F|1910|    Hazel|   68|\n",
      "|   CA|     F|1910|   Louise|   67|\n",
      "|   CA|     F|1910|Josephine|   66|\n",
      "|   CA|     F|1910|  Lucille|   66|\n",
      "|   CA|     F|1910|    Grace|   65|\n",
      "|   CA|     F|1910|   Gladys|   63|\n",
      "+-----+------+----+---------+-----+\n",
      "only showing top 20 rows\n",
      "\n"
     ]
    }
   ],
   "source": [
    "df_all.show()"
   ]
  },
  {
   "cell_type": "code",
   "execution_count": 16,
   "id": "93f7454a",
   "metadata": {},
   "outputs": [],
   "source": [
    "df_state_name = df_all.groupBy(\n",
    "    df_all.state, df_all.name\n",
    ").agg(\n",
    "    sum(\"total\").alias(\"total\")\n",
    ").orderBy(\n",
    "    col(\"total\").desc()\n",
    ")"
   ]
  },
  {
   "cell_type": "code",
   "execution_count": 27,
   "id": "f45b0715",
   "metadata": {},
   "outputs": [
    {
     "name": "stdout",
     "output_type": "stream",
     "text": [
      "root\n",
      " |-- state: string (nullable = true)\n",
      " |-- name: string (nullable = true)\n",
      " |-- total: long (nullable = true)\n",
      "\n"
     ]
    }
   ],
   "source": [
    "df_state_name.printSchema()"
   ]
  },
  {
   "cell_type": "code",
   "execution_count": 39,
   "id": "2068b02b",
   "metadata": {},
   "outputs": [],
   "source": [
    "df_state_max_total = df_state_name.groupBy(\n",
    "    df_all.state\n",
    ").agg(\n",
    "    max(\"total\").alias(\"max_total\")\n",
    ").orderBy(\n",
    "    col(\"state\").desc()\n",
    ")"
   ]
  },
  {
   "cell_type": "code",
   "execution_count": 40,
   "id": "8c452964",
   "metadata": {},
   "outputs": [
    {
     "data": {
      "text/plain": [
       "(51, 2)"
      ]
     },
     "execution_count": 40,
     "metadata": {},
     "output_type": "execute_result"
    }
   ],
   "source": [
    "shape(df_state_max_total)"
   ]
  },
  {
   "cell_type": "code",
   "execution_count": 41,
   "id": "b2e88203",
   "metadata": {},
   "outputs": [
    {
     "name": "stdout",
     "output_type": "stream",
     "text": [
      "+-----+---------+\n",
      "|state|max_total|\n",
      "+-----+---------+\n",
      "|   WY|     9049|\n",
      "|   WV|    76320|\n",
      "|   WI|   105091|\n",
      "|   WA|    70789|\n",
      "|   VT|    11697|\n",
      "|   VA|   150921|\n",
      "|   UT|    29424|\n",
      "|   TX|   282255|\n",
      "|   TN|   174552|\n",
      "|   SD|    18016|\n",
      "|   SC|   129117|\n",
      "|   RI|    29835|\n",
      "|   PA|   421941|\n",
      "|   OR|    40383|\n",
      "|   OK|    75399|\n",
      "|   OH|   279778|\n",
      "|   NY|   499205|\n",
      "|   NV|    14355|\n",
      "|   NM|    23887|\n",
      "|   NJ|   198284|\n",
      "+-----+---------+\n",
      "only showing top 20 rows\n",
      "\n"
     ]
    }
   ],
   "source": [
    "df_state_max_total.show()"
   ]
  },
  {
   "cell_type": "code",
   "execution_count": 42,
   "id": "11b1801c",
   "metadata": {},
   "outputs": [
    {
     "name": "stdout",
     "output_type": "stream",
     "text": [
      "root\n",
      " |-- state: string (nullable = true)\n",
      " |-- max_total: long (nullable = true)\n",
      "\n"
     ]
    }
   ],
   "source": [
    "df_state_max_total.printSchema()"
   ]
  },
  {
   "cell_type": "code",
   "execution_count": 43,
   "id": "1605436f",
   "metadata": {},
   "outputs": [],
   "source": [
    "df_state_name_filtered_2 = df_state_name.join(\n",
    "    df_state_max_total,\n",
    "    ((df_state_name.state == df_state_max_total.state) &\n",
    "     (df_state_name.total == df_state_max_total.max_total)),\n",
    "    \"inner\"\n",
    ").orderBy(\n",
    "    col(\"total\").desc()\n",
    ")"
   ]
  },
  {
   "cell_type": "code",
   "execution_count": 44,
   "id": "dd6406fb",
   "metadata": {},
   "outputs": [
    {
     "data": {
      "text/plain": [
       "(51, 5)"
      ]
     },
     "execution_count": 44,
     "metadata": {},
     "output_type": "execute_result"
    }
   ],
   "source": [
    "shape(df_state_name_filtered_2)"
   ]
  },
  {
   "cell_type": "code",
   "execution_count": 46,
   "id": "3589cd5a",
   "metadata": {},
   "outputs": [
    {
     "name": "stdout",
     "output_type": "stream",
     "text": [
      "+-----+-------+------+-----+---------+\n",
      "|state|   name| total|state|max_total|\n",
      "+-----+-------+------+-----+---------+\n",
      "|   NY|   John|499205|   NY|   499205|\n",
      "|   CA|Michael|434650|   CA|   434650|\n",
      "|   PA|   John|421941|   PA|   421941|\n",
      "|   TX|  James|282255|   TX|   282255|\n",
      "|   OH| Robert|279778|   OH|   279778|\n",
      "|   IL| Robert|278300|   IL|   278300|\n",
      "|   MI| Robert|216465|   MI|   216465|\n",
      "|   NC|  James|211587|   NC|   211587|\n",
      "|   MA|   John|200674|   MA|   200674|\n",
      "|   NJ|   John|198284|   NJ|   198284|\n",
      "|   GA|  James|186446|   GA|   186446|\n",
      "|   TN|  James|174552|   TN|   174552|\n",
      "|   AL|  James|159682|   AL|   159682|\n",
      "|   VA|  James|150921|   VA|   150921|\n",
      "|   FL|Michael|146168|   FL|   146168|\n",
      "|   KY|  James|145800|   KY|   145800|\n",
      "|   IN| Robert|129140|   IN|   129140|\n",
      "|   SC|  James|129117|   SC|   129117|\n",
      "|   MO|  James|125717|   MO|   125717|\n",
      "|   MS|  James|115889|   MS|   115889|\n",
      "+-----+-------+------+-----+---------+\n",
      "only showing top 20 rows\n",
      "\n"
     ]
    }
   ],
   "source": [
    "df_state_name_filtered_2.show()"
   ]
  },
  {
   "cell_type": "code",
   "execution_count": 17,
   "id": "867442f2",
   "metadata": {},
   "outputs": [],
   "source": [
    "window_by_state = Window.partitionBy(\"state\").orderBy(col(\"total\").desc())"
   ]
  },
  {
   "cell_type": "code",
   "execution_count": 18,
   "id": "65258cae",
   "metadata": {},
   "outputs": [],
   "source": [
    "df_state_name_filtered = df_state_name.withColumn(\n",
    "    \"row_number\", row_number().over(window_by_state)\n",
    ").filter(\n",
    "    col(\"row_number\") == 1\n",
    ").orderBy(\n",
    "    col(\"total\").desc()\n",
    ")"
   ]
  },
  {
   "cell_type": "code",
   "execution_count": 26,
   "id": "6eae4da7",
   "metadata": {},
   "outputs": [
    {
     "data": {
      "text/plain": [
       "(51, 4)"
      ]
     },
     "execution_count": 26,
     "metadata": {},
     "output_type": "execute_result"
    }
   ],
   "source": [
    "shape(df_state_name_filtered)"
   ]
  },
  {
   "cell_type": "code",
   "execution_count": 19,
   "id": "d57fdee6",
   "metadata": {},
   "outputs": [
    {
     "name": "stdout",
     "output_type": "stream",
     "text": [
      "+-----+-------+------+----------+\n",
      "|state|   name| total|row_number|\n",
      "+-----+-------+------+----------+\n",
      "|   NY|   John|499205|         1|\n",
      "|   CA|Michael|434650|         1|\n",
      "|   PA|   John|421941|         1|\n",
      "|   TX|  James|282255|         1|\n",
      "|   OH| Robert|279778|         1|\n",
      "|   IL| Robert|278300|         1|\n",
      "|   MI| Robert|216465|         1|\n",
      "|   NC|  James|211587|         1|\n",
      "|   MA|   John|200674|         1|\n",
      "|   NJ|   John|198284|         1|\n",
      "|   GA|  James|186446|         1|\n",
      "|   TN|  James|174552|         1|\n",
      "|   AL|  James|159682|         1|\n",
      "|   VA|  James|150921|         1|\n",
      "|   FL|Michael|146168|         1|\n",
      "|   KY|  James|145800|         1|\n",
      "|   IN| Robert|129140|         1|\n",
      "|   SC|  James|129117|         1|\n",
      "|   MO|  James|125717|         1|\n",
      "|   MS|  James|115889|         1|\n",
      "+-----+-------+------+----------+\n",
      "only showing top 20 rows\n",
      "\n"
     ]
    }
   ],
   "source": [
    "df_state_name_filtered.show()"
   ]
  },
  {
   "cell_type": "markdown",
   "id": "f527b04e",
   "metadata": {},
   "source": [
    "## Q3"
   ]
  },
  {
   "cell_type": "code",
   "execution_count": 20,
   "id": "05b74c01",
   "metadata": {},
   "outputs": [],
   "source": [
    "df_total_by_yob = df_all.groupBy(\n",
    "    col(\"yob\"), col(\"gender\")\n",
    ").agg(\n",
    "    sum(col(\"total\")).alias(\"total\")\n",
    ").orderBy(\n",
    "    col(\"yob\").desc(), col(\"gender\")\n",
    ")"
   ]
  },
  {
   "cell_type": "code",
   "execution_count": 21,
   "id": "aedd5ab8",
   "metadata": {},
   "outputs": [
    {
     "name": "stdout",
     "output_type": "stream",
     "text": [
      "+----+------+-------+\n",
      "| yob|gender|  total|\n",
      "+----+------+-------+\n",
      "|2021|     F|1320095|\n",
      "|2021|     M|1492780|\n",
      "|2020|     F|1303090|\n",
      "|2020|     M|1478890|\n",
      "|2019|     F|1360299|\n",
      "|2019|     M|1545678|\n",
      "|2018|     F|1382391|\n",
      "|2018|     M|1570957|\n",
      "|2017|     F|1405262|\n",
      "|2017|     M|1606186|\n",
      "|2016|     F|1446451|\n",
      "|2016|     M|1654612|\n",
      "|2015|     F|1458158|\n",
      "|2015|     M|1677553|\n",
      "|2014|     F|1459627|\n",
      "|2014|     M|1683200|\n",
      "|2013|     F|1425905|\n",
      "|2013|     M|1654638|\n",
      "|2012|     F|1426774|\n",
      "|2012|     M|1657219|\n",
      "+----+------+-------+\n",
      "only showing top 20 rows\n",
      "\n"
     ]
    }
   ],
   "source": [
    "df_total_by_yob.show()"
   ]
  },
  {
   "cell_type": "code",
   "execution_count": 22,
   "id": "39941c01",
   "metadata": {},
   "outputs": [],
   "source": [
    "dfp = df_total_by_yob.toPandas()"
   ]
  },
  {
   "cell_type": "code",
   "execution_count": 23,
   "id": "d02049d4",
   "metadata": {},
   "outputs": [],
   "source": [
    "foo = dfp.pivot(\n",
    "    index=\"yob\", columns=\"gender\", values=\"total\"\n",
    ").reset_index(\n",
    "    drop=False\n",
    ")"
   ]
  },
  {
   "cell_type": "code",
   "execution_count": 24,
   "id": "ef4adaea",
   "metadata": {},
   "outputs": [
    {
     "data": {
      "text/html": [
       "<div>\n",
       "<style scoped>\n",
       "    .dataframe tbody tr th:only-of-type {\n",
       "        vertical-align: middle;\n",
       "    }\n",
       "\n",
       "    .dataframe tbody tr th {\n",
       "        vertical-align: top;\n",
       "    }\n",
       "\n",
       "    .dataframe thead th {\n",
       "        text-align: right;\n",
       "    }\n",
       "</style>\n",
       "<table border=\"1\" class=\"dataframe\">\n",
       "  <thead>\n",
       "    <tr style=\"text-align: right;\">\n",
       "      <th>gender</th>\n",
       "      <th>yob</th>\n",
       "      <th>F</th>\n",
       "      <th>M</th>\n",
       "    </tr>\n",
       "  </thead>\n",
       "  <tbody>\n",
       "    <tr>\n",
       "      <th>0</th>\n",
       "      <td>1910</td>\n",
       "      <td>352089</td>\n",
       "      <td>164223</td>\n",
       "    </tr>\n",
       "    <tr>\n",
       "      <th>1</th>\n",
       "      <td>1911</td>\n",
       "      <td>372382</td>\n",
       "      <td>193441</td>\n",
       "    </tr>\n",
       "    <tr>\n",
       "      <th>2</th>\n",
       "      <td>1912</td>\n",
       "      <td>504299</td>\n",
       "      <td>383704</td>\n",
       "    </tr>\n",
       "    <tr>\n",
       "      <th>3</th>\n",
       "      <td>1913</td>\n",
       "      <td>566973</td>\n",
       "      <td>461606</td>\n",
       "    </tr>\n",
       "    <tr>\n",
       "      <th>4</th>\n",
       "      <td>1914</td>\n",
       "      <td>696907</td>\n",
       "      <td>596441</td>\n",
       "    </tr>\n",
       "    <tr>\n",
       "      <th>...</th>\n",
       "      <td>...</td>\n",
       "      <td>...</td>\n",
       "      <td>...</td>\n",
       "    </tr>\n",
       "    <tr>\n",
       "      <th>107</th>\n",
       "      <td>2017</td>\n",
       "      <td>1405262</td>\n",
       "      <td>1606186</td>\n",
       "    </tr>\n",
       "    <tr>\n",
       "      <th>108</th>\n",
       "      <td>2018</td>\n",
       "      <td>1382391</td>\n",
       "      <td>1570957</td>\n",
       "    </tr>\n",
       "    <tr>\n",
       "      <th>109</th>\n",
       "      <td>2019</td>\n",
       "      <td>1360299</td>\n",
       "      <td>1545678</td>\n",
       "    </tr>\n",
       "    <tr>\n",
       "      <th>110</th>\n",
       "      <td>2020</td>\n",
       "      <td>1303090</td>\n",
       "      <td>1478890</td>\n",
       "    </tr>\n",
       "    <tr>\n",
       "      <th>111</th>\n",
       "      <td>2021</td>\n",
       "      <td>1320095</td>\n",
       "      <td>1492780</td>\n",
       "    </tr>\n",
       "  </tbody>\n",
       "</table>\n",
       "<p>112 rows × 3 columns</p>\n",
       "</div>"
      ],
      "text/plain": [
       "gender   yob        F        M\n",
       "0       1910   352089   164223\n",
       "1       1911   372382   193441\n",
       "2       1912   504299   383704\n",
       "3       1913   566973   461606\n",
       "4       1914   696907   596441\n",
       "..       ...      ...      ...\n",
       "107     2017  1405262  1606186\n",
       "108     2018  1382391  1570957\n",
       "109     2019  1360299  1545678\n",
       "110     2020  1303090  1478890\n",
       "111     2021  1320095  1492780\n",
       "\n",
       "[112 rows x 3 columns]"
      ]
     },
     "execution_count": 24,
     "metadata": {},
     "output_type": "execute_result"
    }
   ],
   "source": [
    "foo"
   ]
  },
  {
   "cell_type": "code",
   "execution_count": 25,
   "id": "17b552b7",
   "metadata": {},
   "outputs": [
    {
     "data": {
      "text/plain": [
       "<AxesSubplot:xlabel='yob'>"
      ]
     },
     "execution_count": 25,
     "metadata": {},
     "output_type": "execute_result"
    },
    {
     "data": {
      "image/png": "[encoded data removed]",
      "text/plain": [
       "<Figure size 432x288 with 1 Axes>"
      ]
     },
     "metadata": {
      "needs_background": "light"
     },
     "output_type": "display_data"
    }
   ],
   "source": [
    "foo.plot.line(x=\"yob\")"
   ]
  }
 ],
 "metadata": {
  "kernelspec": {
   "display_name": "Python 3",
   "language": "python",
   "name": "python3"
  },
  "language_info": {
   "codemirror_mode": {
    "name": "ipython",
    "version": 3
   },
   "file_extension": ".py",
   "mimetype": "text/x-python",
   "name": "python",
   "nbconvert_exporter": "python",
   "pygments_lexer": "ipython3",
   "version": "3.6.9"
  }
 },
 "nbformat": 4,
 "nbformat_minor": 5
}
