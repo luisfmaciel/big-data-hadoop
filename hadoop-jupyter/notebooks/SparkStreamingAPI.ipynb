{
 "cells": [
  {
   "cell_type": "code",
   "execution_count": 1,
   "id": "d961fdce",
   "metadata": {},
   "outputs": [],
   "source": [
    "import time\n",
    "import requests\n",
    "import datetime as dt\n",
    "from multiprocessing import Process\n",
    "\n",
    "import findspark\n",
    "findspark.init()\n",
    "from pathlib import Path\n",
    "from pyspark import SparkContext, SparkConf, SQLContext\n",
    "from pyspark.sql.types import StructType, StructField, IntegerType, StringType, FloatType, LongType\n",
    "from pyspark.sql.functions import col, regexp_replace\n",
    "from pyspark.sql import SparkSession"
   ]
  },
  {
   "cell_type": "code",
   "execution_count": 2,
   "id": "5215ec54",
   "metadata": {},
   "outputs": [],
   "source": [
    "conf = SparkConf().setAppName(\"spark-streaming-micro-batch\")\n",
    "sc = SparkContext(conf=conf)\n",
    "spark = SparkSession(sc)"
   ]
  },
  {
   "cell_type": "code",
   "execution_count": 26,
   "id": "ee402bbf",
   "metadata": {},
   "outputs": [],
   "source": [
    "def shape(df):\n",
    "    return (df.count(), len(df.columns))"
   ]
  },
  {
   "cell_type": "code",
   "execution_count": 3,
   "id": "ed17335c",
   "metadata": {},
   "outputs": [
    {
     "name": "stdout",
     "output_type": "stream",
     "text": [
      "23/06/15 00:27:54 WARN util.NativeCodeLoader: Unable to load native-hadoop library for your platform... using builtin-java classes where applicable\r\n"
     ]
    }
   ],
   "source": [
    "! hadoop fs -mkdir -p /user/root/onibus/batch"
   ]
  },
  {
   "cell_type": "code",
   "execution_count": 4,
   "id": "fe6e0074",
   "metadata": {},
   "outputs": [
    {
     "name": "stdout",
     "output_type": "stream",
     "text": [
      "23/06/15 00:28:01 WARN util.NativeCodeLoader: Unable to load native-hadoop library for your platform... using builtin-java classes where applicable\r\n"
     ]
    }
   ],
   "source": [
    "! hadoop fs -mkdir -p /user/root/onibus/stream"
   ]
  },
  {
   "cell_type": "code",
   "execution_count": 5,
   "id": "97f0f8de",
   "metadata": {},
   "outputs": [
    {
     "name": "stdout",
     "output_type": "stream",
     "text": [
      "23/06/15 00:28:27 WARN util.NativeCodeLoader: Unable to load native-hadoop library for your platform... using builtin-java classes where applicable\n",
      "Found 2 items\n",
      "drwxr-xr-x   - root supergroup          0 2023-06-15 00:27 /user/root/onibus/batch\n",
      "drwxr-xr-x   - root supergroup          0 2023-06-15 00:28 /user/root/onibus/stream\n"
     ]
    }
   ],
   "source": [
    "! hadoop fs -ls /user/root/onibus/"
   ]
  },
  {
   "cell_type": "code",
   "execution_count": 6,
   "id": "5f6107a6",
   "metadata": {},
   "outputs": [],
   "source": [
    "BASE_URL = \"https://dados.mobilidade.rio/gps/sppo?\" \\\n",
    "           \"dataInicial={dt_inicial}+{hora_inicial}&dataFinal={dt_final}+{hora_final}\""
   ]
  },
  {
   "cell_type": "code",
   "execution_count": 7,
   "id": "f6d9ed18",
   "metadata": {},
   "outputs": [],
   "source": [
    "def call_bus_api(interval=60):\n",
    "    offset = dt.timedelta(hours=3)\n",
    "    dtf = dt.datetime.now() - offset\n",
    "    dti = dtf - dt.timedelta(seconds=interval)\n",
    "    dt_inicial = dti.strftime(\"%Y-%m-%d\")\n",
    "    dt_final = dtf.strftime(\"%Y-%m-%d\")\n",
    "    hora_inicial = dti.strftime(\"%H:%M:%S\")\n",
    "    hora_final = dtf.strftime(\"%H:%M:%S\")\n",
    "    ret = requests.get(\n",
    "        BASE_URL.format(\n",
    "            dt_inicial=dt_inicial, dt_final=dt_final, hora_inicial=hora_inicial, hora_final=hora_final\n",
    "        )\n",
    "    )\n",
    "    rdd = spark.sparkContext.parallelize([ret.text])\n",
    "    df = spark.read.json(rdd)\n",
    "    df.write.json(f\"/user/root/onibus/stream/{dtf.strftime('%Y%m%d_%H%M%S')}\")"
   ]
  },
  {
   "cell_type": "code",
   "execution_count": 8,
   "id": "c50e5bd4",
   "metadata": {},
   "outputs": [],
   "source": [
    "def handle_stream(bdf, ctrl):\n",
    "    offset = dt.timedelta(hours=3)\n",
    "    dtt = dt.datetime.now() - offset\n",
    "    df = bdf.withColumn(\n",
    "        \"latitude\", regexp_replace(col(\"latitude\"), \",\", \".\").cast(FloatType())\n",
    "    ).withColumn(\n",
    "        \"longitude\", regexp_replace(col(\"longitude\"), \",\", \".\").cast(FloatType())\n",
    "    ).withColumn(\n",
    "        \"datahora\", col(\"datahora\").cast(LongType())\n",
    "    ).withColumn(\n",
    "        \"velocidade\", col(\"velocidade\").cast(IntegerType())\n",
    "    ).withColumn(\n",
    "        \"datahoraenvio\", col(\"datahoraenvio\").cast(LongType())\n",
    "    ).withColumn(\n",
    "        \"datahoraservidor\", col(\"datahoraservidor\").cast(LongType())\n",
    "    )\n",
    "    df.write.csv(f\"/user/root/onibus/batch/{dtt.strftime('%Y%m%d_%H%M%S')}\")"
   ]
  },
  {
   "cell_type": "code",
   "execution_count": 9,
   "id": "ac25e4c8",
   "metadata": {},
   "outputs": [],
   "source": [
    "schema = StructType([\n",
    "    StructField(\"ordem\", StringType(), True),\n",
    "    StructField(\"latitude\", StringType(), True),\n",
    "    StructField(\"longitude\", StringType(), True),\n",
    "    StructField(\"datahora\", StringType(), True),\n",
    "    StructField(\"velocidade\", StringType(), True),\n",
    "    StructField(\"linha\", StringType(), True),\n",
    "    StructField(\"datahoraenvio\", StringType(), True),\n",
    "    StructField(\"datahoraservidor\", StringType(), True),\n",
    "])"
   ]
  },
  {
   "cell_type": "code",
   "execution_count": 10,
   "id": "56ea6f14",
   "metadata": {},
   "outputs": [],
   "source": [
    "def loop(max_iter=15):\n",
    "    idx = 1\n",
    "    while True:\n",
    "        print(f\"{idx} - fetching API\")\n",
    "        call_bus_api()\n",
    "        if idx == max_iter:\n",
    "            break\n",
    "        time.sleep(60)\n",
    "        idx += 1"
   ]
  },
  {
   "cell_type": "code",
   "execution_count": 11,
   "id": "2bfd8e9c",
   "metadata": {},
   "outputs": [],
   "source": [
    "sdf = spark.readStream.schema(schema).json(\"/user/root/onibus/stream/*/*\")"
   ]
  },
  {
   "cell_type": "code",
   "execution_count": 12,
   "id": "b810c5b5",
   "metadata": {},
   "outputs": [],
   "source": [
    "stream_handle = sdf.writeStream                         \\\n",
    "                   .outputMode(\"append\")                \\\n",
    "                   .foreachBatch(handle_stream)         \\\n",
    "                   .trigger(processingTime=\"3 minutes\") \\\n",
    "                   .start()"
   ]
  },
  {
   "cell_type": "code",
   "execution_count": 13,
   "id": "a56420c0",
   "metadata": {},
   "outputs": [
    {
     "data": {
      "text/plain": [
       "True"
      ]
     },
     "execution_count": 13,
     "metadata": {},
     "output_type": "execute_result"
    }
   ],
   "source": [
    "stream_handle.isActive"
   ]
  },
  {
   "cell_type": "code",
   "execution_count": 14,
   "id": "3ee52f11",
   "metadata": {},
   "outputs": [
    {
     "data": {
      "text/plain": [
       "{'message': 'Waiting for next trigger',\n",
       " 'isDataAvailable': False,\n",
       " 'isTriggerActive': False}"
      ]
     },
     "execution_count": 14,
     "metadata": {},
     "output_type": "execute_result"
    }
   ],
   "source": [
    "stream_handle.status"
   ]
  },
  {
   "cell_type": "code",
   "execution_count": 33,
   "id": "711feca6",
   "metadata": {},
   "outputs": [
    {
     "data": {
      "text/plain": [
       "{'id': '5de5b0d9-1ffa-4ebe-8624-e7a1e48e2686',\n",
       " 'runId': '18dd276b-3f10-4f46-bd3e-61522ad32651',\n",
       " 'name': None,\n",
       " 'timestamp': '2023-06-15T00:57:00.009Z',\n",
       " 'batchId': 5,\n",
       " 'numInputRows': 19306,\n",
       " 'inputRowsPerSecond': 107.25019304590327,\n",
       " 'processedRowsPerSecond': 23805.17879161529,\n",
       " 'durationMs': {'addBatch': 273,\n",
       "  'getBatch': 17,\n",
       "  'getOffset': 480,\n",
       "  'queryPlanning': 4,\n",
       "  'triggerExecution': 811,\n",
       "  'walCommit': 22},\n",
       " 'stateOperators': [],\n",
       " 'sources': [{'description': 'FileStreamSource[hdfs://node-master:9000/user/root/onibus/stream/*/*]',\n",
       "   'startOffset': {'logOffset': 4},\n",
       "   'endOffset': {'logOffset': 5},\n",
       "   'numInputRows': 19306,\n",
       "   'inputRowsPerSecond': 107.25019304590327,\n",
       "   'processedRowsPerSecond': 23805.17879161529}],\n",
       " 'sink': {'description': 'ForeachBatchSink'}}"
      ]
     },
     "execution_count": 33,
     "metadata": {},
     "output_type": "execute_result"
    }
   ],
   "source": [
    "stream_handle.lastProgress"
   ]
  },
  {
   "cell_type": "code",
   "execution_count": 15,
   "id": "a953dc79",
   "metadata": {},
   "outputs": [],
   "source": [
    "# stream_handle.stop()"
   ]
  },
  {
   "cell_type": "code",
   "execution_count": 16,
   "id": "dc737885",
   "metadata": {
    "scrolled": false
   },
   "outputs": [
    {
     "name": "stdout",
     "output_type": "stream",
     "text": [
      "1 - fetching API\n",
      "2 - fetching API\n",
      "3 - fetching API\n",
      "4 - fetching API\n",
      "5 - fetching API\n",
      "6 - fetching API\n",
      "7 - fetching API\n",
      "8 - fetching API\n",
      "9 - fetching API\n",
      "10 - fetching API\n",
      "11 - fetching API\n",
      "12 - fetching API\n",
      "13 - fetching API\n",
      "14 - fetching API\n",
      "15 - fetching API\n"
     ]
    }
   ],
   "source": [
    "p = Process(target=loop)\n",
    "p.start()"
   ]
  },
  {
   "cell_type": "code",
   "execution_count": 23,
   "id": "2a8d59e4",
   "metadata": {},
   "outputs": [],
   "source": [
    "dir_batch, dir_stream = \"/user/root/onibus/batch/*/*\", \"/user/root/onibus/stream/*/*\""
   ]
  },
  {
   "cell_type": "code",
   "execution_count": 34,
   "id": "8706e713",
   "metadata": {},
   "outputs": [],
   "source": [
    "dfc = spark.read.schema(schema).json(dir_stream)"
   ]
  },
  {
   "cell_type": "code",
   "execution_count": 35,
   "id": "4b270c5a",
   "metadata": {},
   "outputs": [
    {
     "name": "stdout",
     "output_type": "stream",
     "text": [
      "+------+---------+---------+-------------+----------+-------+-------------+----------------+\n",
      "| ordem| latitude|longitude|     datahora|velocidade|  linha|datahoraenvio|datahoraservidor|\n",
      "+------+---------+---------+-------------+----------+-------+-------------+----------------+\n",
      "|B28569|-22,90281|-43,18435|1686790497000|        50|    326|1686790507000|   1686790542000|\n",
      "|B28626|-22,80857|-43,20777|1686790490000|        36|    324|1686790507000|   1686790512000|\n",
      "|B28540|-22,81547|-43,18855|1686790500000|         0|    324|1686790507000|   1686790512000|\n",
      "|B28569|-22,90281|-43,18435|1686790497000|        50|    326|1686790507000|   1686790512000|\n",
      "|B28538|-22,83392|-43,24198|1686790494000|        42|    326|1686790507000|   1686790512000|\n",
      "|B58128|-22,83722|-43,28496|1686790492000|         0|GARAGEM|1686790507000|   1686790533000|\n",
      "|B58096|-22,83729|-43,28544|1686790496000|         0|GARAGEM|1686790507000|   1686790533000|\n",
      "|B58044|-22,92608|-43,24574|1686790486000|        25|    622|1686790507000|   1686790533000|\n",
      "|B58075|-22,83717|-43,28489|1686790495000|         0|GARAGEM|1686790507000|   1686790533000|\n",
      "|B58006|-22,83695|-43,28625|1686790489000|         0|GARAGEM|1686790507000|   1686790533000|\n",
      "|B58057|-22,83722| -43,2855|1686790489000|         0|GARAGEM|1686790507000|   1686790533000|\n",
      "|B58014|-22,83661|-43,28594|1686790497000|         0|GARAGEM|1686790507000|   1686790533000|\n",
      "|B58105|-22,88695|-43,25066|1686790494000|         0|    622|1686790507000|   1686790533000|\n",
      "|B58190| -22,8551|-43,26936|1686790492000|         0|    628|1686790507000|   1686790533000|\n",
      "|D13275|-22,85567|-43,35069|1686790489000|        40|    790|1686790507000|   1686790508000|\n",
      "|C47650|-22,98054|-43,49088|1686790493000|         0|    613|1686790507000|   1686790508000|\n",
      "|C30374|-22,95089|-43,34825|1686790487000|         0|    550|1686790507000|   1686790508000|\n",
      "|B32765|-22,81801|-43,39292|1686790503000|         0|    779|1686790507000|   1686790520000|\n",
      "|B32532|-22,91562|-43,17645|1686790497000|        62|    384|1686790507000|   1686790520000|\n",
      "|B32777|-22,87554| -43,2425|1686790504000|        12|    665|1686790507000|   1686790520000|\n",
      "+------+---------+---------+-------------+----------+-------+-------------+----------------+\n",
      "only showing top 20 rows\n",
      "\n"
     ]
    }
   ],
   "source": [
    "dfc.show()"
   ]
  },
  {
   "cell_type": "code",
   "execution_count": 36,
   "id": "6590fa40",
   "metadata": {},
   "outputs": [
    {
     "data": {
      "text/plain": [
       "(94758, 8)"
      ]
     },
     "execution_count": 36,
     "metadata": {},
     "output_type": "execute_result"
    }
   ],
   "source": [
    "shape(dfc)"
   ]
  },
  {
   "cell_type": "code",
   "execution_count": 37,
   "id": "ad013e5c",
   "metadata": {},
   "outputs": [],
   "source": [
    "dfc2 = spark.read.csv(dir_batch)"
   ]
  },
  {
   "cell_type": "code",
   "execution_count": 38,
   "id": "80f564bd",
   "metadata": {},
   "outputs": [
    {
     "name": "stdout",
     "output_type": "stream",
     "text": [
      "+------+---------+---------+-------------+---+-------+-------------+-------------+\n",
      "|   _c0|      _c1|      _c2|          _c3|_c4|    _c5|          _c6|          _c7|\n",
      "+------+---------+---------+-------------+---+-------+-------------+-------------+\n",
      "|B28569|-22.90281|-43.18435|1686790497000| 50|    326|1686790507000|1686790542000|\n",
      "|B28626|-22.80857|-43.20777|1686790490000| 36|    324|1686790507000|1686790512000|\n",
      "|B28540|-22.81547|-43.18855|1686790500000|  0|    324|1686790507000|1686790512000|\n",
      "|B28569|-22.90281|-43.18435|1686790497000| 50|    326|1686790507000|1686790512000|\n",
      "|B28538|-22.83392|-43.24198|1686790494000| 42|    326|1686790507000|1686790512000|\n",
      "|B58128|-22.83722|-43.28496|1686790492000|  0|GARAGEM|1686790507000|1686790533000|\n",
      "|B58096|-22.83729|-43.28544|1686790496000|  0|GARAGEM|1686790507000|1686790533000|\n",
      "|B58044|-22.92608|-43.24574|1686790486000| 25|    622|1686790507000|1686790533000|\n",
      "|B58075|-22.83717|-43.28489|1686790495000|  0|GARAGEM|1686790507000|1686790533000|\n",
      "|B58006|-22.83695|-43.28625|1686790489000|  0|GARAGEM|1686790507000|1686790533000|\n",
      "|B58057|-22.83722| -43.2855|1686790489000|  0|GARAGEM|1686790507000|1686790533000|\n",
      "|B58014|-22.83661|-43.28594|1686790497000|  0|GARAGEM|1686790507000|1686790533000|\n",
      "|B58105|-22.88695|-43.25066|1686790494000|  0|    622|1686790507000|1686790533000|\n",
      "|B58190| -22.8551|-43.26936|1686790492000|  0|    628|1686790507000|1686790533000|\n",
      "|D13275|-22.85567|-43.35069|1686790489000| 40|    790|1686790507000|1686790508000|\n",
      "|C47650|-22.98054|-43.49088|1686790493000|  0|    613|1686790507000|1686790508000|\n",
      "|C30374|-22.95089|-43.34825|1686790487000|  0|    550|1686790507000|1686790508000|\n",
      "|B32765|-22.81801|-43.39292|1686790503000|  0|    779|1686790507000|1686790520000|\n",
      "|B32532|-22.91562|-43.17645|1686790497000| 62|    384|1686790507000|1686790520000|\n",
      "|B32777|-22.87554| -43.2425|1686790504000| 12|    665|1686790507000|1686790520000|\n",
      "+------+---------+---------+-------------+---+-------+-------------+-------------+\n",
      "only showing top 20 rows\n",
      "\n"
     ]
    }
   ],
   "source": [
    "dfc2.show()"
   ]
  },
  {
   "cell_type": "code",
   "execution_count": 39,
   "id": "2b8ef7cf",
   "metadata": {},
   "outputs": [
    {
     "data": {
      "text/plain": [
       "(94758, 8)"
      ]
     },
     "execution_count": 39,
     "metadata": {},
     "output_type": "execute_result"
    }
   ],
   "source": [
    "shape(dfc2)"
   ]
  },
  {
   "cell_type": "code",
   "execution_count": 40,
   "id": "0c3d7dc7",
   "metadata": {
    "scrolled": true
   },
   "outputs": [
    {
     "name": "stdout",
     "output_type": "stream",
     "text": [
      "root\n",
      " |-- _c0: string (nullable = true)\n",
      " |-- _c1: string (nullable = true)\n",
      " |-- _c2: string (nullable = true)\n",
      " |-- _c3: string (nullable = true)\n",
      " |-- _c4: string (nullable = true)\n",
      " |-- _c5: string (nullable = true)\n",
      " |-- _c6: string (nullable = true)\n",
      " |-- _c7: string (nullable = true)\n",
      "\n"
     ]
    }
   ],
   "source": [
    "dfc2.printSchema()"
   ]
  }
 ],
 "metadata": {
  "kernelspec": {
   "display_name": "Python 3",
   "language": "python",
   "name": "python3"
  },
  "language_info": {
   "codemirror_mode": {
    "name": "ipython",
    "version": 3
   },
   "file_extension": ".py",
   "mimetype": "text/x-python",
   "name": "python",
   "nbconvert_exporter": "python",
   "pygments_lexer": "ipython3",
   "version": "3.6.9"
  }
 },
 "nbformat": 4,
 "nbformat_minor": 5
}
