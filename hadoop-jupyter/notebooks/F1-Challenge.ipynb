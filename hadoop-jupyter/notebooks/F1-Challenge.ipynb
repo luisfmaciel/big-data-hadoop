{
 "cells": [
  {
   "cell_type": "markdown",
   "id": "0c05c281",
   "metadata": {},
   "source": [
    "## F1 Big Data Challenge\n",
    "\n",
    "#### Perguntas\n",
    "\n",
    "1. Pontuação ~~mediana~~ média por temporada dos 20 melhores pilotos das últimas 10 temporadas\n",
    "\n",
    "2. Todas as corridas onde apenas 3 equipes pontuaram.\n",
    "\n",
    "3. Melhor tempo de Pitstop e equipe que executou e piloto que estava no carro por temporada\n",
    "\n",
    "4. Melhor tempo de Pitstop por equipe por temporada\n",
    "\n",
    "5. Piloto que mais pontuou daqueles que nunca subiram no pódio <br/>\n",
    "   o piloto não pode ter subido em um pódio em sua carreira da formula um para entrar nesse grupo"
   ]
  },
  {
   "cell_type": "code",
   "execution_count": 1,
   "id": "29f75b2f",
   "metadata": {},
   "outputs": [],
   "source": [
    "import findspark\n",
    "findspark.init()\n",
    "from pyspark import SparkContext, SparkConf, SQLContext\n",
    "from pyspark.sql import SparkSession\n",
    "from pyspark.sql.functions import col, sum, avg\n",
    "from pathlib import Path"
   ]
  },
  {
   "cell_type": "code",
   "execution_count": 2,
   "id": "c429d3f4",
   "metadata": {},
   "outputs": [],
   "source": [
    "conf = SparkConf().setAppName(\"f1-challenge\")\n",
    "sc = SparkContext(conf=conf)\n",
    "spark = SparkSession(sc)"
   ]
  },
  {
   "cell_type": "code",
   "execution_count": 3,
   "id": "c26776c1",
   "metadata": {},
   "outputs": [
    {
     "name": "stdout",
     "output_type": "stream",
     "text": [
      "put: `f1/circuits.csv': File exists\n",
      "put: `f1/constructorResults.csv': File exists\n",
      "put: `f1/constructorStandings.csv': File exists\n",
      "put: `f1/constructors.csv': File exists\n",
      "put: `f1/driverStandings.csv': File exists\n",
      "put: `f1/drivers.csv': File exists\n",
      "put: `f1/lapTimes.csv': File exists\n",
      "put: `f1/pitStops.csv': File exists\n",
      "put: `f1/qualifying.csv': File exists\n",
      "put: `f1/races.csv': File exists\n",
      "put: `f1/results.csv': File exists\n",
      "put: `f1/seasons.csv': File exists\n",
      "put: `f1/status.csv': File exists\n"
     ]
    }
   ],
   "source": [
    "! hadoop fs -put ../datasets/f1"
   ]
  },
  {
   "cell_type": "code",
   "execution_count": 4,
   "id": "a16a40cd",
   "metadata": {},
   "outputs": [
    {
     "name": "stdout",
     "output_type": "stream",
     "text": [
      "Found 2 items\r\n",
      "drwxr-xr-x   - root supergroup          0 2023-03-07 21:10 hdfs://node-master:9000/user/root/.sparkStaging\r\n",
      "drwxr-xr-x   - root supergroup          0 2023-03-07 21:02 hdfs://node-master:9000/user/root/f1\r\n"
     ]
    }
   ],
   "source": [
    "! hadoop fs -ls hdfs://node-master:9000/user/root"
   ]
  },
  {
   "cell_type": "code",
   "execution_count": 5,
   "id": "1b3cb8ef",
   "metadata": {},
   "outputs": [
    {
     "name": "stdout",
     "output_type": "stream",
     "text": [
      "Found 13 items\r\n",
      "-rw-r--r--   2 root supergroup       8667 2023-03-07 21:02 hdfs://node-master:9000/user/root/f1/circuits.csv\r\n",
      "-rw-r--r--   2 root supergroup     224140 2023-03-07 21:02 hdfs://node-master:9000/user/root/f1/constructorResults.csv\r\n",
      "-rw-r--r--   2 root supergroup     267256 2023-03-07 21:02 hdfs://node-master:9000/user/root/f1/constructorStandings.csv\r\n",
      "-rw-r--r--   2 root supergroup      15617 2023-03-07 21:02 hdfs://node-master:9000/user/root/f1/constructors.csv\r\n",
      "-rw-r--r--   2 root supergroup     768136 2023-03-07 21:02 hdfs://node-master:9000/user/root/f1/driverStandings.csv\r\n",
      "-rw-r--r--   2 root supergroup      79533 2023-03-07 21:02 hdfs://node-master:9000/user/root/f1/drivers.csv\r\n",
      "-rw-r--r--   2 root supergroup   12118621 2023-03-07 21:02 hdfs://node-master:9000/user/root/f1/lapTimes.csv\r\n",
      "-rw-r--r--   2 root supergroup     220898 2023-03-07 21:02 hdfs://node-master:9000/user/root/f1/pitStops.csv\r\n",
      "-rw-r--r--   2 root supergroup     315477 2023-03-07 21:02 hdfs://node-master:9000/user/root/f1/qualifying.csv\r\n",
      "-rw-r--r--   2 root supergroup     104839 2023-03-07 21:02 hdfs://node-master:9000/user/root/f1/races.csv\r\n",
      "-rw-r--r--   2 root supergroup    1176858 2023-03-07 21:02 hdfs://node-master:9000/user/root/f1/results.csv\r\n",
      "-rw-r--r--   2 root supergroup       4099 2023-03-07 21:02 hdfs://node-master:9000/user/root/f1/seasons.csv\r\n",
      "-rw-r--r--   2 root supergroup       1926 2023-03-07 21:02 hdfs://node-master:9000/user/root/f1/status.csv\r\n"
     ]
    }
   ],
   "source": [
    "! hadoop fs -ls hdfs://node-master:9000/user/root/f1"
   ]
  },
  {
   "cell_type": "code",
   "execution_count": 6,
   "id": "201efe36",
   "metadata": {},
   "outputs": [],
   "source": [
    "files = [\"circuits.csv\",\n",
    "\"constructorResults.csv\",\n",
    "\"constructorStandings.csv\",\n",
    "\"constructors.csv\",\n",
    "\"driverStandings.csv\",\n",
    "\"drivers.csv\",\n",
    "\"lapTimes.csv\",\n",
    "\"pitStops.csv\",\n",
    "\"qualifying.csv\",\n",
    "\"races.csv\",\n",
    "\"results.csv\",\n",
    "\"seasons.csv\",\n",
    "\"status.csv\",]"
   ]
  },
  {
   "cell_type": "code",
   "execution_count": 7,
   "id": "99e89935",
   "metadata": {},
   "outputs": [],
   "source": [
    "dfs = {}\n",
    "for file in files:\n",
    "    dfs[file[:-4]] = spark.read.format(\"csv\").option(\"header\", \"true\").load(f\"/user/root/f1/{file}\")"
   ]
  },
  {
   "cell_type": "code",
   "execution_count": 8,
   "id": "0f288d47",
   "metadata": {},
   "outputs": [
    {
     "data": {
      "text/plain": [
       "dict_keys(['circuits', 'constructorResults', 'constructorStandings', 'constructors', 'driverStandings', 'drivers', 'lapTimes', 'pitStops', 'qualifying', 'races', 'results', 'seasons', 'status'])"
      ]
     },
     "execution_count": 8,
     "metadata": {},
     "output_type": "execute_result"
    }
   ],
   "source": [
    "dfs.keys()"
   ]
  },
  {
   "cell_type": "code",
   "execution_count": 9,
   "id": "0c04f383",
   "metadata": {},
   "outputs": [
    {
     "name": "stdout",
     "output_type": "stream",
     "text": [
      "circuits\n",
      "root\n",
      " |-- circuitId: string (nullable = true)\n",
      " |-- circuitRef: string (nullable = true)\n",
      " |-- name: string (nullable = true)\n",
      " |-- location: string (nullable = true)\n",
      " |-- country: string (nullable = true)\n",
      " |-- lat: string (nullable = true)\n",
      " |-- lng: string (nullable = true)\n",
      " |-- alt: string (nullable = true)\n",
      " |-- url: string (nullable = true)\n",
      "\n",
      "constructorResults\n",
      "root\n",
      " |-- constructorResultsId: string (nullable = true)\n",
      " |-- raceId: string (nullable = true)\n",
      " |-- constructorId: string (nullable = true)\n",
      " |-- points: string (nullable = true)\n",
      " |-- status: string (nullable = true)\n",
      "\n",
      "constructorStandings\n",
      "root\n",
      " |-- constructorStandingsId: string (nullable = true)\n",
      " |-- raceId: string (nullable = true)\n",
      " |-- constructorId: string (nullable = true)\n",
      " |-- points: string (nullable = true)\n",
      " |-- position: string (nullable = true)\n",
      " |-- positionText: string (nullable = true)\n",
      " |-- wins: string (nullable = true)\n",
      " |-- _c7: string (nullable = true)\n",
      "\n",
      "constructors\n",
      "root\n",
      " |-- constructorId: string (nullable = true)\n",
      " |-- constructorRef: string (nullable = true)\n",
      " |-- name: string (nullable = true)\n",
      " |-- nationality: string (nullable = true)\n",
      " |-- url: string (nullable = true)\n",
      " |-- _c5: string (nullable = true)\n",
      "\n",
      "driverStandings\n",
      "root\n",
      " |-- driverStandingsId: string (nullable = true)\n",
      " |-- raceId: string (nullable = true)\n",
      " |-- driverId: string (nullable = true)\n",
      " |-- points: string (nullable = true)\n",
      " |-- position: string (nullable = true)\n",
      " |-- positionText: string (nullable = true)\n",
      " |-- wins: string (nullable = true)\n",
      "\n",
      "drivers\n",
      "root\n",
      " |-- driverId: string (nullable = true)\n",
      " |-- driverRef: string (nullable = true)\n",
      " |-- number: string (nullable = true)\n",
      " |-- code: string (nullable = true)\n",
      " |-- forename: string (nullable = true)\n",
      " |-- surname: string (nullable = true)\n",
      " |-- dob: string (nullable = true)\n",
      " |-- nationality: string (nullable = true)\n",
      " |-- url: string (nullable = true)\n",
      "\n",
      "lapTimes\n",
      "root\n",
      " |-- raceId: string (nullable = true)\n",
      " |-- driverId: string (nullable = true)\n",
      " |-- lap: string (nullable = true)\n",
      " |-- position: string (nullable = true)\n",
      " |-- time: string (nullable = true)\n",
      " |-- milliseconds: string (nullable = true)\n",
      "\n",
      "pitStops\n",
      "root\n",
      " |-- raceId: string (nullable = true)\n",
      " |-- driverId: string (nullable = true)\n",
      " |-- stop: string (nullable = true)\n",
      " |-- lap: string (nullable = true)\n",
      " |-- time: string (nullable = true)\n",
      " |-- duration: string (nullable = true)\n",
      " |-- milliseconds: string (nullable = true)\n",
      "\n",
      "qualifying\n",
      "root\n",
      " |-- qualifyId: string (nullable = true)\n",
      " |-- raceId: string (nullable = true)\n",
      " |-- driverId: string (nullable = true)\n",
      " |-- constructorId: string (nullable = true)\n",
      " |-- number: string (nullable = true)\n",
      " |-- position: string (nullable = true)\n",
      " |-- q1: string (nullable = true)\n",
      " |-- q2: string (nullable = true)\n",
      " |-- q3: string (nullable = true)\n",
      "\n",
      "races\n",
      "root\n",
      " |-- raceId: string (nullable = true)\n",
      " |-- year: string (nullable = true)\n",
      " |-- round: string (nullable = true)\n",
      " |-- circuitId: string (nullable = true)\n",
      " |-- name: string (nullable = true)\n",
      " |-- date: string (nullable = true)\n",
      " |-- time: string (nullable = true)\n",
      " |-- url: string (nullable = true)\n",
      "\n",
      "results\n",
      "root\n",
      " |-- resultId: string (nullable = true)\n",
      " |-- raceId: string (nullable = true)\n",
      " |-- driverId: string (nullable = true)\n",
      " |-- constructorId: string (nullable = true)\n",
      " |-- number: string (nullable = true)\n",
      " |-- grid: string (nullable = true)\n",
      " |-- position: string (nullable = true)\n",
      " |-- positionText: string (nullable = true)\n",
      " |-- positionOrder: string (nullable = true)\n",
      " |-- points: string (nullable = true)\n",
      " |-- laps: string (nullable = true)\n",
      " |-- time: string (nullable = true)\n",
      " |-- milliseconds: string (nullable = true)\n",
      " |-- fastestLap: string (nullable = true)\n",
      " |-- rank: string (nullable = true)\n",
      " |-- fastestLapTime: string (nullable = true)\n",
      " |-- fastestLapSpeed: string (nullable = true)\n",
      " |-- statusId: string (nullable = true)\n",
      "\n",
      "seasons\n",
      "root\n",
      " |-- year: string (nullable = true)\n",
      " |-- url: string (nullable = true)\n",
      "\n",
      "status\n",
      "root\n",
      " |-- statusId: string (nullable = true)\n",
      " |-- status: string (nullable = true)\n",
      "\n"
     ]
    }
   ],
   "source": [
    "for file, df in dfs.items():\n",
    "    print(file)\n",
    "    df.printSchema()"
   ]
  },
  {
   "cell_type": "code",
   "execution_count": 10,
   "id": "c9a482e0",
   "metadata": {},
   "outputs": [
    {
     "name": "stdout",
     "output_type": "stream",
     "text": [
      "+----+--------------------+\n",
      "|year|                 url|\n",
      "+----+--------------------+\n",
      "|2009|http://en.wikiped...|\n",
      "|2008|http://en.wikiped...|\n",
      "|2007|http://en.wikiped...|\n",
      "|2006|http://en.wikiped...|\n",
      "|2005|http://en.wikiped...|\n",
      "|2004|http://en.wikiped...|\n",
      "|2003|http://en.wikiped...|\n",
      "|2002|http://en.wikiped...|\n",
      "|2001|http://en.wikiped...|\n",
      "|2000|http://en.wikiped...|\n",
      "|1999|http://en.wikiped...|\n",
      "|1998|http://en.wikiped...|\n",
      "|1997|http://en.wikiped...|\n",
      "|1996|http://en.wikiped...|\n",
      "|1995|http://en.wikiped...|\n",
      "|1994|http://en.wikiped...|\n",
      "|1993|http://en.wikiped...|\n",
      "|1992|http://en.wikiped...|\n",
      "|1991|http://en.wikiped...|\n",
      "|1990|http://en.wikiped...|\n",
      "+----+--------------------+\n",
      "only showing top 20 rows\n",
      "\n"
     ]
    }
   ],
   "source": [
    "dfs[\"seasons\"].show()"
   ]
  },
  {
   "cell_type": "markdown",
   "id": "9a6fd966",
   "metadata": {},
   "source": [
    "## Q1"
   ]
  },
  {
   "cell_type": "code",
   "execution_count": 11,
   "id": "b34aa97b",
   "metadata": {},
   "outputs": [],
   "source": [
    "last_10_seasons = dfs[\"seasons\"].orderBy(dfs[\"seasons\"].year.desc()).limit(10)"
   ]
  },
  {
   "cell_type": "code",
   "execution_count": 12,
   "id": "81271ecb",
   "metadata": {},
   "outputs": [],
   "source": [
    "races_last_10_seasons = dfs[\"races\"].filter(\n",
    "    (dfs[\"races\"].year.isin(list(last_10_seasons.toPandas()[\"year\"])))\n",
    ")"
   ]
  },
  {
   "cell_type": "code",
   "execution_count": 13,
   "id": "3f199666",
   "metadata": {},
   "outputs": [],
   "source": [
    "dfs[\"results\"] = dfs[\"results\"].withColumn(\"points_\", dfs[\"results\"].points.cast(\"int\"))"
   ]
  },
  {
   "cell_type": "code",
   "execution_count": 14,
   "id": "88ba1d51",
   "metadata": {},
   "outputs": [
    {
     "name": "stdout",
     "output_type": "stream",
     "text": [
      "+--------+--------------+------------------+----------+\n",
      "|driverId|     driverRef|        avg_points|all_points|\n",
      "+--------+--------------+------------------+----------+\n",
      "|       1|      hamilton|13.890173410404625|      2403|\n",
      "|      20|        vettel|13.780346820809248|      2384|\n",
      "|       3|       rosberg| 10.15032679738562|      1553|\n",
      "|      17|        webber|10.074468085106384|       947|\n",
      "|       8|     raikkonen| 7.774436090225564|      1034|\n",
      "|       4|        alonso| 7.635294117647059|      1298|\n",
      "|     822|        bottas|7.3061224489795915|       716|\n",
      "|     830|max_verstappen| 7.016666666666667|       421|\n",
      "|      18|        button| 6.512987012987013|      1003|\n",
      "|     817|     ricciardo| 6.325581395348837|       816|\n",
      "+--------+--------------+------------------+----------+\n",
      "\n"
     ]
    }
   ],
   "source": [
    "dfs[\"results\"].join(\n",
    "    races_last_10_seasons, dfs[\"results\"].raceId == races_last_10_seasons.raceId, \"inner\"\n",
    ").join(\n",
    "    dfs[\"drivers\"], dfs[\"results\"].driverId == dfs[\"drivers\"].driverId, \"inner\"\n",
    ").groupBy(\n",
    "    dfs[\"results\"].driverId, dfs[\"drivers\"].driverRef\n",
    ").agg(\n",
    "    avg(\"points_\").alias(\"avg_points\"),\n",
    "    sum(\"points_\").alias(\"all_points\")\n",
    ").orderBy(\n",
    "    col(\"avg_points\").desc()\n",
    ").limit(10).show()"
   ]
  }
 ],
 "metadata": {
  "kernelspec": {
   "display_name": "Python 3",
   "language": "python",
   "name": "python3"
  },
  "language_info": {
   "codemirror_mode": {
    "name": "ipython",
    "version": 3
   },
   "file_extension": ".py",
   "mimetype": "text/x-python",
   "name": "python",
   "nbconvert_exporter": "python",
   "pygments_lexer": "ipython3",
   "version": "3.6.9"
  }
 },
 "nbformat": 4,
 "nbformat_minor": 5
}
