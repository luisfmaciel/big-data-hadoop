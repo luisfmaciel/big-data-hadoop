{
 "cells": [
  {
   "cell_type": "code",
   "execution_count": 1,
   "id": "29f75b2f",
   "metadata": {},
   "outputs": [],
   "source": [
    "import findspark\n",
    "findspark.init()\n",
    "from pyspark import SparkContext, SparkConf, SQLContext\n",
    "from pyspark.sql import SparkSession\n",
    "from pyspark.sql.functions import col, sum, avg, row_number, max\n",
    "from pyspark.sql.types import StructType, StructField, IntegerType, StringType\n",
    "from pyspark.sql.window import Window\n",
    "from pathlib import Path"
   ]
  },
  {
   "cell_type": "code",
   "execution_count": 2,
   "id": "c429d3f4",
   "metadata": {},
   "outputs": [],
   "source": [
    "conf = SparkConf().setAppName(\"tsv-file-import-example\")\n",
    "sc = SparkContext(conf=conf)\n",
    "spark = SparkSession(sc)"
   ]
  },
  {
   "cell_type": "code",
   "execution_count": 3,
   "id": "13f09492",
   "metadata": {},
   "outputs": [],
   "source": [
    "def shape(df):\n",
    "    return (df.count(), len(df.columns))"
   ]
  },
  {
   "cell_type": "markdown",
   "id": "32ef6af2",
   "metadata": {},
   "source": [
    "#### Carregando arquivo exemplo IMDb"
   ]
  },
  {
   "cell_type": "code",
   "execution_count": 4,
   "id": "c26776c1",
   "metadata": {},
   "outputs": [
    {
     "name": "stdout",
     "output_type": "stream",
     "text": [
      "put: `title.akas.tsv': File exists\n",
      "CPU times: user 68.9 ms, sys: 35.8 ms, total: 105 ms\n",
      "Wall time: 2.82 s\n"
     ]
    }
   ],
   "source": [
    "%%time\n",
    "! hadoop fs -put ../datasets/imdb/title.akas.tsv"
   ]
  },
  {
   "cell_type": "code",
   "execution_count": 5,
   "id": "e926c0dd",
   "metadata": {},
   "outputs": [
    {
     "name": "stdout",
     "output_type": "stream",
     "text": [
      "Found 3 items\r\n",
      "drwxr-xr-x   - root supergroup          0 2023-04-04 00:30 .sparkStaging\r\n",
      "-rw-r--r--   2 root supergroup  311498305 2023-04-04 00:24 artist\r\n",
      "-rw-r--r--   2 root supergroup 1763456390 2023-04-03 23:33 title.akas.tsv\r\n"
     ]
    }
   ],
   "source": [
    "! hadoop fs -ls"
   ]
  },
  {
   "cell_type": "code",
   "execution_count": 6,
   "id": "738e09ee",
   "metadata": {},
   "outputs": [],
   "source": [
    "df_title = spark.read.format(\n",
    "    \"csv\"\n",
    ").option(\n",
    "    \"header\", \"true\"\n",
    ").option(\n",
    "    \"delimiter\", \"\\t\"\n",
    ").load(\n",
    "    \"title.akas.tsv\"\n",
    ")"
   ]
  },
  {
   "cell_type": "code",
   "execution_count": 7,
   "id": "11be86da",
   "metadata": {},
   "outputs": [
    {
     "data": {
      "text/plain": [
       "(35514712, 8)"
      ]
     },
     "execution_count": 7,
     "metadata": {},
     "output_type": "execute_result"
    }
   ],
   "source": [
    "shape(df_title)"
   ]
  },
  {
   "cell_type": "code",
   "execution_count": 8,
   "id": "70634e20",
   "metadata": {},
   "outputs": [],
   "source": [
    "df_title_br = df_title.filter(\"region = 'BR'\")"
   ]
  },
  {
   "cell_type": "code",
   "execution_count": 9,
   "id": "78e77818",
   "metadata": {},
   "outputs": [
    {
     "data": {
      "text/plain": [
       "(117095, 8)"
      ]
     },
     "execution_count": 9,
     "metadata": {},
     "output_type": "execute_result"
    }
   ],
   "source": [
    "shape(df_title_br)"
   ]
  },
  {
   "cell_type": "code",
   "execution_count": 10,
   "id": "49d52ac8",
   "metadata": {},
   "outputs": [
    {
     "data": {
      "text/plain": [
       "Row(titleId='tt0000010', ordering='2', title='A Saída dos Operários da Fábrica Lumière', region='BR', language='\\\\N', types='\\\\N', attributes='\\\\N', isOriginalTitle='0')"
      ]
     },
     "execution_count": 10,
     "metadata": {},
     "output_type": "execute_result"
    }
   ],
   "source": [
    "df_title_br.collect()[0]"
   ]
  },
  {
   "cell_type": "markdown",
   "id": "8b8ac7f9",
   "metadata": {},
   "source": [
    "#### Carregando arquivo exemplo MusicBrainz"
   ]
  },
  {
   "cell_type": "code",
   "execution_count": 27,
   "id": "72dcfe06",
   "metadata": {},
   "outputs": [],
   "source": [
    "schema = StructType([\n",
    "    StructField(\"id\", IntegerType(), True),\n",
    "    StructField(\"gid\", StringType(), True),\n",
    "    StructField(\"name\", StringType(), True),\n",
    "    StructField(\"sort_name\", StringType(), True),\n",
    "    StructField(\"begin_date_year\", IntegerType(), True),\n",
    "    StructField(\"begin_date_month\", IntegerType(), True),\n",
    "    StructField(\"begin_date_day\", IntegerType(), True),\n",
    "    StructField(\"end_date_year\", IntegerType(), True),\n",
    "    StructField(\"end_date_month\", IntegerType(), True),\n",
    "    StructField(\"end_date_day\", IntegerType(), True),\n",
    "    StructField(\"type\", StringType(), True),\n",
    "    StructField(\"area\", IntegerType(), True),\n",
    "    StructField(\"gender\", StringType(), True),\n",
    "    StructField(\"comment\", StringType(), True),\n",
    "    StructField(\"edits_pending\", StringType(), True),\n",
    "    StructField(\"last_updated\", StringType(), True),\n",
    "    StructField(\"ended\", StringType(), True),\n",
    "])"
   ]
  },
  {
   "cell_type": "code",
   "execution_count": 28,
   "id": "00c1c287",
   "metadata": {},
   "outputs": [
    {
     "name": "stdout",
     "output_type": "stream",
     "text": [
      "put: `artist': File exists\n",
      "CPU times: user 30.1 ms, sys: 43.2 ms, total: 73.3 ms\n",
      "Wall time: 2.4 s\n"
     ]
    }
   ],
   "source": [
    "%%time\n",
    "! hadoop fs -put ../datasets/music-brainz/mbdump/artist"
   ]
  },
  {
   "cell_type": "code",
   "execution_count": 29,
   "id": "33f2415f",
   "metadata": {},
   "outputs": [],
   "source": [
    "df_artist = spark.read.format(\n",
    "    \"csv\"\n",
    ").option(\n",
    "    \"header\", \"false\"\n",
    ").schema(\n",
    "    schema\n",
    ").option(\n",
    "    \"delimiter\", \"\\t\"\n",
    ").load(\n",
    "    \"artist\"\n",
    ")"
   ]
  },
  {
   "cell_type": "code",
   "execution_count": 30,
   "id": "e042df16",
   "metadata": {},
   "outputs": [
    {
     "data": {
      "text/plain": [
       "(2142744, 17)"
      ]
     },
     "execution_count": 30,
     "metadata": {},
     "output_type": "execute_result"
    }
   ],
   "source": [
    "shape(df_artist)"
   ]
  },
  {
   "cell_type": "code",
   "execution_count": 31,
   "id": "e0f0bf16",
   "metadata": {},
   "outputs": [
    {
     "name": "stdout",
     "output_type": "stream",
     "text": [
      "+-------+--------------------+--------------------+---------------+-----+------+\n",
      "|     id|                name|           sort_name|begin_date_year| area|gender|\n",
      "+-------+--------------------+--------------------+---------------+-----+------+\n",
      "|2133822|              Arcada|              Arcada|           2012|  167|    \\N|\n",
      "| 886710|        The Trippers|       Trippers, The|           2000|  221|    \\N|\n",
      "|1007384|          Limbo Kids|          Limbo Kids|           2012|  221|    \\N|\n",
      "|1805018|  Give Him 6 Podcast|  Give Him 6 Podcast|           2017|  303|     4|\n",
      "|1509774|               JANAJ|               JANAJ|           2014|80913|    \\N|\n",
      "| 889105|             The Kik|            Kik, The|           2011|  150|    \\N|\n",
      "|2447568|              Dargor|              Dargor|           2018|  170|    \\N|\n",
      "|1335578|             Dendera|             Dendera|           2008|  221|    \\N|\n",
      "| 883032|      Broken & Burnt|      Broken & Burnt|           2011|   30|    \\N|\n",
      "|1808035|      Conwaythewhale|      Conwaythewhale|           2011|53972|    \\N|\n",
      "|1000776|         CheerLeader|         CheerLeader|           2001|  221|    \\N|\n",
      "| 518489|               Verge|               Verge|           2007|   81|    \\N|\n",
      "| 815793|          iLa Mawana|          iLa Mawana|           2009|  222|    \\N|\n",
      "| 227072|No Hope in New Je...|No Hope in New Je...|           2003|  221|    \\N|\n",
      "| 245690|               Kiuas|               Kiuas|           2000|   72|    \\N|\n",
      "| 727582|   The Black Lillies|  Black Lillies, The|           2009|  222|    \\N|\n",
      "|1509779|  Brothers in Chains|  Brothers in Chains|           2012|  221|    \\N|\n",
      "|1657726|         Strange Boy|         Strange Boy|           2017| 1178|    \\N|\n",
      "|  99107|       Perfect State|       Perfect State|           2001|   21|    \\N|\n",
      "| 100638|     Slow Coming Day|     Slow Coming Day|           2001|  222|    \\N|\n",
      "| 244600|           Iconcrash|           Iconcrash|           2003|   72|    \\N|\n",
      "|1095967|            Deathday|            Deathday|           2008|  222|    \\N|\n",
      "| 755150|           Devathorn|           Devathorn|           2002|12762|    \\N|\n",
      "| 265564|              Odawas|              Odawas|           2003| 7288|    \\N|\n",
      "| 835675|                Mhoo|                Mhoo|           2009|  160|    \\N|\n",
      "| 135818|       The Mess Hall|      Mess Hall, The|           2001|   13|    \\N|\n",
      "|1509783|        She Said You|        She Said You|           2007|   13|    \\N|\n",
      "| 293173|                5ive|                5ive|           2000|  222|    \\N|\n",
      "|1237506|   Peter Bič Project| Bič, Peter, Project|           2010|  189|    \\N|\n",
      "| 816543|     Wing-It Singers|     Wing-It Singers|           2001|  221|    \\N|\n",
      "| 631688|              Arkaea|              Arkaea|           2008|  222|    \\N|\n",
      "|  62665|             Shurman|             Shurman|           2001| 5196|    \\N|\n",
      "|1159395|Shadows in the Crypt|Shadows in the Crypt|           2009|  222|    \\N|\n",
      "| 835678|Stronzo Gelantino...|Gelantino, Stronz...|           2003|   81|    \\N|\n",
      "| 578049|     Drawn From Bees|     Drawn From Bees|           2008|   13|    \\N|\n",
      "| 209018|   Genetic Selection|   Genetic Selection|           2002|69751|    \\N|\n",
      "| 835682|      Kubrick’s Cube|      Kubrick’s Cube|           2009|  176|    \\N|\n",
      "|1808051|        Shots Called|        Shots Called|           2013| 7707|    \\N|\n",
      "| 528850|          Tutarchela|          Tutarchela|           2004|   80|    \\N|\n",
      "| 673420|    Kommando Elefant|    Kommando Elefant|           2007|   14|    \\N|\n",
      "|  80670|            Bonafide|            Bonafide|           2006|  202|    \\N|\n",
      "| 429873|            Creature|            Creature|           2004|   38|    \\N|\n",
      "|2252062|    Rue Des Cascades|    Rue Des Cascades|           2010|98200|    \\N|\n",
      "|1182571|      China Syndrome|      China Syndrome|           2004| 5212|    \\N|\n",
      "|1172887|               Ørdøg|               Ørdøg|           2013|   97|    \\N|\n",
      "|1007388|         The Doltish|        Doltish, The|           2009|  149|    \\N|\n",
      "| 272866|       Felix Project|       Felix Project|           2005|   21|    \\N|\n",
      "|1808052|      Sianney Garcia|     Garcia, Sianney|           2001|  222|     2|\n",
      "|1594786|          Okey Dokey|          Okey Dokey|           2016| 5213|    \\N|\n",
      "| 539620|Psychedelic Horse...|Psychedelic Horse...|           2005|  222|    \\N|\n",
      "+-------+--------------------+--------------------+---------------+-----+------+\n",
      "only showing top 50 rows\n",
      "\n"
     ]
    }
   ],
   "source": [
    "df_artist.select(\n",
    "    \"id\", \"name\", \"sort_name\", \"begin_date_year\", \"area\", \"gender\"\n",
    ").filter(\n",
    "    \"begin_date_year >= 2000\"\n",
    ").show(50)"
   ]
  }
 ],
 "metadata": {
  "kernelspec": {
   "display_name": "Python 3",
   "language": "python",
   "name": "python3"
  },
  "language_info": {
   "codemirror_mode": {
    "name": "ipython",
    "version": 3
   },
   "file_extension": ".py",
   "mimetype": "text/x-python",
   "name": "python",
   "nbconvert_exporter": "python",
   "pygments_lexer": "ipython3",
   "version": "3.6.9"
  }
 },
 "nbformat": 4,
 "nbformat_minor": 5
}
